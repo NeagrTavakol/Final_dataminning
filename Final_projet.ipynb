{
  "nbformat": 4,
  "nbformat_minor": 0,
  "metadata": {
    "colab": {
      "name": "Final_projet.ipynb",
      "provenance": [],
      "collapsed_sections": [],
      "authorship_tag": "ABX9TyPn6ATzqBq6/yxJ7Im3XQVI",
      "include_colab_link": true
    },
    "kernelspec": {
      "name": "python3",
      "display_name": "Python 3"
    },
    "language_info": {
      "name": "python"
    },
    "widgets": {
      "application/vnd.jupyter.widget-state+json": {
        "b6c12bd476254c3e8c68da3a2aa88919": {
          "model_module": "@jupyter-widgets/controls",
          "model_name": "HBoxModel",
          "model_module_version": "1.5.0",
          "state": {
            "_view_name": "HBoxView",
            "_dom_classes": [],
            "_model_name": "HBoxModel",
            "_view_module": "@jupyter-widgets/controls",
            "_model_module_version": "1.5.0",
            "_view_count": null,
            "_view_module_version": "1.5.0",
            "box_style": "",
            "layout": "IPY_MODEL_a6e4a0f790d44ce98c0097fc93f3311f",
            "_model_module": "@jupyter-widgets/controls",
            "children": [
              "IPY_MODEL_876b5e85aa1a40529626e699ce4c8d01",
              "IPY_MODEL_8287fbaa69eb44f395bac0abebc0748b",
              "IPY_MODEL_949a0b51672543a0819307796f550b43"
            ]
          }
        },
        "a6e4a0f790d44ce98c0097fc93f3311f": {
          "model_module": "@jupyter-widgets/base",
          "model_name": "LayoutModel",
          "model_module_version": "1.2.0",
          "state": {
            "_view_name": "LayoutView",
            "grid_template_rows": null,
            "right": null,
            "justify_content": null,
            "_view_module": "@jupyter-widgets/base",
            "overflow": null,
            "_model_module_version": "1.2.0",
            "_view_count": null,
            "flex_flow": null,
            "width": null,
            "min_width": null,
            "border": null,
            "align_items": null,
            "bottom": null,
            "_model_module": "@jupyter-widgets/base",
            "top": null,
            "grid_column": null,
            "overflow_y": null,
            "overflow_x": null,
            "grid_auto_flow": null,
            "grid_area": null,
            "grid_template_columns": null,
            "flex": null,
            "_model_name": "LayoutModel",
            "justify_items": null,
            "grid_row": null,
            "max_height": null,
            "align_content": null,
            "visibility": null,
            "align_self": null,
            "height": null,
            "min_height": null,
            "padding": null,
            "grid_auto_rows": null,
            "grid_gap": null,
            "max_width": null,
            "order": null,
            "_view_module_version": "1.2.0",
            "grid_template_areas": null,
            "object_position": null,
            "object_fit": null,
            "grid_auto_columns": null,
            "margin": null,
            "display": null,
            "left": null
          }
        },
        "876b5e85aa1a40529626e699ce4c8d01": {
          "model_module": "@jupyter-widgets/controls",
          "model_name": "HTMLModel",
          "model_module_version": "1.5.0",
          "state": {
            "_view_name": "HTMLView",
            "style": "IPY_MODEL_7fdcaac760c146ccaf1a46cac665a41b",
            "_dom_classes": [],
            "description": "",
            "_model_name": "HTMLModel",
            "placeholder": "​",
            "_view_module": "@jupyter-widgets/controls",
            "_model_module_version": "1.5.0",
            "value": "Downloading https://raw.githubusercontent.com/stanfordnlp/stanza-resources/main/resources_1.3.0.json: ",
            "_view_count": null,
            "_view_module_version": "1.5.0",
            "description_tooltip": null,
            "_model_module": "@jupyter-widgets/controls",
            "layout": "IPY_MODEL_5a45470ad36c44cab6eadabe3fe28654"
          }
        },
        "8287fbaa69eb44f395bac0abebc0748b": {
          "model_module": "@jupyter-widgets/controls",
          "model_name": "FloatProgressModel",
          "model_module_version": "1.5.0",
          "state": {
            "_view_name": "ProgressView",
            "style": "IPY_MODEL_2bb6a747dfac4efca6030973b4a2e2fa",
            "_dom_classes": [],
            "description": "",
            "_model_name": "FloatProgressModel",
            "bar_style": "success",
            "max": 24459,
            "_view_module": "@jupyter-widgets/controls",
            "_model_module_version": "1.5.0",
            "value": 24459,
            "_view_count": null,
            "_view_module_version": "1.5.0",
            "orientation": "horizontal",
            "min": 0,
            "description_tooltip": null,
            "_model_module": "@jupyter-widgets/controls",
            "layout": "IPY_MODEL_df926a8efa7f411f8c494a1854b69cab"
          }
        },
        "949a0b51672543a0819307796f550b43": {
          "model_module": "@jupyter-widgets/controls",
          "model_name": "HTMLModel",
          "model_module_version": "1.5.0",
          "state": {
            "_view_name": "HTMLView",
            "style": "IPY_MODEL_bedbdfbe4828413b83022c085bcefee5",
            "_dom_classes": [],
            "description": "",
            "_model_name": "HTMLModel",
            "placeholder": "​",
            "_view_module": "@jupyter-widgets/controls",
            "_model_module_version": "1.5.0",
            "value": " 142k/? [00:00&lt;00:00, 1.24MB/s]",
            "_view_count": null,
            "_view_module_version": "1.5.0",
            "description_tooltip": null,
            "_model_module": "@jupyter-widgets/controls",
            "layout": "IPY_MODEL_ddd5351fbdfa4f75a1180f348445f9a0"
          }
        },
        "7fdcaac760c146ccaf1a46cac665a41b": {
          "model_module": "@jupyter-widgets/controls",
          "model_name": "DescriptionStyleModel",
          "model_module_version": "1.5.0",
          "state": {
            "_view_name": "StyleView",
            "_model_name": "DescriptionStyleModel",
            "description_width": "",
            "_view_module": "@jupyter-widgets/base",
            "_model_module_version": "1.5.0",
            "_view_count": null,
            "_view_module_version": "1.2.0",
            "_model_module": "@jupyter-widgets/controls"
          }
        },
        "5a45470ad36c44cab6eadabe3fe28654": {
          "model_module": "@jupyter-widgets/base",
          "model_name": "LayoutModel",
          "model_module_version": "1.2.0",
          "state": {
            "_view_name": "LayoutView",
            "grid_template_rows": null,
            "right": null,
            "justify_content": null,
            "_view_module": "@jupyter-widgets/base",
            "overflow": null,
            "_model_module_version": "1.2.0",
            "_view_count": null,
            "flex_flow": null,
            "width": null,
            "min_width": null,
            "border": null,
            "align_items": null,
            "bottom": null,
            "_model_module": "@jupyter-widgets/base",
            "top": null,
            "grid_column": null,
            "overflow_y": null,
            "overflow_x": null,
            "grid_auto_flow": null,
            "grid_area": null,
            "grid_template_columns": null,
            "flex": null,
            "_model_name": "LayoutModel",
            "justify_items": null,
            "grid_row": null,
            "max_height": null,
            "align_content": null,
            "visibility": null,
            "align_self": null,
            "height": null,
            "min_height": null,
            "padding": null,
            "grid_auto_rows": null,
            "grid_gap": null,
            "max_width": null,
            "order": null,
            "_view_module_version": "1.2.0",
            "grid_template_areas": null,
            "object_position": null,
            "object_fit": null,
            "grid_auto_columns": null,
            "margin": null,
            "display": null,
            "left": null
          }
        },
        "2bb6a747dfac4efca6030973b4a2e2fa": {
          "model_module": "@jupyter-widgets/controls",
          "model_name": "ProgressStyleModel",
          "model_module_version": "1.5.0",
          "state": {
            "_view_name": "StyleView",
            "_model_name": "ProgressStyleModel",
            "description_width": "",
            "_view_module": "@jupyter-widgets/base",
            "_model_module_version": "1.5.0",
            "_view_count": null,
            "_view_module_version": "1.2.0",
            "bar_color": null,
            "_model_module": "@jupyter-widgets/controls"
          }
        },
        "df926a8efa7f411f8c494a1854b69cab": {
          "model_module": "@jupyter-widgets/base",
          "model_name": "LayoutModel",
          "model_module_version": "1.2.0",
          "state": {
            "_view_name": "LayoutView",
            "grid_template_rows": null,
            "right": null,
            "justify_content": null,
            "_view_module": "@jupyter-widgets/base",
            "overflow": null,
            "_model_module_version": "1.2.0",
            "_view_count": null,
            "flex_flow": null,
            "width": null,
            "min_width": null,
            "border": null,
            "align_items": null,
            "bottom": null,
            "_model_module": "@jupyter-widgets/base",
            "top": null,
            "grid_column": null,
            "overflow_y": null,
            "overflow_x": null,
            "grid_auto_flow": null,
            "grid_area": null,
            "grid_template_columns": null,
            "flex": null,
            "_model_name": "LayoutModel",
            "justify_items": null,
            "grid_row": null,
            "max_height": null,
            "align_content": null,
            "visibility": null,
            "align_self": null,
            "height": null,
            "min_height": null,
            "padding": null,
            "grid_auto_rows": null,
            "grid_gap": null,
            "max_width": null,
            "order": null,
            "_view_module_version": "1.2.0",
            "grid_template_areas": null,
            "object_position": null,
            "object_fit": null,
            "grid_auto_columns": null,
            "margin": null,
            "display": null,
            "left": null
          }
        },
        "bedbdfbe4828413b83022c085bcefee5": {
          "model_module": "@jupyter-widgets/controls",
          "model_name": "DescriptionStyleModel",
          "model_module_version": "1.5.0",
          "state": {
            "_view_name": "StyleView",
            "_model_name": "DescriptionStyleModel",
            "description_width": "",
            "_view_module": "@jupyter-widgets/base",
            "_model_module_version": "1.5.0",
            "_view_count": null,
            "_view_module_version": "1.2.0",
            "_model_module": "@jupyter-widgets/controls"
          }
        },
        "ddd5351fbdfa4f75a1180f348445f9a0": {
          "model_module": "@jupyter-widgets/base",
          "model_name": "LayoutModel",
          "model_module_version": "1.2.0",
          "state": {
            "_view_name": "LayoutView",
            "grid_template_rows": null,
            "right": null,
            "justify_content": null,
            "_view_module": "@jupyter-widgets/base",
            "overflow": null,
            "_model_module_version": "1.2.0",
            "_view_count": null,
            "flex_flow": null,
            "width": null,
            "min_width": null,
            "border": null,
            "align_items": null,
            "bottom": null,
            "_model_module": "@jupyter-widgets/base",
            "top": null,
            "grid_column": null,
            "overflow_y": null,
            "overflow_x": null,
            "grid_auto_flow": null,
            "grid_area": null,
            "grid_template_columns": null,
            "flex": null,
            "_model_name": "LayoutModel",
            "justify_items": null,
            "grid_row": null,
            "max_height": null,
            "align_content": null,
            "visibility": null,
            "align_self": null,
            "height": null,
            "min_height": null,
            "padding": null,
            "grid_auto_rows": null,
            "grid_gap": null,
            "max_width": null,
            "order": null,
            "_view_module_version": "1.2.0",
            "grid_template_areas": null,
            "object_position": null,
            "object_fit": null,
            "grid_auto_columns": null,
            "margin": null,
            "display": null,
            "left": null
          }
        },
        "119a00c2712a4157b1d871383ed9a229": {
          "model_module": "@jupyter-widgets/controls",
          "model_name": "HBoxModel",
          "model_module_version": "1.5.0",
          "state": {
            "_view_name": "HBoxView",
            "_dom_classes": [],
            "_model_name": "HBoxModel",
            "_view_module": "@jupyter-widgets/controls",
            "_model_module_version": "1.5.0",
            "_view_count": null,
            "_view_module_version": "1.5.0",
            "box_style": "",
            "layout": "IPY_MODEL_bba93a1a13404040b05c2ed8f0e39b23",
            "_model_module": "@jupyter-widgets/controls",
            "children": [
              "IPY_MODEL_84a34a567fac45f0b1216bfb80767b49",
              "IPY_MODEL_6d23e7594981477490027a3aeab608e6",
              "IPY_MODEL_0be51d87805142f5add9a18d9e8022bd"
            ]
          }
        },
        "bba93a1a13404040b05c2ed8f0e39b23": {
          "model_module": "@jupyter-widgets/base",
          "model_name": "LayoutModel",
          "model_module_version": "1.2.0",
          "state": {
            "_view_name": "LayoutView",
            "grid_template_rows": null,
            "right": null,
            "justify_content": null,
            "_view_module": "@jupyter-widgets/base",
            "overflow": null,
            "_model_module_version": "1.2.0",
            "_view_count": null,
            "flex_flow": null,
            "width": null,
            "min_width": null,
            "border": null,
            "align_items": null,
            "bottom": null,
            "_model_module": "@jupyter-widgets/base",
            "top": null,
            "grid_column": null,
            "overflow_y": null,
            "overflow_x": null,
            "grid_auto_flow": null,
            "grid_area": null,
            "grid_template_columns": null,
            "flex": null,
            "_model_name": "LayoutModel",
            "justify_items": null,
            "grid_row": null,
            "max_height": null,
            "align_content": null,
            "visibility": null,
            "align_self": null,
            "height": null,
            "min_height": null,
            "padding": null,
            "grid_auto_rows": null,
            "grid_gap": null,
            "max_width": null,
            "order": null,
            "_view_module_version": "1.2.0",
            "grid_template_areas": null,
            "object_position": null,
            "object_fit": null,
            "grid_auto_columns": null,
            "margin": null,
            "display": null,
            "left": null
          }
        },
        "84a34a567fac45f0b1216bfb80767b49": {
          "model_module": "@jupyter-widgets/controls",
          "model_name": "HTMLModel",
          "model_module_version": "1.5.0",
          "state": {
            "_view_name": "HTMLView",
            "style": "IPY_MODEL_370d011519874337b469ca12a7b5f04e",
            "_dom_classes": [],
            "description": "",
            "_model_name": "HTMLModel",
            "placeholder": "​",
            "_view_module": "@jupyter-widgets/controls",
            "_model_module_version": "1.5.0",
            "value": "Downloading https://huggingface.co/stanfordnlp/stanza-fa/resolve/v1.3.0/models/default.zip: 100%",
            "_view_count": null,
            "_view_module_version": "1.5.0",
            "description_tooltip": null,
            "_model_module": "@jupyter-widgets/controls",
            "layout": "IPY_MODEL_19fc5bb9c1154a49a7c8f79b827ad506"
          }
        },
        "6d23e7594981477490027a3aeab608e6": {
          "model_module": "@jupyter-widgets/controls",
          "model_name": "FloatProgressModel",
          "model_module_version": "1.5.0",
          "state": {
            "_view_name": "ProgressView",
            "style": "IPY_MODEL_e476d6ed83244117933101b084ecdd9e",
            "_dom_classes": [],
            "description": "",
            "_model_name": "FloatProgressModel",
            "bar_style": "success",
            "max": 210965214,
            "_view_module": "@jupyter-widgets/controls",
            "_model_module_version": "1.5.0",
            "value": 210965214,
            "_view_count": null,
            "_view_module_version": "1.5.0",
            "orientation": "horizontal",
            "min": 0,
            "description_tooltip": null,
            "_model_module": "@jupyter-widgets/controls",
            "layout": "IPY_MODEL_1eb0be0ba6de4fa99900db1560c38d88"
          }
        },
        "0be51d87805142f5add9a18d9e8022bd": {
          "model_module": "@jupyter-widgets/controls",
          "model_name": "HTMLModel",
          "model_module_version": "1.5.0",
          "state": {
            "_view_name": "HTMLView",
            "style": "IPY_MODEL_888712e42f294dae9c28800fd7582aca",
            "_dom_classes": [],
            "description": "",
            "_model_name": "HTMLModel",
            "placeholder": "​",
            "_view_module": "@jupyter-widgets/controls",
            "_model_module_version": "1.5.0",
            "value": " 211M/211M [00:01&lt;00:00, 109MB/s]",
            "_view_count": null,
            "_view_module_version": "1.5.0",
            "description_tooltip": null,
            "_model_module": "@jupyter-widgets/controls",
            "layout": "IPY_MODEL_6b857856f9364e83bda35cd46d1826c4"
          }
        },
        "370d011519874337b469ca12a7b5f04e": {
          "model_module": "@jupyter-widgets/controls",
          "model_name": "DescriptionStyleModel",
          "model_module_version": "1.5.0",
          "state": {
            "_view_name": "StyleView",
            "_model_name": "DescriptionStyleModel",
            "description_width": "",
            "_view_module": "@jupyter-widgets/base",
            "_model_module_version": "1.5.0",
            "_view_count": null,
            "_view_module_version": "1.2.0",
            "_model_module": "@jupyter-widgets/controls"
          }
        },
        "19fc5bb9c1154a49a7c8f79b827ad506": {
          "model_module": "@jupyter-widgets/base",
          "model_name": "LayoutModel",
          "model_module_version": "1.2.0",
          "state": {
            "_view_name": "LayoutView",
            "grid_template_rows": null,
            "right": null,
            "justify_content": null,
            "_view_module": "@jupyter-widgets/base",
            "overflow": null,
            "_model_module_version": "1.2.0",
            "_view_count": null,
            "flex_flow": null,
            "width": null,
            "min_width": null,
            "border": null,
            "align_items": null,
            "bottom": null,
            "_model_module": "@jupyter-widgets/base",
            "top": null,
            "grid_column": null,
            "overflow_y": null,
            "overflow_x": null,
            "grid_auto_flow": null,
            "grid_area": null,
            "grid_template_columns": null,
            "flex": null,
            "_model_name": "LayoutModel",
            "justify_items": null,
            "grid_row": null,
            "max_height": null,
            "align_content": null,
            "visibility": null,
            "align_self": null,
            "height": null,
            "min_height": null,
            "padding": null,
            "grid_auto_rows": null,
            "grid_gap": null,
            "max_width": null,
            "order": null,
            "_view_module_version": "1.2.0",
            "grid_template_areas": null,
            "object_position": null,
            "object_fit": null,
            "grid_auto_columns": null,
            "margin": null,
            "display": null,
            "left": null
          }
        },
        "e476d6ed83244117933101b084ecdd9e": {
          "model_module": "@jupyter-widgets/controls",
          "model_name": "ProgressStyleModel",
          "model_module_version": "1.5.0",
          "state": {
            "_view_name": "StyleView",
            "_model_name": "ProgressStyleModel",
            "description_width": "",
            "_view_module": "@jupyter-widgets/base",
            "_model_module_version": "1.5.0",
            "_view_count": null,
            "_view_module_version": "1.2.0",
            "bar_color": null,
            "_model_module": "@jupyter-widgets/controls"
          }
        },
        "1eb0be0ba6de4fa99900db1560c38d88": {
          "model_module": "@jupyter-widgets/base",
          "model_name": "LayoutModel",
          "model_module_version": "1.2.0",
          "state": {
            "_view_name": "LayoutView",
            "grid_template_rows": null,
            "right": null,
            "justify_content": null,
            "_view_module": "@jupyter-widgets/base",
            "overflow": null,
            "_model_module_version": "1.2.0",
            "_view_count": null,
            "flex_flow": null,
            "width": null,
            "min_width": null,
            "border": null,
            "align_items": null,
            "bottom": null,
            "_model_module": "@jupyter-widgets/base",
            "top": null,
            "grid_column": null,
            "overflow_y": null,
            "overflow_x": null,
            "grid_auto_flow": null,
            "grid_area": null,
            "grid_template_columns": null,
            "flex": null,
            "_model_name": "LayoutModel",
            "justify_items": null,
            "grid_row": null,
            "max_height": null,
            "align_content": null,
            "visibility": null,
            "align_self": null,
            "height": null,
            "min_height": null,
            "padding": null,
            "grid_auto_rows": null,
            "grid_gap": null,
            "max_width": null,
            "order": null,
            "_view_module_version": "1.2.0",
            "grid_template_areas": null,
            "object_position": null,
            "object_fit": null,
            "grid_auto_columns": null,
            "margin": null,
            "display": null,
            "left": null
          }
        },
        "888712e42f294dae9c28800fd7582aca": {
          "model_module": "@jupyter-widgets/controls",
          "model_name": "DescriptionStyleModel",
          "model_module_version": "1.5.0",
          "state": {
            "_view_name": "StyleView",
            "_model_name": "DescriptionStyleModel",
            "description_width": "",
            "_view_module": "@jupyter-widgets/base",
            "_model_module_version": "1.5.0",
            "_view_count": null,
            "_view_module_version": "1.2.0",
            "_model_module": "@jupyter-widgets/controls"
          }
        },
        "6b857856f9364e83bda35cd46d1826c4": {
          "model_module": "@jupyter-widgets/base",
          "model_name": "LayoutModel",
          "model_module_version": "1.2.0",
          "state": {
            "_view_name": "LayoutView",
            "grid_template_rows": null,
            "right": null,
            "justify_content": null,
            "_view_module": "@jupyter-widgets/base",
            "overflow": null,
            "_model_module_version": "1.2.0",
            "_view_count": null,
            "flex_flow": null,
            "width": null,
            "min_width": null,
            "border": null,
            "align_items": null,
            "bottom": null,
            "_model_module": "@jupyter-widgets/base",
            "top": null,
            "grid_column": null,
            "overflow_y": null,
            "overflow_x": null,
            "grid_auto_flow": null,
            "grid_area": null,
            "grid_template_columns": null,
            "flex": null,
            "_model_name": "LayoutModel",
            "justify_items": null,
            "grid_row": null,
            "max_height": null,
            "align_content": null,
            "visibility": null,
            "align_self": null,
            "height": null,
            "min_height": null,
            "padding": null,
            "grid_auto_rows": null,
            "grid_gap": null,
            "max_width": null,
            "order": null,
            "_view_module_version": "1.2.0",
            "grid_template_areas": null,
            "object_position": null,
            "object_fit": null,
            "grid_auto_columns": null,
            "margin": null,
            "display": null,
            "left": null
          }
        }
      }
    }
  },
  "cells": [
    {
      "cell_type": "markdown",
      "metadata": {
        "id": "view-in-github",
        "colab_type": "text"
      },
      "source": [
        "<a href=\"https://colab.research.google.com/github/NeagrTavakol/Final_dataminning/blob/main/Final_projet.ipynb\" target=\"_parent\"><img src=\"https://colab.research.google.com/assets/colab-badge.svg\" alt=\"Open In Colab\"/></a>"
      ]
    },
    {
      "cell_type": "code",
      "source": [
        "#import libraries\n",
        "import pandas as pd\n",
        "import numpy as np\n",
        "import matplotlib.pyplot as plt"
      ],
      "metadata": {
        "id": "E5ubuf-7Mqwp"
      },
      "execution_count": 6,
      "outputs": []
    },
    {
      "cell_type": "code",
      "execution_count": 7,
      "metadata": {
        "id": "S5Zsf-6dW0BB",
        "colab": {
          "base_uri": "https://localhost:8080/"
        },
        "outputId": "333a7094-a854-4746-bd01-90fd90bc7b6f"
      },
      "outputs": [
        {
          "output_type": "stream",
          "name": "stdout",
          "text": [
            "Mounted at /content/drive\n"
          ]
        }
      ],
      "source": [
        "#mount drive\n",
        "from google.colab import drive\n",
        "drive.mount('/content/drive')"
      ]
    },
    {
      "cell_type": "markdown",
      "source": [
        "read dev dataset"
      ],
      "metadata": {
        "id": "x78584ISF7M3"
      }
    },
    {
      "cell_type": "code",
      "source": [
        "dev_csv=\"/content/drive/MyDrive/Colab Notebooks/dev.csv\"\n",
        "dev_df = pd.read_csv(dev_csv,sep='\\t')\n",
        "dev_df=dev_df.drop(\"Unnamed: 0\",axis=1)\n",
        "dev_columns=dev_df.columns"
      ],
      "metadata": {
        "id": "MXQhl0FxNEXe"
      },
      "execution_count": null,
      "outputs": []
    },
    {
      "cell_type": "markdown",
      "source": [
        "read train dataset"
      ],
      "metadata": {
        "id": "oV2uRteWF-f2"
      }
    },
    {
      "cell_type": "code",
      "source": [
        "train_csv=\"/content/drive/MyDrive/Colab Notebooks/train.csv\"\n",
        "train_df = pd.read_csv(train_csv,sep='\\t')\n",
        "train_df=train_df.drop(\"Unnamed: 0\",axis=1)\n",
        "train_columns = train_df.columns"
      ],
      "metadata": {
        "id": "BlwRTZ4CNN75"
      },
      "execution_count": null,
      "outputs": []
    },
    {
      "cell_type": "markdown",
      "source": [
        "## **Tokenize Data**"
      ],
      "metadata": {
        "id": "0KwhovBfPXyj"
      }
    },
    {
      "cell_type": "markdown",
      "source": [
        "**install packages**"
      ],
      "metadata": {
        "id": "dRs4-6bMGCPl"
      }
    },
    {
      "cell_type": "code",
      "source": [
        "# Install; note that the prefix \"!\" is not needed if you are running in a terminal\n",
        "!pip install stanza\n",
        "\n",
        "# Import the package\n",
        "import stanza"
      ],
      "metadata": {
        "colab": {
          "base_uri": "https://localhost:8080/"
        },
        "id": "5LZoqDbvPgP6",
        "outputId": "aa7f4ed3-3455-415b-f892-2bdc697c9fd6"
      },
      "execution_count": null,
      "outputs": [
        {
          "output_type": "stream",
          "name": "stdout",
          "text": [
            "Collecting stanza\n",
            "  Downloading stanza-1.3.0-py3-none-any.whl (432 kB)\n",
            "\u001b[K     |████████████████████████████████| 432 kB 5.4 MB/s \n",
            "\u001b[?25hCollecting emoji\n",
            "  Downloading emoji-1.6.3.tar.gz (174 kB)\n",
            "\u001b[K     |████████████████████████████████| 174 kB 54.7 MB/s \n",
            "\u001b[?25hRequirement already satisfied: numpy in /usr/local/lib/python3.7/dist-packages (from stanza) (1.19.5)\n",
            "Requirement already satisfied: protobuf in /usr/local/lib/python3.7/dist-packages (from stanza) (3.17.3)\n",
            "Requirement already satisfied: torch>=1.3.0 in /usr/local/lib/python3.7/dist-packages (from stanza) (1.10.0+cu111)\n",
            "Requirement already satisfied: requests in /usr/local/lib/python3.7/dist-packages (from stanza) (2.23.0)\n",
            "Requirement already satisfied: tqdm in /usr/local/lib/python3.7/dist-packages (from stanza) (4.62.3)\n",
            "Requirement already satisfied: six in /usr/local/lib/python3.7/dist-packages (from stanza) (1.15.0)\n",
            "Requirement already satisfied: typing-extensions in /usr/local/lib/python3.7/dist-packages (from torch>=1.3.0->stanza) (3.10.0.2)\n",
            "Requirement already satisfied: certifi>=2017.4.17 in /usr/local/lib/python3.7/dist-packages (from requests->stanza) (2021.10.8)\n",
            "Requirement already satisfied: urllib3!=1.25.0,!=1.25.1,<1.26,>=1.21.1 in /usr/local/lib/python3.7/dist-packages (from requests->stanza) (1.24.3)\n",
            "Requirement already satisfied: chardet<4,>=3.0.2 in /usr/local/lib/python3.7/dist-packages (from requests->stanza) (3.0.4)\n",
            "Requirement already satisfied: idna<3,>=2.5 in /usr/local/lib/python3.7/dist-packages (from requests->stanza) (2.10)\n",
            "Building wheels for collected packages: emoji\n",
            "  Building wheel for emoji (setup.py) ... \u001b[?25l\u001b[?25hdone\n",
            "  Created wheel for emoji: filename=emoji-1.6.3-py3-none-any.whl size=170298 sha256=0155812afc46baffa28bfea6005de94a722f018506d957a421eddc6f692bb141\n",
            "  Stored in directory: /root/.cache/pip/wheels/03/8b/d7/ad579fbef83c287215c0caab60fb0ae0f30c4d7ce5f580eade\n",
            "Successfully built emoji\n",
            "Installing collected packages: emoji, stanza\n",
            "Successfully installed emoji-1.6.3 stanza-1.3.0\n"
          ]
        }
      ]
    },
    {
      "cell_type": "code",
      "source": [
        "# Download an Persiabn model into the default directory\n",
        "print(\"Downloading Persian model...\")\n",
        "stanza.download('fa')"
      ],
      "metadata": {
        "colab": {
          "base_uri": "https://localhost:8080/",
          "height": 136,
          "referenced_widgets": [
            "b6c12bd476254c3e8c68da3a2aa88919",
            "a6e4a0f790d44ce98c0097fc93f3311f",
            "876b5e85aa1a40529626e699ce4c8d01",
            "8287fbaa69eb44f395bac0abebc0748b",
            "949a0b51672543a0819307796f550b43",
            "7fdcaac760c146ccaf1a46cac665a41b",
            "5a45470ad36c44cab6eadabe3fe28654",
            "2bb6a747dfac4efca6030973b4a2e2fa",
            "df926a8efa7f411f8c494a1854b69cab",
            "bedbdfbe4828413b83022c085bcefee5",
            "ddd5351fbdfa4f75a1180f348445f9a0",
            "119a00c2712a4157b1d871383ed9a229",
            "bba93a1a13404040b05c2ed8f0e39b23",
            "84a34a567fac45f0b1216bfb80767b49",
            "6d23e7594981477490027a3aeab608e6",
            "0be51d87805142f5add9a18d9e8022bd",
            "370d011519874337b469ca12a7b5f04e",
            "19fc5bb9c1154a49a7c8f79b827ad506",
            "e476d6ed83244117933101b084ecdd9e",
            "1eb0be0ba6de4fa99900db1560c38d88",
            "888712e42f294dae9c28800fd7582aca",
            "6b857856f9364e83bda35cd46d1826c4"
          ]
        },
        "id": "C3xfPJpVQO8o",
        "outputId": "df86c538-623a-4d1f-d8c1-257bd3dab57d"
      },
      "execution_count": null,
      "outputs": [
        {
          "output_type": "stream",
          "name": "stdout",
          "text": [
            "Downloading Persian model...\n"
          ]
        },
        {
          "output_type": "display_data",
          "data": {
            "application/vnd.jupyter.widget-view+json": {
              "model_id": "b6c12bd476254c3e8c68da3a2aa88919",
              "version_minor": 0,
              "version_major": 2
            },
            "text/plain": [
              "Downloading https://raw.githubusercontent.com/stanfordnlp/stanza-resources/main/resources_1.3.0.json:   0%|   …"
            ]
          },
          "metadata": {}
        },
        {
          "output_type": "stream",
          "name": "stderr",
          "text": [
            "2022-01-26 07:20:44 INFO: Downloading default packages for language: fa (Persian)...\n"
          ]
        },
        {
          "output_type": "display_data",
          "data": {
            "application/vnd.jupyter.widget-view+json": {
              "model_id": "119a00c2712a4157b1d871383ed9a229",
              "version_minor": 0,
              "version_major": 2
            },
            "text/plain": [
              "Downloading https://huggingface.co/stanfordnlp/stanza-fa/resolve/v1.3.0/models/default.zip:   0%|          | 0…"
            ]
          },
          "metadata": {}
        },
        {
          "output_type": "stream",
          "name": "stderr",
          "text": [
            "2022-01-26 07:20:50 INFO: Finished downloading models and saved to /root/stanza_resources.\n"
          ]
        }
      ]
    },
    {
      "cell_type": "markdown",
      "source": [
        "**create models**"
      ],
      "metadata": {
        "id": "1KFpju0aGG6B"
      }
    },
    {
      "cell_type": "code",
      "source": [
        "# Build a Persian pipeline, with all processors by default\n",
        "print(\"Building a Persian pipeline...\")\n",
        "fa_nlp = stanza.Pipeline('fa')"
      ],
      "metadata": {
        "colab": {
          "base_uri": "https://localhost:8080/"
        },
        "id": "rKIL-W1CQjEB",
        "outputId": "0e7bc26e-fa75-4b85-ea14-93c63b53ea41"
      },
      "execution_count": null,
      "outputs": [
        {
          "output_type": "stream",
          "name": "stderr",
          "text": [
            "2022-01-26 07:46:57 INFO: Loading these models for language: fa (Persian):\n",
            "=======================\n",
            "| Processor | Package |\n",
            "-----------------------\n",
            "| tokenize  | perdt   |\n",
            "| mwt       | perdt   |\n",
            "| pos       | perdt   |\n",
            "| lemma     | perdt   |\n",
            "| depparse  | perdt   |\n",
            "=======================\n",
            "\n",
            "2022-01-26 07:46:57 INFO: Use device: cpu\n",
            "2022-01-26 07:46:57 INFO: Loading: tokenize\n",
            "2022-01-26 07:46:57 INFO: Loading: mwt\n",
            "2022-01-26 07:46:57 INFO: Loading: pos\n"
          ]
        },
        {
          "output_type": "stream",
          "name": "stdout",
          "text": [
            "Building a Persian pipeline...\n"
          ]
        },
        {
          "output_type": "stream",
          "name": "stderr",
          "text": [
            "2022-01-26 07:46:58 INFO: Loading: lemma\n",
            "2022-01-26 07:46:58 INFO: Loading: depparse\n",
            "2022-01-26 07:46:59 INFO: Done loading processors!\n"
          ]
        }
      ]
    },
    {
      "cell_type": "markdown",
      "source": [
        "**find tokens of dataframe and save in array**"
      ],
      "metadata": {
        "id": "Qvm7Rjb8GJDx"
      }
    },
    {
      "cell_type": "code",
      "source": [
        "# test_token_df['tokenized_sents'] = test_token_df.apply(lambda row: fa_nlp(row['comment']).sentences.words.text, axis=1)\n",
        "tokenized_array=[]\n",
        "for i in range(0,len(train_df)):\n",
        "  comment=train_df.iloc[i][\"comment\"]\n",
        "  tokenized_comment = fa_nlp(comment)\n",
        "  tokens_array=[]\n",
        "  for i,sent in enumerate(tokenized_comment.sentences):\n",
        "    for word in sent.words:\n",
        "      tokens_array.append(word.text)\n",
        "  tokenized_array.append(tokens_array)\n",
        "#word.text, word.lemma, word.pos, word.head, word.deprel))"
      ],
      "metadata": {
        "id": "yPM0Kb_NURsi"
      },
      "execution_count": null,
      "outputs": []
    },
    {
      "cell_type": "code",
      "source": [
        "#find tokens of rest of dataset (process interupted cause of volume of dataset)\n",
        "# rest_train_df=train_df[52466:]\n",
        "for i in range(52466,len(train_df)):\n",
        "  comment=train_df.iloc[i][\"comment\"]\n",
        "  tokenized_comment = fa_nlp(comment)\n",
        "  tokens_array=[]\n",
        "  for i,sent in enumerate(tokenized_comment.sentences):\n",
        "    for word in sent.words:\n",
        "      tokens_array.append(word.text)\n",
        "  tokenized_array.append(tokens_array)"
      ],
      "metadata": {
        "colab": {
          "base_uri": "https://localhost:8080/"
        },
        "id": "yoetAKhg7wRZ",
        "outputId": "4957b761-424b-4f4e-d99e-3dd0a5701d22"
      },
      "execution_count": null,
      "outputs": [
        {
          "output_type": "stream",
          "name": "stderr",
          "text": [
            "/usr/local/lib/python3.7/dist-packages/stanza/models/common/beam.py:86: UserWarning: __floordiv__ is deprecated, and its behavior will change in a future version of pytorch. It currently rounds toward 0 (like the 'trunc' function NOT 'floor'). This results in incorrect rounding for negative values. To keep the current behavior, use torch.div(a, b, rounding_mode='trunc'), or for actual floor division, use torch.div(a, b, rounding_mode='floor').\n",
            "  prevK = bestScoresId // numWords\n"
          ]
        }
      ]
    },
    {
      "cell_type": "markdown",
      "source": [
        "**save tokens array to csv file**"
      ],
      "metadata": {
        "id": "OycN6D_LGYzb"
      }
    },
    {
      "cell_type": "code",
      "source": [
        "#save tokens to array\n",
        "import csv\n",
        "with open('tokens_array.csv', 'w', newline='') as file:\n",
        "    mywriter = csv.writer(file, delimiter=',')\n",
        "    mywriter.writerows(tokenized_array)"
      ],
      "metadata": {
        "id": "nndyXJXsA-lj"
      },
      "execution_count": null,
      "outputs": []
    },
    {
      "cell_type": "markdown",
      "source": [
        "**convert tokens array to dataframe **"
      ],
      "metadata": {
        "id": "UXccrNvIGNte"
      }
    },
    {
      "cell_type": "code",
      "source": [
        "# convert tokenized_array to dataframe\n",
        "tokenized_df=pd.DataFrame(tokenized_array)"
      ],
      "metadata": {
        "id": "FDvkVouPdNF7"
      },
      "execution_count": null,
      "outputs": []
    },
    {
      "cell_type": "markdown",
      "source": [
        "**save dataframe to csv file**"
      ],
      "metadata": {
        "id": "Fpq4V7vUGZ-y"
      }
    },
    {
      "cell_type": "code",
      "source": [
        "#save dataframe \n",
        "tokenized_df.to_csv('tokens_df.csv')"
      ],
      "metadata": {
        "id": "VMLslzyPGZHq"
      },
      "execution_count": null,
      "outputs": []
    },
    {
      "cell_type": "code",
      "source": [
        "# with open('tokens_array.csv', 'r', newline='') as file:\n",
        "#   myreader = csv.reader(file, delimiter=',')\n",
        "#   for rows in myreader:\n",
        "#     print(rows)"
      ],
      "metadata": {
        "id": "XoyKXLy-EQ9H"
      },
      "execution_count": null,
      "outputs": []
    },
    {
      "cell_type": "markdown",
      "source": [
        "**### another tokenizer**"
      ],
      "metadata": {
        "id": "6GYa_WPG_t_S"
      }
    },
    {
      "cell_type": "code",
      "source": [
        "# !pip3 install parsivar\n",
        "# !pip uninstall parsivary"
      ],
      "metadata": {
        "id": "JqFaw9ZOBioT"
      },
      "execution_count": null,
      "outputs": []
    },
    {
      "cell_type": "code",
      "source": [
        "# for i in tokens_arr[:10]:\n",
        "#   print(i,len(i),type(i))"
      ],
      "metadata": {
        "id": "jZ_uLhfWcuN0"
      },
      "execution_count": null,
      "outputs": []
    },
    {
      "cell_type": "code",
      "source": [
        "# from parsivar import Normalizer\n",
        "# from parsivar import Tokenizer\n",
        "# fa_normalizer = Normalizer()\n",
        "# fa_tokenizer = Tokenizer()"
      ],
      "metadata": {
        "id": "xOninP1g_w_6"
      },
      "execution_count": null,
      "outputs": []
    },
    {
      "cell_type": "code",
      "source": [
        "# fa_tokens_array=[]\n",
        "# for i in range(20,40):\n",
        "#   comment=train_df.iloc[i][\"comment\"]\n",
        "#   t=fa_tokenizer.tokenize_words(comment)\n",
        "#   comment=fa_normalizer.normalize(comment)\n",
        "#   t=fa_tokenizer.tokenize_words(comment)\n",
        "#   tokenized_comment = fa_tokenizer.tokenize_words(comment)\n",
        "#   tokens_array=[]\n",
        "#   for i in tokenized_comment:\n",
        "#     tokens_array.append(i)\n",
        "#   fa_tokens_array.append(tokens_array)"
      ],
      "metadata": {
        "id": "ZQg8FZdgB2eN"
      },
      "execution_count": null,
      "outputs": []
    },
    {
      "cell_type": "markdown",
      "source": [
        "## **Read tokenized dataet**"
      ],
      "metadata": {
        "id": "yej2YkqA2Eur"
      }
    },
    {
      "cell_type": "code",
      "source": [
        "#read dataframe csv file\n",
        "# tokens_dataframe=pd.read_csv(\"/content/drive/MyDrive/Colab Notebooks/tokens_df.csv\")\n",
        "# tokens_dataframe=tokens_dataframe.drop(\"Unnamed: 0\",axis=1)\n",
        "# #tokens_dataframe[52000:52050]"
      ],
      "metadata": {
        "colab": {
          "base_uri": "https://localhost:8080/"
        },
        "id": "HKEvuL6aFiFk",
        "outputId": "2a042e0c-3711-4eac-a675-74c17f497f9c"
      },
      "execution_count": null,
      "outputs": [
        {
          "output_type": "stream",
          "name": "stderr",
          "text": [
            "/usr/local/lib/python3.7/dist-packages/IPython/core/interactiveshell.py:2718: DtypeWarning: Columns (118,119,120,121,122,123,124,125,126,127,128,129,130,131,132,133,134,135,136,137,138,139,140,141,142,143,144,145,146,147,148,149,150,151,152,153,154,155,156,157,158,159,160,161,162,163,164,165,166,167,168,169,170,171,172,173,174,175,176,177,178,179,180,181,182,183,184,185,186,187,188,189,190,191,192,193,194,195,196,197,198,199,200,201,202,203,204,205,206,207,208,209,210,211,212,213,214,215,216,217,218,219,220,221,222,223,224,225,226,227,228,229,230,231,232,233,234,235,236,237,238,239,240,241,242,243,244,245,246,247,248,249,250,251,252,253,254,255,256,257,258,259,260,261,262,263,264,265,266,267,268,269,270,271,272,273,274,275,276,277,278,279,280,281,282,283,284,285,286,287,288,289,290,291,292,293,294,295,296,297,298,299,300,301,302,303,304,305,306,307,308,309,310,311,312,313,314,315,316,317,318,319,320,321,322,323,324,325,326,327,328,329,330,331,332,333,334,335,336,337,338,339,340,341,342,343,344,345,346,347,348,349,350,351,352,353,354,355,356,357,358,359,360,361,362,363,364,365,366,367,368,369,370,371,372,373,374,375,376,377,378,379) have mixed types.Specify dtype option on import or set low_memory=False.\n",
            "  interactivity=interactivity, compiler=compiler, result=result)\n"
          ]
        }
      ]
    },
    {
      "cell_type": "code",
      "source": [
        "# arr=tokens_dataframe.to_numpy()\n",
        "# tokens_arr=[]\n",
        "# for i in arr :\n",
        "#   sentense=[]\n",
        "#   for word in i:\n",
        "#     if type(word) is str:\n",
        "#       sentense.append(word)\n",
        "#   tokens_arr.append(sentense)"
      ],
      "metadata": {
        "id": "_M1OWOdEImiL"
      },
      "execution_count": null,
      "outputs": []
    },
    {
      "cell_type": "markdown",
      "source": [
        "**read from array csv file (smaller size)**"
      ],
      "metadata": {
        "id": "4g6fQbUzcTvX"
      }
    },
    {
      "cell_type": "markdown",
      "source": [
        "تو از اینجا ران کن(فایلش رو تلگرام فرستادم برات)"
      ],
      "metadata": {
        "id": "rE9U50m3dC-4"
      }
    },
    {
      "cell_type": "code",
      "source": [
        "#read array csv file\n",
        "tokens_array=pd.read_csv(\"/content/drive/MyDrive/Colab Notebooks/tokens_array.csv\",sep='\\t',header=None)\n",
        "# tokens_array.head()"
      ],
      "metadata": {
        "id": "6QWQlYVeHBPt"
      },
      "execution_count": 8,
      "outputs": []
    },
    {
      "cell_type": "code",
      "source": [
        "from types import new_class\n",
        "# from string import punctuation\n",
        "import re\n",
        "\n",
        "punctuation=['!','\"','#','$','%','&',\"'\",'(',')','*','+','،','-','.',','\"/\",':',';','<','=','>','?','@','[',\"\\\\\",\"]\",\"^\",'_','`','{','|','}','~']\n",
        "# tokens_array.to_numpy()\n",
        "tokens_arr=[]\n",
        "for i in tokens_array.to_numpy():\n",
        "  sent=[]\n",
        "  for j in i[0].split(','):\n",
        "    if j not in punctuation:\n",
        "      sent.append(j)\n",
        "  tokens_arr.append(sent)"
      ],
      "metadata": {
        "id": "CO3oUTO7V2fW"
      },
      "execution_count": 9,
      "outputs": []
    },
    {
      "cell_type": "code",
      "source": [
        "for i in tokens_arr[:10]:\n",
        "  print(i)"
      ],
      "metadata": {
        "id": "W3bhetJ5EBwp"
      },
      "execution_count": null,
      "outputs": []
    },
    {
      "cell_type": "markdown",
      "source": [
        "## **Preproccessing**"
      ],
      "metadata": {
        "id": "4RMbt2gy2Cjd"
      }
    },
    {
      "cell_type": "markdown",
      "source": [
        "**Analyze Reviews Length**"
      ],
      "metadata": {
        "id": "EVOLFx-BsATM"
      }
    },
    {
      "cell_type": "code",
      "source": [
        "import matplotlib.pyplot as plt\n",
        "reviews_len = [len(x) for x in tokens_arr]\n",
        "reviews_len=np.array(reviews_len)"
      ],
      "metadata": {
        "id": "tmqpe1pxrrOg"
      },
      "execution_count": 10,
      "outputs": []
    },
    {
      "cell_type": "code",
      "source": [
        "# pd.Series(tokens_arr).hist()\n",
        "# plt.show()\n",
        "# pd.Series(tokens_arr).describe()"
      ],
      "metadata": {
        "id": "QXKuxOdGyRPx"
      },
      "execution_count": null,
      "outputs": []
    },
    {
      "cell_type": "code",
      "source": [
        "print(\"min:\",reviews_len.min(),\"max:\",reviews_len.max(),\"min:\",reviews_len.mean(),\"len:\",len(reviews_len))"
      ],
      "metadata": {
        "colab": {
          "base_uri": "https://localhost:8080/"
        },
        "id": "1POTybkdsYIc",
        "outputId": "a22d5f12-e5d7-4f30-98c2-3d408c422c96"
      },
      "execution_count": 11,
      "outputs": [
        {
          "output_type": "stream",
          "name": "stdout",
          "text": [
            "min: 3 max: 362 min: 19.003015873015872 len: 56700\n"
          ]
        }
      ]
    },
    {
      "cell_type": "code",
      "source": [
        "# for i in range(6,29):\n",
        "print(np.count_nonzero(reviews_len > 75))"
      ],
      "metadata": {
        "colab": {
          "base_uri": "https://localhost:8080/"
        },
        "id": "TI_5SETMti6E",
        "outputId": "eced6acd-e26e-4453-f8a7-dd18f9672fc6"
      },
      "execution_count": 7,
      "outputs": [
        {
          "output_type": "stream",
          "name": "stdout",
          "text": [
            "689\n"
          ]
        }
      ]
    },
    {
      "cell_type": "markdown",
      "source": [
        "remove outliers"
      ],
      "metadata": {
        "id": "IdwzIqgukt-2"
      }
    },
    {
      "cell_type": "code",
      "source": [
        "cleaned_rokens_arr=[x for x in tokens_arr if len(x)<75]\n",
        "print(len(cleaned_rokens_arr))"
      ],
      "metadata": {
        "colab": {
          "base_uri": "https://localhost:8080/"
        },
        "id": "UGdu_Vvt5RCb",
        "outputId": "0a3d3315-e6e7-41b7-a7e8-b2ea1bc96f43"
      },
      "execution_count": 12,
      "outputs": [
        {
          "output_type": "stream",
          "name": "stdout",
          "text": [
            "55978\n"
          ]
        }
      ]
    },
    {
      "cell_type": "code",
      "source": [
        "!pip uninstall hazm"
      ],
      "metadata": {
        "colab": {
          "base_uri": "https://localhost:8080/"
        },
        "id": "9Vvkmhz8kzdx",
        "outputId": "fdbe6bd3-4f9f-4a00-8b05-856fbc9d1f5c"
      },
      "execution_count": 13,
      "outputs": [
        {
          "output_type": "stream",
          "name": "stdout",
          "text": [
            "\u001b[33mWARNING: Skipping hazm as it is not installed.\u001b[0m\n"
          ]
        }
      ]
    },
    {
      "cell_type": "code",
      "source": [
        "# from __future__ import unicode_literals\n",
        "# from hazm import *"
      ],
      "metadata": {
        "id": "l6GhGY3_kwsL"
      },
      "execution_count": null,
      "outputs": []
    },
    {
      "cell_type": "code",
      "source": [
        "# normalizer = Normalizer()\n",
        "# n=normalizer.normalize('چقَدررررِرررررر   رر')\n",
        "# print(n)"
      ],
      "metadata": {
        "id": "ra1DPt-Yk8yu"
      },
      "execution_count": 10,
      "outputs": []
    },
    {
      "cell_type": "markdown",
      "source": [
        "save in csv"
      ],
      "metadata": {
        "id": "DXnu162haoRg"
      }
    },
    {
      "cell_type": "markdown",
      "source": [
        "## **Word embedding**"
      ],
      "metadata": {
        "id": "LELpzRA6Fd-j"
      }
    },
    {
      "cell_type": "code",
      "source": [
        "from gensim.models import Word2Vec\n",
        "\n",
        "word2vec = Word2Vec(cleaned_rokens_arr, min_count=5,size=100)"
      ],
      "metadata": {
        "id": "VuYPHFvRS1an"
      },
      "execution_count": 18,
      "outputs": []
    },
    {
      "cell_type": "code",
      "source": [
        "len(cleaned_rokens_arr)"
      ],
      "metadata": {
        "colab": {
          "base_uri": "https://localhost:8080/"
        },
        "id": "xvstHYptgFot",
        "outputId": "bea0a135-7f10-4df1-9ccd-8bd8fb14e9c3"
      },
      "execution_count": 19,
      "outputs": [
        {
          "output_type": "execute_result",
          "data": {
            "text/plain": [
              "55978"
            ]
          },
          "metadata": {},
          "execution_count": 19
        }
      ]
    },
    {
      "cell_type": "markdown",
      "source": [
        "**calculate vacors for each word**"
      ],
      "metadata": {
        "id": "IRCDCwxkfqrl"
      }
    },
    {
      "cell_type": "code",
      "source": [
        "# word_vectors=word2vec[word2vec.wv]"
      ],
      "metadata": {
        "id": "waEJFjlfyOkB"
      },
      "execution_count": 16,
      "outputs": []
    },
    {
      "cell_type": "code",
      "source": [
        "len(word_vectors)"
      ],
      "metadata": {
        "id": "BhWeCoxIyoMq"
      },
      "execution_count": null,
      "outputs": []
    },
    {
      "cell_type": "code",
      "source": [
        "word_vectors[:1]"
      ],
      "metadata": {
        "id": "1-oy9hv1ydHp"
      },
      "execution_count": null,
      "outputs": []
    },
    {
      "cell_type": "code",
      "source": [
        "vocabulary = word2vec.wv.vocab\n",
        "embedded_array=[]\n",
        "for sent in cleaned_rokens_arr:\n",
        "  # vec_vocab = []\n",
        "  vec_vocab=[word2vec.wv[word] for word in sent if word in vocabulary]\n",
        "  # for word in sent:\n",
        "  #   if word in vocabulary:\n",
        "  #     vector = word2vec.wv[word]\n",
        "      # vec_vocab.append(vector)\n",
        "  embedded_array.append(vec_vocab)"
      ],
      "metadata": {
        "id": "FzgwlXA6TGBU"
      },
      "execution_count": 21,
      "outputs": []
    },
    {
      "cell_type": "code",
      "source": [
        "for i in range(0,1):\n",
        "  print((embedded_array[i]))#,len(cleaned_rokens_arr[i]))"
      ],
      "metadata": {
        "colab": {
          "base_uri": "https://localhost:8080/"
        },
        "id": "0NfKp7xtgl_A",
        "outputId": "8b3058b2-1a3c-4d44-dd61-81e0681dec04"
      },
      "execution_count": 24,
      "outputs": [
        {
          "output_type": "stream",
          "name": "stdout",
          "text": [
            "[array([ 9.18136597e-01, -2.01507068e+00, -8.35926771e-01,  2.29304403e-01,\n",
            "        1.97068202e+00,  7.03686535e-01, -5.60263038e-01,  9.53287184e-02,\n",
            "        1.23877442e+00, -9.99239311e-02,  1.86079055e-01, -3.07716638e-01,\n",
            "       -1.31347024e+00, -3.18798810e-01, -7.84592688e-01, -8.33475530e-01,\n",
            "        2.25119725e-01, -1.64235210e+00,  1.13527489e+00,  7.68735826e-01,\n",
            "       -9.09053683e-01, -6.48629367e-01,  3.41588944e-01, -4.19738799e-01,\n",
            "        7.04144120e-01, -5.51296651e-01, -5.16874969e-01, -7.71014392e-01,\n",
            "       -4.98344034e-01,  3.31717938e-01, -1.63022447e+00, -1.00255978e+00,\n",
            "       -3.62743229e-01,  4.73100156e-01,  4.58315820e-01, -6.88461781e-01,\n",
            "       -6.53263807e-01,  1.26591936e-01, -5.95885873e-01,  1.02371812e+00,\n",
            "       -2.72593379e-01,  9.09261763e-01, -6.85493410e-01, -1.18711852e-01,\n",
            "       -7.21120059e-01,  2.08592236e-01,  2.82373965e-01,  9.15133357e-01,\n",
            "        1.38338730e-01,  1.14106202e+00,  1.13924503e+00,  9.26295295e-04,\n",
            "        2.56397575e-01,  5.75739622e-01,  1.72806635e-01, -2.55044699e-01,\n",
            "        2.51669660e-02,  8.37905049e-01, -1.43632054e+00, -5.34597456e-01,\n",
            "        4.37655747e-01,  3.78463984e-01,  1.23952222e+00, -2.45875016e-01,\n",
            "        1.22815502e+00,  7.46504486e-01,  6.64732873e-01, -1.08161885e-02,\n",
            "       -3.73012722e-01,  6.07542992e-01,  7.60608017e-01,  2.21845001e-01,\n",
            "        4.79648829e-01, -1.02552557e+00,  1.26097763e+00,  1.47182786e+00,\n",
            "        6.55594289e-01, -5.35567701e-01,  4.99573797e-02, -4.33555432e-02,\n",
            "        3.69369179e-01,  8.00032377e-01, -5.43361545e-01, -7.77412891e-01,\n",
            "       -1.76917315e-01,  8.16013098e-01,  1.88110933e-01,  1.96430475e-01,\n",
            "       -1.52267838e+00,  2.75079042e-01, -1.44548738e+00, -7.74738610e-01,\n",
            "        8.19186270e-01, -2.49039635e-01,  4.08370018e-01,  1.01486957e+00,\n",
            "       -3.99005413e-01,  6.88119675e-04, -8.35060000e-01,  2.55052686e-01],\n",
            "      dtype=float32), array([ 0.50741386, -1.1731316 ,  0.06554451, -0.07080536, -0.00805202,\n",
            "       -0.33201304, -0.12781145, -0.60016423,  0.94253796,  0.45640364,\n",
            "       -0.59256643,  0.49489543,  0.02932861, -0.0022152 , -0.42956856,\n",
            "       -0.95956254, -0.51831335, -1.2858446 ,  0.30469924,  0.6717094 ,\n",
            "       -0.11164043,  0.48028645, -0.25003928, -0.06681217,  0.5871966 ,\n",
            "       -0.51656836,  0.06177313, -0.6401806 ,  0.06083333,  0.48422724,\n",
            "       -1.4910054 , -0.0870583 , -0.2685037 , -0.13274734, -0.42475465,\n",
            "       -0.68956804, -0.8434545 ,  0.32287672, -0.33419293,  0.2161715 ,\n",
            "        0.35551053, -0.03351437, -0.47749457, -0.4016048 , -0.13480608,\n",
            "       -0.31773764,  0.7040616 ,  1.1443111 , -0.12153815,  0.18717277,\n",
            "        0.26441187, -0.4772702 , -0.55233735,  0.9276872 ,  0.3721031 ,\n",
            "        0.27355748,  0.32311827,  0.36952558,  0.02497175, -0.74492085,\n",
            "       -0.08692107,  0.00549033,  0.6797551 , -0.5420598 ,  1.0491481 ,\n",
            "        0.669206  , -0.17527215, -0.24261363, -1.0149093 , -0.8152146 ,\n",
            "       -0.24591759, -0.208395  , -0.4103834 , -0.82005394,  0.779918  ,\n",
            "        0.47659552, -0.0120634 ,  0.2138922 , -0.13177575, -0.02271797,\n",
            "       -0.37410337,  0.16421477, -0.02163249,  0.475294  ,  0.42320678,\n",
            "       -0.11999855, -0.42965868,  0.30041426, -1.7614261 , -0.52216285,\n",
            "       -0.28374717,  0.67466074,  1.2140837 , -0.28150764,  0.1657122 ,\n",
            "        0.22567427, -0.24189949,  0.5120542 , -0.90905964,  0.22893834],\n",
            "      dtype=float32), array([ 0.4922389 , -0.45962927,  0.47370905,  0.36650845,  0.959075  ,\n",
            "        0.11652066, -1.0986106 , -0.93260014,  0.6284428 , -0.51154333,\n",
            "        0.17201795, -0.17003252, -0.34682178, -0.3492762 , -0.05137467,\n",
            "       -0.9614242 ,  1.0295694 , -1.3165982 ,  0.23717356, -1.0596457 ,\n",
            "        0.03936777, -0.6945125 ,  1.1864452 , -0.7076706 , -0.9124958 ,\n",
            "       -0.821172  , -0.1298065 , -0.12264744, -0.20707977,  1.0428774 ,\n",
            "        0.99946535, -1.512109  ,  0.6786255 , -0.1930315 , -0.3012614 ,\n",
            "       -0.4831171 , -0.1614988 ,  0.00549949,  0.28013688, -0.13313682,\n",
            "        0.0056408 ,  1.5110639 , -0.7495426 , -0.4464484 , -0.96227056,\n",
            "       -0.3513537 ,  0.81068504,  0.37658554,  0.4154386 ,  0.19178614,\n",
            "       -0.63297486,  0.07136916, -0.81430835,  0.32592806, -0.09679662,\n",
            "        0.44599533,  0.20447406, -0.16855553, -0.2641816 ,  0.57387644,\n",
            "        0.40510494, -0.9425195 , -0.51945823, -0.02798648,  0.42566997,\n",
            "       -0.21251856,  0.513841  , -0.0662132 ,  0.37379622, -0.78818834,\n",
            "       -0.9085215 ,  0.27644062,  0.39140522,  1.3554136 ,  0.04046528,\n",
            "        0.19714078, -1.2324153 ,  0.02486272,  1.009793  ,  0.31123894,\n",
            "        0.3915451 ,  0.9251244 ,  0.61623615,  0.4149638 ,  0.48196527,\n",
            "       -0.33707306, -0.41786277, -0.1630458 , -0.2828565 , -0.43495438,\n",
            "       -0.7457451 , -0.07364426,  0.09726581, -0.17939994, -0.49327445,\n",
            "       -1.221421  , -1.76965   , -0.05785508, -0.3495166 ,  0.02897445],\n",
            "      dtype=float32), array([-0.01078948,  0.3004344 , -0.5947112 ,  0.20161214,  0.6588304 ,\n",
            "       -2.1049676 ,  0.10933573,  0.4620583 ,  0.4307013 , -0.9986188 ,\n",
            "        0.43520597,  0.99007607, -0.5165049 , -1.8208405 ,  0.14236489,\n",
            "        0.8449159 ,  0.23301658,  0.6587675 , -2.1260893 , -0.16387032,\n",
            "        0.12786323, -0.5442496 , -0.41320816,  0.6509182 , -0.34690034,\n",
            "       -0.10560679,  0.43374386, -0.7298394 , -0.13153656, -1.9348291 ,\n",
            "        0.6030934 , -0.9030422 , -0.8238371 , -0.13442354, -1.8705858 ,\n",
            "       -0.6428022 ,  0.008768  ,  0.26860166,  0.36760306,  1.6429143 ,\n",
            "        0.15517195,  0.8031254 , -1.044044  ,  0.1031753 , -0.57530653,\n",
            "        0.6537663 ,  1.3116704 , -0.33571124,  0.55690753, -0.19300552,\n",
            "        0.8778885 ,  1.2164361 , -1.0329981 ,  0.06321238, -0.6868339 ,\n",
            "       -0.7895328 , -0.6081145 , -1.1273162 , -0.600841  ,  0.6839486 ,\n",
            "        0.4905852 ,  0.4966565 ,  0.1646441 , -1.3122272 , -0.4911703 ,\n",
            "        0.1102687 ,  0.83108264, -0.5981316 , -0.04909757, -1.1402931 ,\n",
            "        0.41547042,  1.8202323 , -0.56638384, -0.92761874, -0.8671119 ,\n",
            "       -0.9084736 , -0.17750132,  0.24338913,  0.37352443,  0.7724034 ,\n",
            "       -0.61170393,  1.610416  , -0.64745146, -0.02662971, -1.8613948 ,\n",
            "       -0.2638002 ,  0.884656  , -0.20647413, -0.46395195, -0.66234267,\n",
            "        0.5691395 ,  1.2706826 ,  0.94692355,  1.8727759 , -0.42749313,\n",
            "       -1.1739312 , -0.07813145,  0.5644979 ,  0.25551793, -1.1734172 ],\n",
            "      dtype=float32), array([-0.06219776, -0.0436748 ,  0.04557187,  0.05367537,  0.01184883,\n",
            "        0.00516122, -0.00677485, -0.11226669,  0.0723056 , -0.07666717,\n",
            "       -0.10380697, -0.02012683,  0.04335647, -0.08583355, -0.02987912,\n",
            "       -0.07299008, -0.03897705, -0.18351974, -0.08794636,  0.09660523,\n",
            "       -0.02040791,  0.00517333, -0.08798046, -0.0546946 ,  0.0104719 ,\n",
            "       -0.05655302, -0.00999844, -0.05858497, -0.08494061, -0.01956   ,\n",
            "       -0.01860545,  0.0119867 , -0.00616752,  0.06125671, -0.11160856,\n",
            "       -0.11445349,  0.16491951,  0.09557711, -0.00412036,  0.06560203,\n",
            "        0.05829014, -0.00091849,  0.02406843, -0.02900723, -0.09664676,\n",
            "       -0.00625766, -0.00634188, -0.00499841, -0.07078195, -0.02565894,\n",
            "       -0.03766935, -0.07722177, -0.09395996,  0.09679874,  0.07005499,\n",
            "        0.06522426, -0.01300634,  0.04881222,  0.07052638, -0.05495839,\n",
            "        0.02586373, -0.02901244, -0.01184305, -0.04539289,  0.20572777,\n",
            "       -0.01299147,  0.01136798,  0.01857089,  0.13124914, -0.08025175,\n",
            "        0.01131019, -0.02427549,  0.0094177 , -0.09732548,  0.04145987,\n",
            "       -0.06242452,  0.04793984,  0.06533627,  0.03256787, -0.02390099,\n",
            "        0.08370966,  0.00664205, -0.1119506 , -0.01633905,  0.03286029,\n",
            "        0.05761541, -0.01364428,  0.02754661, -0.06607816, -0.0330715 ,\n",
            "        0.04571239,  0.11041696,  0.07674636, -0.05379293, -0.01069572,\n",
            "       -0.1380995 , -0.09482942, -0.07284949,  0.01376102,  0.12661283],\n",
            "      dtype=float32), array([ 0.32424277, -0.44044238,  0.28298366,  0.07019262, -0.38070682,\n",
            "       -1.302586  , -0.5003733 , -0.96974516,  0.5706407 , -0.60560274,\n",
            "        1.1851909 , -0.46494395, -0.46653122, -0.26535168,  0.10155389,\n",
            "       -1.1582987 ,  0.5035846 , -2.0304627 ,  0.7258765 ,  0.40734464,\n",
            "       -0.04884634, -1.1674032 ,  0.802531  , -1.87388   ,  0.17626995,\n",
            "        0.07351535, -0.4761145 ,  0.36857617, -1.4748445 ,  1.0443072 ,\n",
            "       -0.2557786 , -0.24684925,  0.01403885,  1.0428015 , -0.18092947,\n",
            "       -0.36225474, -0.07634763,  0.84879124, -0.3516432 , -0.8898747 ,\n",
            "        0.08937497, -0.0055295 ,  0.21826173,  0.35036978,  0.58772254,\n",
            "        0.23199193,  0.68403524, -0.11970507, -0.47026157,  0.37828872,\n",
            "       -0.7510672 , -0.40316817, -0.55974436,  0.32260326, -0.30277842,\n",
            "        0.7079371 , -0.09983502,  1.3433369 ,  0.16513231, -0.07675561,\n",
            "       -0.2747244 , -0.34427577, -0.9342436 , -0.2985432 ,  1.0412236 ,\n",
            "        0.53025234,  1.2150942 , -0.9403189 , -0.08248935,  0.9406485 ,\n",
            "        0.08061619, -0.6396502 , -0.19580175,  0.2729633 ,  0.16563605,\n",
            "        0.4663227 , -0.03948642, -0.79542196,  0.36595595, -1.2131183 ,\n",
            "       -1.2016691 , -1.1391081 ,  0.16947038,  0.8827728 ,  0.20951773,\n",
            "       -0.11893153,  0.25228062, -0.30985445, -0.28793845, -0.5601365 ,\n",
            "       -0.05989358,  0.5628839 , -0.4373346 , -1.2359556 , -0.9751787 ,\n",
            "       -0.6487807 , -0.09497815, -1.2600765 , -0.8068015 ,  0.9850959 ],\n",
            "      dtype=float32), array([ 0.09658303, -0.11574973, -0.04568093,  0.05255829,  0.14147323,\n",
            "       -0.11832943, -0.10983782, -0.07845081,  0.11941224, -0.12157861,\n",
            "       -0.0008976 ,  0.01426825, -0.04201055, -0.12725234, -0.01047162,\n",
            "       -0.14328112,  0.08697844, -0.27877465,  0.00454487,  0.0841053 ,\n",
            "       -0.03207596, -0.07070149,  0.00060376, -0.09733827,  0.02684479,\n",
            "       -0.1645996 , -0.04417929, -0.02385509, -0.11477112,  0.06209448,\n",
            "       -0.09481249, -0.10990798, -0.02761685,  0.04148852, -0.14173253,\n",
            "       -0.110716  ,  0.1278863 ,  0.05180555,  0.04746838,  0.06291059,\n",
            "        0.06118495,  0.11180636, -0.03124627, -0.03652973, -0.07272916,\n",
            "        0.08406348,  0.02749786, -0.02757988, -0.11052113, -0.01304775,\n",
            "       -0.03603488, -0.08838564, -0.08943205,  0.1113793 ,  0.00889108,\n",
            "        0.12398938, -0.04209257,  0.14986977,  0.03964809, -0.0505361 ,\n",
            "       -0.08373442, -0.08139133, -0.04934263, -0.05275599,  0.20329903,\n",
            "        0.04256884,  0.08435965, -0.05511733,  0.08991694, -0.01620331,\n",
            "        0.04377745, -0.10496391,  0.05644755, -0.08834787,  0.0605102 ,\n",
            "        0.0047558 , -0.01254993,  0.05191934,  0.04116282, -0.15574567,\n",
            "        0.00955864, -0.04796413, -0.07566931,  0.05153904,  0.05175445,\n",
            "        0.08224038, -0.01415764,  0.01597851, -0.19039674, -0.08968132,\n",
            "        0.09114658,  0.10005073,  0.01207153, -0.07670614, -0.01501014,\n",
            "       -0.16527039, -0.03082591, -0.18383658, -0.09537415,  0.16182996],\n",
            "      dtype=float32), array([ 0.37381375, -0.7645647 , -0.8797481 , -0.77677816,  0.61944616,\n",
            "       -0.4684204 ,  0.79810214,  0.57905877, -1.657831  , -1.219467  ,\n",
            "       -0.44149613,  0.14904225, -0.4501177 ,  1.5561821 ,  1.0733914 ,\n",
            "        1.9882941 ,  0.3684705 ,  2.158221  ,  0.24681817, -0.17460257,\n",
            "        0.39041638,  0.69815123, -0.8512649 ,  0.2211671 , -0.12678385,\n",
            "        0.48521125, -1.7627741 ,  0.4334169 ,  0.8967848 , -2.9730527 ,\n",
            "        0.74403644,  2.0971923 , -0.561287  , -1.1822083 , -0.3566273 ,\n",
            "       -0.5589417 ,  0.72324663, -1.9067602 ,  0.21960385,  0.8872735 ,\n",
            "       -1.5792058 ,  0.2390507 , -0.14932261,  0.6849386 ,  0.7262303 ,\n",
            "       -0.8086373 , -1.0257212 , -1.7193495 ,  0.2399707 , -0.6730395 ,\n",
            "        0.9171581 , -0.29741895, -0.81179506, -0.17081636, -1.9476588 ,\n",
            "        0.6971755 , -0.44221824,  1.1507508 ,  1.2892584 , -2.1500278 ,\n",
            "        0.453762  ,  1.0889422 , -0.33497536, -0.4891236 , -1.248638  ,\n",
            "       -1.7147691 , -1.7318625 , -0.30023697,  1.0077957 , -0.11077988,\n",
            "       -0.06889056,  1.0262877 , -1.0573575 , -0.57036704,  0.04967228,\n",
            "        0.7520423 , -0.9568486 ,  0.07656842, -1.2064608 , -0.06591482,\n",
            "       -0.55409276, -0.06252376,  0.4840009 , -0.79083675, -1.1473765 ,\n",
            "       -0.5781011 , -0.928772  , -1.3116724 , -1.2859741 , -0.2714419 ,\n",
            "        1.6014872 , -0.4227596 , -2.0998898 , -0.25067562,  0.92854244,\n",
            "       -1.9628097 , -0.42261234, -0.02383046, -0.61245376, -1.7006955 ],\n",
            "      dtype=float32), array([ 0.6509955 , -0.9068364 , -0.22758855, -0.07106484,  0.35898274,\n",
            "       -0.5960674 , -0.4867205 , -0.4494745 ,  0.23074397,  0.6387584 ,\n",
            "       -0.80626714,  0.51499426, -0.47644994,  0.68754494,  0.52367353,\n",
            "       -0.7243035 , -0.4240677 , -0.5147737 ,  0.5924714 ,  0.4027983 ,\n",
            "       -0.08823501,  0.18059087,  0.15574495,  1.1314789 ,  0.96581346,\n",
            "       -1.8329268 ,  0.24678804, -0.52524185,  1.1854733 , -0.06202304,\n",
            "       -1.0080789 , -0.5934488 , -0.49829075, -0.94511545, -0.1321187 ,\n",
            "        0.6761618 , -0.71292603, -0.31600812,  0.9076415 ,  1.0037014 ,\n",
            "       -0.85653555,  0.36554372, -1.3159107 , -1.0298767 , -0.5442288 ,\n",
            "        0.06984948, -0.5215068 ,  0.816839  , -0.67340267,  0.17436709,\n",
            "        0.30576763, -0.66739523, -0.08027161,  0.12696213, -0.18019256,\n",
            "       -0.73496693,  0.7600347 ,  0.7956196 ,  0.3182748 , -0.74191445,\n",
            "       -1.1189921 ,  0.2462099 , -0.2501942 ,  0.07493712, -0.24290885,\n",
            "       -0.0391401 , -0.7439877 , -0.39285702, -0.80647   , -1.2276357 ,\n",
            "       -0.22986205, -0.08319432,  0.05893245, -1.6633931 ,  0.2165941 ,\n",
            "        0.64360183, -0.02202732, -0.05248066, -0.5706666 ,  0.57695097,\n",
            "        0.2467628 ,  0.42908856,  0.18179852,  0.49320933,  0.9982204 ,\n",
            "       -0.22219142, -0.40754005,  0.85479355, -2.4309628 , -1.0252957 ,\n",
            "       -0.27175063,  0.9452751 ,  0.48681378,  0.9023664 ,  1.001788  ,\n",
            "        0.29405868,  0.5431126 ,  0.7393378 , -0.02105555, -0.1522086 ],\n",
            "      dtype=float32)]\n"
          ]
        }
      ]
    },
    {
      "cell_type": "markdown",
      "source": [
        "save embedded words in csv file(too large!)>500mb"
      ],
      "metadata": {
        "id": "zKUfDhLtfyOP"
      }
    },
    {
      "cell_type": "code",
      "source": [
        "# #save tokens to array\n",
        "# import csv\n",
        "# with open('embedded_array.csv', 'w', newline='') as file:\n",
        "#     mywriter = csv.writer(file, delimiter=',')\n",
        "#     mywriter.writerows(embedded_array)"
      ],
      "metadata": {
        "id": "272mlR6Uf7ID"
      },
      "execution_count": null,
      "outputs": []
    },
    {
      "cell_type": "markdown",
      "source": [
        "add padding to short comemnts"
      ],
      "metadata": {
        "id": "D4AiL_A8flt8"
      }
    },
    {
      "cell_type": "code",
      "source": [
        "import math\n",
        "padded_posts = []\n",
        "print(len(vec_vocab))\n",
        "for post in [vec_vocab]:\n",
        "    # print(post)\n",
        "    # Pad short posts with alternating min/max\n",
        "    print(len(post))\n",
        "    if len(post) < 20:\n",
        "        print(\" in if\")\n",
        "        \n",
        "        # # Method 1\n",
        "        # print(type(post))\n",
        "        # pointwise_min = np.minimum.reduce(np.any(post, axis=1))\n",
        "        # m=min(post)\n",
        "        # pointwise_max = np.maximum.reduce(post)\n",
        "        # padding = [pointwise_max, pointwise_min]\n",
        "        \n",
        "        # Method 2\n",
        "        pointwise_avg = np.mean(post)\n",
        "        padding = [pointwise_avg]\n",
        "        print(pointwise_avg)\n",
        "        print(padding)\n",
        "\n",
        "        # post += padding * math.ceil((20 - len(post) / 2.0))\n",
        "        post += padding*(20-len(post))\n",
        "        print(len(post))\n",
        "    print(len(post))    \n",
        "    # Shorten long posts or those odd number length posts we padded to 51\n",
        "    if len(post) > 20:\n",
        "        post = post[:20]\n",
        "    \n",
        "    # Add the post to our new list of padded posts\n",
        "    padded_posts.append(post)"
      ],
      "metadata": {
        "id": "cjzQa8m0TTij"
      },
      "execution_count": null,
      "outputs": []
    },
    {
      "cell_type": "code",
      "source": [
        "import io\n",
        "import re\n",
        "import string\n",
        "import tqdm\n",
        "\n",
        "import numpy as np\n",
        "\n",
        "import tensorflow as tf\n",
        "from tensorflow.keras import layers"
      ],
      "metadata": {
        "id": "uExbP15WRq2S"
      },
      "execution_count": null,
      "outputs": []
    },
    {
      "cell_type": "code",
      "source": [
        "# Load the TensorBoard notebook extension\n",
        "%load_ext tensorboard"
      ],
      "metadata": {
        "id": "STW4J4Z1RvBu"
      },
      "execution_count": null,
      "outputs": []
    },
    {
      "cell_type": "code",
      "source": [
        "SEED = 42\n",
        "AUTOTUNE = tf.data.AUTOTUNE"
      ],
      "metadata": {
        "id": "kFOXJkCERyEV"
      },
      "execution_count": null,
      "outputs": []
    },
    {
      "cell_type": "markdown",
      "source": [
        "## **Traingin LSTM**"
      ],
      "metadata": {
        "id": "NqEwwNd9-c0b"
      }
    },
    {
      "cell_type": "code",
      "source": [
        "len(embedded_array[:1][0][0])"
      ],
      "metadata": {
        "colab": {
          "base_uri": "https://localhost:8080/"
        },
        "id": "iedTO7GbrrXD",
        "outputId": "abbde6cd-3e6d-4410-8b71-ad911af3d9d3"
      },
      "execution_count": null,
      "outputs": [
        {
          "output_type": "execute_result",
          "data": {
            "text/plain": [
              "100"
            ]
          },
          "metadata": {},
          "execution_count": 40
        }
      ]
    },
    {
      "cell_type": "markdown",
      "source": [
        "import tensowerflow"
      ],
      "metadata": {
        "id": "AMs2mRtE-jLl"
      }
    },
    {
      "cell_type": "code",
      "source": [
        "import tensorflow as tf\n",
        "print(tf.__version__)"
      ],
      "metadata": {
        "colab": {
          "base_uri": "https://localhost:8080/"
        },
        "id": "ZA6RlQ-O-cWy",
        "outputId": "e0927fb9-79f1-4b23-8be1-a526cb3103fc"
      },
      "execution_count": null,
      "outputs": [
        {
          "output_type": "stream",
          "name": "stdout",
          "text": [
            "2.7.0\n"
          ]
        }
      ]
    },
    {
      "cell_type": "code",
      "source": [
        "import tensorflow as tf\n",
        "from tensorflow.keras.datasets import imdb\n",
        "from tensorflow.keras.preprocessing import sequence\n",
        "from tensorflow.python.keras.layers import Input\n",
        "#,a LSTM, Bidirectional, Dense, Embedding"
      ],
      "metadata": {
        "id": "shejqhVOr50s"
      },
      "execution_count": null,
      "outputs": []
    },
    {
      "cell_type": "code",
      "source": [
        "x=embedded_array[:1]\n",
        "y=[]\n",
        "x_train = sequence.pad_sequences(x, maxlen=100)\n",
        "y.append(x_train)\n",
        "print(x_train)"
      ],
      "metadata": {
        "colab": {
          "base_uri": "https://localhost:8080/"
        },
        "id": "5aqQd7a9r1Ss",
        "outputId": "d8d7ca58-5af6-4a9e-fdea-547d2523a37b"
      },
      "execution_count": null,
      "outputs": [
        {
          "output_type": "stream",
          "name": "stdout",
          "text": [
            "[[[ 0  0  0 ...  0  0  0]\n",
            "  [ 0  0  0 ...  0  0  0]\n",
            "  [ 0  0  0 ...  0  0  0]\n",
            "  ...\n",
            "  [ 0  0  0 ...  0  0  0]\n",
            "  [ 1  0 -2 ...  1  0  0]\n",
            "  [ 0  0  0 ...  0  0  0]]]\n"
          ]
        }
      ]
    }
  ]
}
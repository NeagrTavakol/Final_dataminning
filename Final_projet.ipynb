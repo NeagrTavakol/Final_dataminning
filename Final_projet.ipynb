{
  "nbformat": 4,
  "nbformat_minor": 0,
  "metadata": {
    "colab": {
      "name": "Final_projet.ipynb",
      "provenance": [],
      "collapsed_sections": [],
      "include_colab_link": true
    },
    "kernelspec": {
      "name": "python3",
      "display_name": "Python 3"
    },
    "language_info": {
      "name": "python"
    },
    "widgets": {
      "application/vnd.jupyter.widget-state+json": {
        "b5b4ea8657074e038dccf58b4c5f43e6": {
          "model_module": "@jupyter-widgets/controls",
          "model_name": "HBoxModel",
          "model_module_version": "1.5.0",
          "state": {
            "_view_name": "HBoxView",
            "_dom_classes": [],
            "_model_name": "HBoxModel",
            "_view_module": "@jupyter-widgets/controls",
            "_model_module_version": "1.5.0",
            "_view_count": null,
            "_view_module_version": "1.5.0",
            "box_style": "",
            "layout": "IPY_MODEL_d950bd7e01a64ad48c92b19eb137f741",
            "_model_module": "@jupyter-widgets/controls",
            "children": [
              "IPY_MODEL_fe24f99ba31d4d6991fae73a843ab423",
              "IPY_MODEL_4438b8d8bdef4ff7a45bcc21ba2a1e2d",
              "IPY_MODEL_cb7816282cd74d9eb9bf61004ed2101d"
            ]
          }
        },
        "d950bd7e01a64ad48c92b19eb137f741": {
          "model_module": "@jupyter-widgets/base",
          "model_name": "LayoutModel",
          "model_module_version": "1.2.0",
          "state": {
            "_view_name": "LayoutView",
            "grid_template_rows": null,
            "right": null,
            "justify_content": null,
            "_view_module": "@jupyter-widgets/base",
            "overflow": null,
            "_model_module_version": "1.2.0",
            "_view_count": null,
            "flex_flow": null,
            "width": null,
            "min_width": null,
            "border": null,
            "align_items": null,
            "bottom": null,
            "_model_module": "@jupyter-widgets/base",
            "top": null,
            "grid_column": null,
            "overflow_y": null,
            "overflow_x": null,
            "grid_auto_flow": null,
            "grid_area": null,
            "grid_template_columns": null,
            "flex": null,
            "_model_name": "LayoutModel",
            "justify_items": null,
            "grid_row": null,
            "max_height": null,
            "align_content": null,
            "visibility": null,
            "align_self": null,
            "height": null,
            "min_height": null,
            "padding": null,
            "grid_auto_rows": null,
            "grid_gap": null,
            "max_width": null,
            "order": null,
            "_view_module_version": "1.2.0",
            "grid_template_areas": null,
            "object_position": null,
            "object_fit": null,
            "grid_auto_columns": null,
            "margin": null,
            "display": null,
            "left": null
          }
        },
        "fe24f99ba31d4d6991fae73a843ab423": {
          "model_module": "@jupyter-widgets/controls",
          "model_name": "HTMLModel",
          "model_module_version": "1.5.0",
          "state": {
            "_view_name": "HTMLView",
            "style": "IPY_MODEL_a5011e292c6843a59d4c1153fc18273a",
            "_dom_classes": [],
            "description": "",
            "_model_name": "HTMLModel",
            "placeholder": "​",
            "_view_module": "@jupyter-widgets/controls",
            "_model_module_version": "1.5.0",
            "value": "Downloading https://raw.githubusercontent.com/stanfordnlp/stanza-resources/main/resources_1.3.0.json: ",
            "_view_count": null,
            "_view_module_version": "1.5.0",
            "description_tooltip": null,
            "_model_module": "@jupyter-widgets/controls",
            "layout": "IPY_MODEL_cb62667ecc4d427baae72b37c93033ff"
          }
        },
        "4438b8d8bdef4ff7a45bcc21ba2a1e2d": {
          "model_module": "@jupyter-widgets/controls",
          "model_name": "FloatProgressModel",
          "model_module_version": "1.5.0",
          "state": {
            "_view_name": "ProgressView",
            "style": "IPY_MODEL_e825688f8cdd4e1fb0c0d5156ad12db6",
            "_dom_classes": [],
            "description": "",
            "_model_name": "FloatProgressModel",
            "bar_style": "success",
            "max": 24459,
            "_view_module": "@jupyter-widgets/controls",
            "_model_module_version": "1.5.0",
            "value": 24459,
            "_view_count": null,
            "_view_module_version": "1.5.0",
            "orientation": "horizontal",
            "min": 0,
            "description_tooltip": null,
            "_model_module": "@jupyter-widgets/controls",
            "layout": "IPY_MODEL_fa45a934eaec499380274a41e236ecac"
          }
        },
        "cb7816282cd74d9eb9bf61004ed2101d": {
          "model_module": "@jupyter-widgets/controls",
          "model_name": "HTMLModel",
          "model_module_version": "1.5.0",
          "state": {
            "_view_name": "HTMLView",
            "style": "IPY_MODEL_6a8b04b2985748a197a507159d7e6b21",
            "_dom_classes": [],
            "description": "",
            "_model_name": "HTMLModel",
            "placeholder": "​",
            "_view_module": "@jupyter-widgets/controls",
            "_model_module_version": "1.5.0",
            "value": " 142k/? [00:00&lt;00:00, 2.03MB/s]",
            "_view_count": null,
            "_view_module_version": "1.5.0",
            "description_tooltip": null,
            "_model_module": "@jupyter-widgets/controls",
            "layout": "IPY_MODEL_9e24fda693594f6697426e692b03ca93"
          }
        },
        "a5011e292c6843a59d4c1153fc18273a": {
          "model_module": "@jupyter-widgets/controls",
          "model_name": "DescriptionStyleModel",
          "model_module_version": "1.5.0",
          "state": {
            "_view_name": "StyleView",
            "_model_name": "DescriptionStyleModel",
            "description_width": "",
            "_view_module": "@jupyter-widgets/base",
            "_model_module_version": "1.5.0",
            "_view_count": null,
            "_view_module_version": "1.2.0",
            "_model_module": "@jupyter-widgets/controls"
          }
        },
        "cb62667ecc4d427baae72b37c93033ff": {
          "model_module": "@jupyter-widgets/base",
          "model_name": "LayoutModel",
          "model_module_version": "1.2.0",
          "state": {
            "_view_name": "LayoutView",
            "grid_template_rows": null,
            "right": null,
            "justify_content": null,
            "_view_module": "@jupyter-widgets/base",
            "overflow": null,
            "_model_module_version": "1.2.0",
            "_view_count": null,
            "flex_flow": null,
            "width": null,
            "min_width": null,
            "border": null,
            "align_items": null,
            "bottom": null,
            "_model_module": "@jupyter-widgets/base",
            "top": null,
            "grid_column": null,
            "overflow_y": null,
            "overflow_x": null,
            "grid_auto_flow": null,
            "grid_area": null,
            "grid_template_columns": null,
            "flex": null,
            "_model_name": "LayoutModel",
            "justify_items": null,
            "grid_row": null,
            "max_height": null,
            "align_content": null,
            "visibility": null,
            "align_self": null,
            "height": null,
            "min_height": null,
            "padding": null,
            "grid_auto_rows": null,
            "grid_gap": null,
            "max_width": null,
            "order": null,
            "_view_module_version": "1.2.0",
            "grid_template_areas": null,
            "object_position": null,
            "object_fit": null,
            "grid_auto_columns": null,
            "margin": null,
            "display": null,
            "left": null
          }
        },
        "e825688f8cdd4e1fb0c0d5156ad12db6": {
          "model_module": "@jupyter-widgets/controls",
          "model_name": "ProgressStyleModel",
          "model_module_version": "1.5.0",
          "state": {
            "_view_name": "StyleView",
            "_model_name": "ProgressStyleModel",
            "description_width": "",
            "_view_module": "@jupyter-widgets/base",
            "_model_module_version": "1.5.0",
            "_view_count": null,
            "_view_module_version": "1.2.0",
            "bar_color": null,
            "_model_module": "@jupyter-widgets/controls"
          }
        },
        "fa45a934eaec499380274a41e236ecac": {
          "model_module": "@jupyter-widgets/base",
          "model_name": "LayoutModel",
          "model_module_version": "1.2.0",
          "state": {
            "_view_name": "LayoutView",
            "grid_template_rows": null,
            "right": null,
            "justify_content": null,
            "_view_module": "@jupyter-widgets/base",
            "overflow": null,
            "_model_module_version": "1.2.0",
            "_view_count": null,
            "flex_flow": null,
            "width": null,
            "min_width": null,
            "border": null,
            "align_items": null,
            "bottom": null,
            "_model_module": "@jupyter-widgets/base",
            "top": null,
            "grid_column": null,
            "overflow_y": null,
            "overflow_x": null,
            "grid_auto_flow": null,
            "grid_area": null,
            "grid_template_columns": null,
            "flex": null,
            "_model_name": "LayoutModel",
            "justify_items": null,
            "grid_row": null,
            "max_height": null,
            "align_content": null,
            "visibility": null,
            "align_self": null,
            "height": null,
            "min_height": null,
            "padding": null,
            "grid_auto_rows": null,
            "grid_gap": null,
            "max_width": null,
            "order": null,
            "_view_module_version": "1.2.0",
            "grid_template_areas": null,
            "object_position": null,
            "object_fit": null,
            "grid_auto_columns": null,
            "margin": null,
            "display": null,
            "left": null
          }
        },
        "6a8b04b2985748a197a507159d7e6b21": {
          "model_module": "@jupyter-widgets/controls",
          "model_name": "DescriptionStyleModel",
          "model_module_version": "1.5.0",
          "state": {
            "_view_name": "StyleView",
            "_model_name": "DescriptionStyleModel",
            "description_width": "",
            "_view_module": "@jupyter-widgets/base",
            "_model_module_version": "1.5.0",
            "_view_count": null,
            "_view_module_version": "1.2.0",
            "_model_module": "@jupyter-widgets/controls"
          }
        },
        "9e24fda693594f6697426e692b03ca93": {
          "model_module": "@jupyter-widgets/base",
          "model_name": "LayoutModel",
          "model_module_version": "1.2.0",
          "state": {
            "_view_name": "LayoutView",
            "grid_template_rows": null,
            "right": null,
            "justify_content": null,
            "_view_module": "@jupyter-widgets/base",
            "overflow": null,
            "_model_module_version": "1.2.0",
            "_view_count": null,
            "flex_flow": null,
            "width": null,
            "min_width": null,
            "border": null,
            "align_items": null,
            "bottom": null,
            "_model_module": "@jupyter-widgets/base",
            "top": null,
            "grid_column": null,
            "overflow_y": null,
            "overflow_x": null,
            "grid_auto_flow": null,
            "grid_area": null,
            "grid_template_columns": null,
            "flex": null,
            "_model_name": "LayoutModel",
            "justify_items": null,
            "grid_row": null,
            "max_height": null,
            "align_content": null,
            "visibility": null,
            "align_self": null,
            "height": null,
            "min_height": null,
            "padding": null,
            "grid_auto_rows": null,
            "grid_gap": null,
            "max_width": null,
            "order": null,
            "_view_module_version": "1.2.0",
            "grid_template_areas": null,
            "object_position": null,
            "object_fit": null,
            "grid_auto_columns": null,
            "margin": null,
            "display": null,
            "left": null
          }
        },
        "8b93a70784cc4a81831fcedc39782153": {
          "model_module": "@jupyter-widgets/controls",
          "model_name": "HBoxModel",
          "model_module_version": "1.5.0",
          "state": {
            "_view_name": "HBoxView",
            "_dom_classes": [],
            "_model_name": "HBoxModel",
            "_view_module": "@jupyter-widgets/controls",
            "_model_module_version": "1.5.0",
            "_view_count": null,
            "_view_module_version": "1.5.0",
            "box_style": "",
            "layout": "IPY_MODEL_04a01b0b4f3b4e99b43739b6a1815703",
            "_model_module": "@jupyter-widgets/controls",
            "children": [
              "IPY_MODEL_2e13196e7bb1428295791b962b4370f2",
              "IPY_MODEL_0324a2fd717e4c1aaadf1c4e980351ec",
              "IPY_MODEL_92ab6373e8ea4f5c929430a3a88c78e6"
            ]
          }
        },
        "04a01b0b4f3b4e99b43739b6a1815703": {
          "model_module": "@jupyter-widgets/base",
          "model_name": "LayoutModel",
          "model_module_version": "1.2.0",
          "state": {
            "_view_name": "LayoutView",
            "grid_template_rows": null,
            "right": null,
            "justify_content": null,
            "_view_module": "@jupyter-widgets/base",
            "overflow": null,
            "_model_module_version": "1.2.0",
            "_view_count": null,
            "flex_flow": null,
            "width": null,
            "min_width": null,
            "border": null,
            "align_items": null,
            "bottom": null,
            "_model_module": "@jupyter-widgets/base",
            "top": null,
            "grid_column": null,
            "overflow_y": null,
            "overflow_x": null,
            "grid_auto_flow": null,
            "grid_area": null,
            "grid_template_columns": null,
            "flex": null,
            "_model_name": "LayoutModel",
            "justify_items": null,
            "grid_row": null,
            "max_height": null,
            "align_content": null,
            "visibility": null,
            "align_self": null,
            "height": null,
            "min_height": null,
            "padding": null,
            "grid_auto_rows": null,
            "grid_gap": null,
            "max_width": null,
            "order": null,
            "_view_module_version": "1.2.0",
            "grid_template_areas": null,
            "object_position": null,
            "object_fit": null,
            "grid_auto_columns": null,
            "margin": null,
            "display": null,
            "left": null
          }
        },
        "2e13196e7bb1428295791b962b4370f2": {
          "model_module": "@jupyter-widgets/controls",
          "model_name": "HTMLModel",
          "model_module_version": "1.5.0",
          "state": {
            "_view_name": "HTMLView",
            "style": "IPY_MODEL_60f651acfb4840ea87cd3340d1670c2e",
            "_dom_classes": [],
            "description": "",
            "_model_name": "HTMLModel",
            "placeholder": "​",
            "_view_module": "@jupyter-widgets/controls",
            "_model_module_version": "1.5.0",
            "value": "Downloading https://huggingface.co/stanfordnlp/stanza-fa/resolve/v1.3.0/models/default.zip: 100%",
            "_view_count": null,
            "_view_module_version": "1.5.0",
            "description_tooltip": null,
            "_model_module": "@jupyter-widgets/controls",
            "layout": "IPY_MODEL_e20666ed1ccb46109c8c5469bd9826b0"
          }
        },
        "0324a2fd717e4c1aaadf1c4e980351ec": {
          "model_module": "@jupyter-widgets/controls",
          "model_name": "FloatProgressModel",
          "model_module_version": "1.5.0",
          "state": {
            "_view_name": "ProgressView",
            "style": "IPY_MODEL_05421e92d0d7455098bb3365cb188dad",
            "_dom_classes": [],
            "description": "",
            "_model_name": "FloatProgressModel",
            "bar_style": "success",
            "max": 210965214,
            "_view_module": "@jupyter-widgets/controls",
            "_model_module_version": "1.5.0",
            "value": 210965214,
            "_view_count": null,
            "_view_module_version": "1.5.0",
            "orientation": "horizontal",
            "min": 0,
            "description_tooltip": null,
            "_model_module": "@jupyter-widgets/controls",
            "layout": "IPY_MODEL_b8e906718bbb45df8f355c500bb6acf4"
          }
        },
        "92ab6373e8ea4f5c929430a3a88c78e6": {
          "model_module": "@jupyter-widgets/controls",
          "model_name": "HTMLModel",
          "model_module_version": "1.5.0",
          "state": {
            "_view_name": "HTMLView",
            "style": "IPY_MODEL_c84ce05a94d845dbb2d87e4185f7d20d",
            "_dom_classes": [],
            "description": "",
            "_model_name": "HTMLModel",
            "placeholder": "​",
            "_view_module": "@jupyter-widgets/controls",
            "_model_module_version": "1.5.0",
            "value": " 211M/211M [00:12&lt;00:00, 19.4MB/s]",
            "_view_count": null,
            "_view_module_version": "1.5.0",
            "description_tooltip": null,
            "_model_module": "@jupyter-widgets/controls",
            "layout": "IPY_MODEL_e40bf28ee6b641748d0e9d954383ee2a"
          }
        },
        "60f651acfb4840ea87cd3340d1670c2e": {
          "model_module": "@jupyter-widgets/controls",
          "model_name": "DescriptionStyleModel",
          "model_module_version": "1.5.0",
          "state": {
            "_view_name": "StyleView",
            "_model_name": "DescriptionStyleModel",
            "description_width": "",
            "_view_module": "@jupyter-widgets/base",
            "_model_module_version": "1.5.0",
            "_view_count": null,
            "_view_module_version": "1.2.0",
            "_model_module": "@jupyter-widgets/controls"
          }
        },
        "e20666ed1ccb46109c8c5469bd9826b0": {
          "model_module": "@jupyter-widgets/base",
          "model_name": "LayoutModel",
          "model_module_version": "1.2.0",
          "state": {
            "_view_name": "LayoutView",
            "grid_template_rows": null,
            "right": null,
            "justify_content": null,
            "_view_module": "@jupyter-widgets/base",
            "overflow": null,
            "_model_module_version": "1.2.0",
            "_view_count": null,
            "flex_flow": null,
            "width": null,
            "min_width": null,
            "border": null,
            "align_items": null,
            "bottom": null,
            "_model_module": "@jupyter-widgets/base",
            "top": null,
            "grid_column": null,
            "overflow_y": null,
            "overflow_x": null,
            "grid_auto_flow": null,
            "grid_area": null,
            "grid_template_columns": null,
            "flex": null,
            "_model_name": "LayoutModel",
            "justify_items": null,
            "grid_row": null,
            "max_height": null,
            "align_content": null,
            "visibility": null,
            "align_self": null,
            "height": null,
            "min_height": null,
            "padding": null,
            "grid_auto_rows": null,
            "grid_gap": null,
            "max_width": null,
            "order": null,
            "_view_module_version": "1.2.0",
            "grid_template_areas": null,
            "object_position": null,
            "object_fit": null,
            "grid_auto_columns": null,
            "margin": null,
            "display": null,
            "left": null
          }
        },
        "05421e92d0d7455098bb3365cb188dad": {
          "model_module": "@jupyter-widgets/controls",
          "model_name": "ProgressStyleModel",
          "model_module_version": "1.5.0",
          "state": {
            "_view_name": "StyleView",
            "_model_name": "ProgressStyleModel",
            "description_width": "",
            "_view_module": "@jupyter-widgets/base",
            "_model_module_version": "1.5.0",
            "_view_count": null,
            "_view_module_version": "1.2.0",
            "bar_color": null,
            "_model_module": "@jupyter-widgets/controls"
          }
        },
        "b8e906718bbb45df8f355c500bb6acf4": {
          "model_module": "@jupyter-widgets/base",
          "model_name": "LayoutModel",
          "model_module_version": "1.2.0",
          "state": {
            "_view_name": "LayoutView",
            "grid_template_rows": null,
            "right": null,
            "justify_content": null,
            "_view_module": "@jupyter-widgets/base",
            "overflow": null,
            "_model_module_version": "1.2.0",
            "_view_count": null,
            "flex_flow": null,
            "width": null,
            "min_width": null,
            "border": null,
            "align_items": null,
            "bottom": null,
            "_model_module": "@jupyter-widgets/base",
            "top": null,
            "grid_column": null,
            "overflow_y": null,
            "overflow_x": null,
            "grid_auto_flow": null,
            "grid_area": null,
            "grid_template_columns": null,
            "flex": null,
            "_model_name": "LayoutModel",
            "justify_items": null,
            "grid_row": null,
            "max_height": null,
            "align_content": null,
            "visibility": null,
            "align_self": null,
            "height": null,
            "min_height": null,
            "padding": null,
            "grid_auto_rows": null,
            "grid_gap": null,
            "max_width": null,
            "order": null,
            "_view_module_version": "1.2.0",
            "grid_template_areas": null,
            "object_position": null,
            "object_fit": null,
            "grid_auto_columns": null,
            "margin": null,
            "display": null,
            "left": null
          }
        },
        "c84ce05a94d845dbb2d87e4185f7d20d": {
          "model_module": "@jupyter-widgets/controls",
          "model_name": "DescriptionStyleModel",
          "model_module_version": "1.5.0",
          "state": {
            "_view_name": "StyleView",
            "_model_name": "DescriptionStyleModel",
            "description_width": "",
            "_view_module": "@jupyter-widgets/base",
            "_model_module_version": "1.5.0",
            "_view_count": null,
            "_view_module_version": "1.2.0",
            "_model_module": "@jupyter-widgets/controls"
          }
        },
        "e40bf28ee6b641748d0e9d954383ee2a": {
          "model_module": "@jupyter-widgets/base",
          "model_name": "LayoutModel",
          "model_module_version": "1.2.0",
          "state": {
            "_view_name": "LayoutView",
            "grid_template_rows": null,
            "right": null,
            "justify_content": null,
            "_view_module": "@jupyter-widgets/base",
            "overflow": null,
            "_model_module_version": "1.2.0",
            "_view_count": null,
            "flex_flow": null,
            "width": null,
            "min_width": null,
            "border": null,
            "align_items": null,
            "bottom": null,
            "_model_module": "@jupyter-widgets/base",
            "top": null,
            "grid_column": null,
            "overflow_y": null,
            "overflow_x": null,
            "grid_auto_flow": null,
            "grid_area": null,
            "grid_template_columns": null,
            "flex": null,
            "_model_name": "LayoutModel",
            "justify_items": null,
            "grid_row": null,
            "max_height": null,
            "align_content": null,
            "visibility": null,
            "align_self": null,
            "height": null,
            "min_height": null,
            "padding": null,
            "grid_auto_rows": null,
            "grid_gap": null,
            "max_width": null,
            "order": null,
            "_view_module_version": "1.2.0",
            "grid_template_areas": null,
            "object_position": null,
            "object_fit": null,
            "grid_auto_columns": null,
            "margin": null,
            "display": null,
            "left": null
          }
        }
      }
    }
  },
  "cells": [
    {
      "cell_type": "markdown",
      "metadata": {
        "id": "view-in-github",
        "colab_type": "text"
      },
      "source": [
        "<a href=\"https://colab.research.google.com/github/NeagrTavakol/Final_dataminning/blob/main/Final_projet.ipynb\" target=\"_parent\"><img src=\"https://colab.research.google.com/assets/colab-badge.svg\" alt=\"Open In Colab\"/></a>"
      ]
    },
    {
      "cell_type": "code",
      "source": [
        "#import libraries\n",
        "import pandas as pd\n",
        "import numpy as np\n",
        "import matplotlib.pyplot as plt"
      ],
      "metadata": {
        "id": "E5ubuf-7Mqwp"
      },
      "execution_count": null,
      "outputs": []
    },
    {
      "cell_type": "code",
      "execution_count": null,
      "metadata": {
        "id": "S5Zsf-6dW0BB",
        "colab": {
          "base_uri": "https://localhost:8080/"
        },
        "outputId": "37ae7f10-ce34-44e3-bc3f-e337d7d3a2b0"
      },
      "outputs": [
        {
          "output_type": "stream",
          "name": "stdout",
          "text": [
            "Mounted at /content/drive\n"
          ]
        }
      ],
      "source": [
        "#mount drive\n",
        "from google.colab import drive\n",
        "drive.mount('/content/drive')"
      ]
    },
    {
      "cell_type": "markdown",
      "source": [
        "read dev dataset"
      ],
      "metadata": {
        "id": "x78584ISF7M3"
      }
    },
    {
      "cell_type": "code",
      "source": [
        "dev_csv=\"/content/drive/MyDrive/Colab Notebooks/dev.csv\"\n",
        "dev_df = pd.read_csv(dev_csv,sep='\\t')\n",
        "dev_df=dev_df.drop(\"Unnamed: 0\",axis=1)\n",
        "dev_columns=dev_df.columns"
      ],
      "metadata": {
        "id": "MXQhl0FxNEXe"
      },
      "execution_count": null,
      "outputs": []
    },
    {
      "cell_type": "markdown",
      "source": [
        "read train dataset"
      ],
      "metadata": {
        "id": "oV2uRteWF-f2"
      }
    },
    {
      "cell_type": "code",
      "source": [
        "train_csv=\"/content/drive/MyDrive/Colab Notebooks/train.csv\"\n",
        "train_df = pd.read_csv(train_csv,sep='\\t')\n",
        "train_df=train_df.drop(\"Unnamed: 0\",axis=1)\n",
        "train_columns = train_df.columns"
      ],
      "metadata": {
        "id": "BlwRTZ4CNN75"
      },
      "execution_count": null,
      "outputs": []
    },
    {
      "cell_type": "markdown",
      "source": [
        "## **Tokenize Data**"
      ],
      "metadata": {
        "id": "0KwhovBfPXyj"
      }
    },
    {
      "cell_type": "markdown",
      "source": [
        "**install packages**"
      ],
      "metadata": {
        "id": "dRs4-6bMGCPl"
      }
    },
    {
      "cell_type": "code",
      "source": [
        "# Install; note that the prefix \"!\" is not needed if you are running in a terminal\n",
        "!pip install stanza\n",
        "\n",
        "# Import the package\n",
        "import stanza"
      ],
      "metadata": {
        "colab": {
          "base_uri": "https://localhost:8080/"
        },
        "id": "5LZoqDbvPgP6",
        "outputId": "cedfe72d-8e3b-4e76-ee7f-e9b7c99ab6f2"
      },
      "execution_count": null,
      "outputs": [
        {
          "output_type": "stream",
          "name": "stdout",
          "text": [
            "Collecting stanza\n",
            "  Downloading stanza-1.3.0-py3-none-any.whl (432 kB)\n",
            "\u001b[K     |████████████████████████████████| 432 kB 4.3 MB/s \n",
            "\u001b[?25hRequirement already satisfied: numpy in /usr/local/lib/python3.7/dist-packages (from stanza) (1.19.5)\n",
            "Requirement already satisfied: requests in /usr/local/lib/python3.7/dist-packages (from stanza) (2.23.0)\n",
            "Requirement already satisfied: protobuf in /usr/local/lib/python3.7/dist-packages (from stanza) (3.17.3)\n",
            "Requirement already satisfied: torch>=1.3.0 in /usr/local/lib/python3.7/dist-packages (from stanza) (1.10.0+cu111)\n",
            "Requirement already satisfied: six in /usr/local/lib/python3.7/dist-packages (from stanza) (1.15.0)\n",
            "Requirement already satisfied: tqdm in /usr/local/lib/python3.7/dist-packages (from stanza) (4.62.3)\n",
            "Collecting emoji\n",
            "  Downloading emoji-1.6.3.tar.gz (174 kB)\n",
            "\u001b[K     |████████████████████████████████| 174 kB 48.3 MB/s \n",
            "\u001b[?25hRequirement already satisfied: typing-extensions in /usr/local/lib/python3.7/dist-packages (from torch>=1.3.0->stanza) (3.10.0.2)\n",
            "Requirement already satisfied: idna<3,>=2.5 in /usr/local/lib/python3.7/dist-packages (from requests->stanza) (2.10)\n",
            "Requirement already satisfied: certifi>=2017.4.17 in /usr/local/lib/python3.7/dist-packages (from requests->stanza) (2021.10.8)\n",
            "Requirement already satisfied: urllib3!=1.25.0,!=1.25.1,<1.26,>=1.21.1 in /usr/local/lib/python3.7/dist-packages (from requests->stanza) (1.24.3)\n",
            "Requirement already satisfied: chardet<4,>=3.0.2 in /usr/local/lib/python3.7/dist-packages (from requests->stanza) (3.0.4)\n",
            "Building wheels for collected packages: emoji\n",
            "  Building wheel for emoji (setup.py) ... \u001b[?25l\u001b[?25hdone\n",
            "  Created wheel for emoji: filename=emoji-1.6.3-py3-none-any.whl size=170298 sha256=5956e340f2236efab06f4d9da57ce6bffb2447f632b8d35d356b9a1130df1643\n",
            "  Stored in directory: /root/.cache/pip/wheels/03/8b/d7/ad579fbef83c287215c0caab60fb0ae0f30c4d7ce5f580eade\n",
            "Successfully built emoji\n",
            "Installing collected packages: emoji, stanza\n",
            "Successfully installed emoji-1.6.3 stanza-1.3.0\n"
          ]
        }
      ]
    },
    {
      "cell_type": "code",
      "source": [
        "# Download an Persiabn model into the default directory\n",
        "print(\"Downloading Persian model...\")\n",
        "stanza.download('fa')"
      ],
      "metadata": {
        "colab": {
          "base_uri": "https://localhost:8080/",
          "height": 135,
          "referenced_widgets": [
            "b5b4ea8657074e038dccf58b4c5f43e6",
            "d950bd7e01a64ad48c92b19eb137f741",
            "fe24f99ba31d4d6991fae73a843ab423",
            "4438b8d8bdef4ff7a45bcc21ba2a1e2d",
            "cb7816282cd74d9eb9bf61004ed2101d",
            "a5011e292c6843a59d4c1153fc18273a",
            "cb62667ecc4d427baae72b37c93033ff",
            "e825688f8cdd4e1fb0c0d5156ad12db6",
            "fa45a934eaec499380274a41e236ecac",
            "6a8b04b2985748a197a507159d7e6b21",
            "9e24fda693594f6697426e692b03ca93",
            "8b93a70784cc4a81831fcedc39782153",
            "04a01b0b4f3b4e99b43739b6a1815703",
            "2e13196e7bb1428295791b962b4370f2",
            "0324a2fd717e4c1aaadf1c4e980351ec",
            "92ab6373e8ea4f5c929430a3a88c78e6",
            "60f651acfb4840ea87cd3340d1670c2e",
            "e20666ed1ccb46109c8c5469bd9826b0",
            "05421e92d0d7455098bb3365cb188dad",
            "b8e906718bbb45df8f355c500bb6acf4",
            "c84ce05a94d845dbb2d87e4185f7d20d",
            "e40bf28ee6b641748d0e9d954383ee2a"
          ]
        },
        "id": "C3xfPJpVQO8o",
        "outputId": "0be52fa3-2cf3-4801-c77d-8dce0a3acafd"
      },
      "execution_count": null,
      "outputs": [
        {
          "output_type": "stream",
          "name": "stdout",
          "text": [
            "Downloading Persian model...\n"
          ]
        },
        {
          "output_type": "display_data",
          "data": {
            "application/vnd.jupyter.widget-view+json": {
              "model_id": "b5b4ea8657074e038dccf58b4c5f43e6",
              "version_minor": 0,
              "version_major": 2
            },
            "text/plain": [
              "Downloading https://raw.githubusercontent.com/stanfordnlp/stanza-resources/main/resources_1.3.0.json:   0%|   …"
            ]
          },
          "metadata": {}
        },
        {
          "output_type": "stream",
          "name": "stderr",
          "text": [
            "2022-01-27 17:28:17 INFO: Downloading default packages for language: fa (Persian)...\n"
          ]
        },
        {
          "output_type": "display_data",
          "data": {
            "application/vnd.jupyter.widget-view+json": {
              "model_id": "8b93a70784cc4a81831fcedc39782153",
              "version_minor": 0,
              "version_major": 2
            },
            "text/plain": [
              "Downloading https://huggingface.co/stanfordnlp/stanza-fa/resolve/v1.3.0/models/default.zip:   0%|          | 0…"
            ]
          },
          "metadata": {}
        },
        {
          "output_type": "stream",
          "name": "stderr",
          "text": [
            "2022-01-27 17:28:38 INFO: Finished downloading models and saved to /root/stanza_resources.\n"
          ]
        }
      ]
    },
    {
      "cell_type": "markdown",
      "source": [
        "**create models**"
      ],
      "metadata": {
        "id": "1KFpju0aGG6B"
      }
    },
    {
      "cell_type": "code",
      "source": [
        "# Build a Persian pipeline, with all processors by default\n",
        "print(\"Building a Persian pipeline...\")\n",
        "fa_nlp = stanza.Pipeline('fa')"
      ],
      "metadata": {
        "colab": {
          "base_uri": "https://localhost:8080/"
        },
        "id": "rKIL-W1CQjEB",
        "outputId": "889764f2-d8b4-4668-a1d6-e24b7b2fff91"
      },
      "execution_count": null,
      "outputs": [
        {
          "output_type": "stream",
          "name": "stderr",
          "text": [
            "2022-01-27 17:28:41 INFO: Loading these models for language: fa (Persian):\n",
            "=======================\n",
            "| Processor | Package |\n",
            "-----------------------\n",
            "| tokenize  | perdt   |\n",
            "| mwt       | perdt   |\n",
            "| pos       | perdt   |\n",
            "| lemma     | perdt   |\n",
            "| depparse  | perdt   |\n",
            "=======================\n",
            "\n",
            "2022-01-27 17:28:41 INFO: Use device: cpu\n",
            "2022-01-27 17:28:41 INFO: Loading: tokenize\n"
          ]
        },
        {
          "output_type": "stream",
          "name": "stdout",
          "text": [
            "Building a Persian pipeline...\n"
          ]
        },
        {
          "output_type": "stream",
          "name": "stderr",
          "text": [
            "2022-01-27 17:28:41 INFO: Loading: mwt\n",
            "2022-01-27 17:28:41 INFO: Loading: pos\n",
            "2022-01-27 17:28:42 INFO: Loading: lemma\n",
            "2022-01-27 17:28:42 INFO: Loading: depparse\n",
            "2022-01-27 17:28:43 INFO: Done loading processors!\n"
          ]
        }
      ]
    },
    {
      "cell_type": "markdown",
      "source": [
        "**find tokens of dataframe and save in array**"
      ],
      "metadata": {
        "id": "Qvm7Rjb8GJDx"
      }
    },
    {
      "cell_type": "code",
      "source": [
        "# test_token_df['tokenized_sents'] = test_token_df.apply(lambda row: fa_nlp(row['comment']).sentences.words.text, axis=1)\n",
        "tokenized_array=[]\n",
        "for i in range(0,len(train_df)):\n",
        "  comment=train_df.iloc[i][\"comment\"]\n",
        "  tokenized_comment = fa_nlp(comment)\n",
        "  tokens_array=[]\n",
        "  for i,sent in enumerate(tokenized_comment.sentences):\n",
        "    for word in sent.words:\n",
        "      tokens_array.append(word.text)\n",
        "  tokenized_array.append(tokens_array)\n",
        "#word.text, word.lemma, word.pos, word.head, word.deprel))"
      ],
      "metadata": {
        "id": "yPM0Kb_NURsi"
      },
      "execution_count": null,
      "outputs": []
    },
    {
      "cell_type": "code",
      "source": [
        "#find tokens of rest of dataset (process interupted cause of volume of dataset)\n",
        "# rest_train_df=train_df[52466:]\n",
        "for i in range(52466,len(train_df)):\n",
        "  comment=train_df.iloc[i][\"comment\"]\n",
        "  tokenized_comment = fa_nlp(comment)\n",
        "  tokens_array=[]\n",
        "  for i,sent in enumerate(tokenized_comment.sentences):\n",
        "    for word in sent.words:\n",
        "      tokens_array.append(word.text)\n",
        "  tokenized_array.append(tokens_array)"
      ],
      "metadata": {
        "colab": {
          "base_uri": "https://localhost:8080/"
        },
        "id": "yoetAKhg7wRZ",
        "outputId": "4957b761-424b-4f4e-d99e-3dd0a5701d22"
      },
      "execution_count": null,
      "outputs": [
        {
          "output_type": "stream",
          "name": "stderr",
          "text": [
            "/usr/local/lib/python3.7/dist-packages/stanza/models/common/beam.py:86: UserWarning: __floordiv__ is deprecated, and its behavior will change in a future version of pytorch. It currently rounds toward 0 (like the 'trunc' function NOT 'floor'). This results in incorrect rounding for negative values. To keep the current behavior, use torch.div(a, b, rounding_mode='trunc'), or for actual floor division, use torch.div(a, b, rounding_mode='floor').\n",
            "  prevK = bestScoresId // numWords\n"
          ]
        }
      ]
    },
    {
      "cell_type": "markdown",
      "source": [
        "**save tokens array to csv file**"
      ],
      "metadata": {
        "id": "OycN6D_LGYzb"
      }
    },
    {
      "cell_type": "code",
      "source": [
        "#save tokens to array\n",
        "import csv\n",
        "with open('tokens_array.csv', 'w', newline='') as file:\n",
        "    mywriter = csv.writer(file, delimiter=',')\n",
        "    mywriter.writerows(tokenized_array)"
      ],
      "metadata": {
        "id": "nndyXJXsA-lj"
      },
      "execution_count": null,
      "outputs": []
    },
    {
      "cell_type": "markdown",
      "source": [
        "**convert tokens array to dataframe **"
      ],
      "metadata": {
        "id": "UXccrNvIGNte"
      }
    },
    {
      "cell_type": "code",
      "source": [
        "# convert tokenized_array to dataframe\n",
        "tokenized_df=pd.DataFrame(tokenized_array)"
      ],
      "metadata": {
        "id": "FDvkVouPdNF7"
      },
      "execution_count": null,
      "outputs": []
    },
    {
      "cell_type": "markdown",
      "source": [
        "**save dataframe to csv file**"
      ],
      "metadata": {
        "id": "Fpq4V7vUGZ-y"
      }
    },
    {
      "cell_type": "code",
      "source": [
        "#save dataframe \n",
        "tokenized_df.to_csv('tokens_df.csv')"
      ],
      "metadata": {
        "id": "VMLslzyPGZHq"
      },
      "execution_count": null,
      "outputs": []
    },
    {
      "cell_type": "code",
      "source": [
        "# with open('tokens_array.csv', 'r', newline='') as file:\n",
        "#   myreader = csv.reader(file, delimiter=',')\n",
        "#   for rows in myreader:\n",
        "#     print(rows)"
      ],
      "metadata": {
        "id": "XoyKXLy-EQ9H"
      },
      "execution_count": null,
      "outputs": []
    },
    {
      "cell_type": "markdown",
      "source": [
        "## **Read tokenized dataet**"
      ],
      "metadata": {
        "id": "yej2YkqA2Eur"
      }
    },
    {
      "cell_type": "markdown",
      "source": [
        "**read from array csv file (smaller size)**"
      ],
      "metadata": {
        "id": "4g6fQbUzcTvX"
      }
    },
    {
      "cell_type": "markdown",
      "source": [
        "تو از اینجا ران کن(فایلش رو تلگرام فرستادم برات)"
      ],
      "metadata": {
        "id": "rE9U50m3dC-4"
      }
    },
    {
      "cell_type": "code",
      "source": [
        "#read array csv file\n",
        "tokens_array=pd.read_csv(\"/content/drive/MyDrive/Colab Notebooks/tokens_array.csv\",sep='\\t',header=None)\n",
        "# tokens_array.head()"
      ],
      "metadata": {
        "id": "6QWQlYVeHBPt"
      },
      "execution_count": null,
      "outputs": []
    },
    {
      "cell_type": "markdown",
      "source": [
        "## **Preproccessing**"
      ],
      "metadata": {
        "id": "4RMbt2gy2Cjd"
      }
    },
    {
      "cell_type": "markdown",
      "source": [
        "**Remove punctuation**"
      ],
      "metadata": {
        "id": "XVBLDgZsG9mx"
      }
    },
    {
      "cell_type": "code",
      "source": [
        "from types import new_class\n",
        "# from string import punctuation\n",
        "import re\n",
        "\n",
        "punctuation=['!','\"','#','$','%','&',\"'\",'(',')','*','+','،','-','.',','\"/\",':',';','<','=','>','?','@','[',\"\\\\\",\"]\",\"^\",'_','`','{','|','}','~']\n",
        "# tokens_array.to_numpy()\n",
        "tokens_arr=[]\n",
        "for i in tokens_array.to_numpy():\n",
        "  sent=[]\n",
        "  for j in i[0].split(','):\n",
        "    if j not in punctuation:\n",
        "      sent.append(j)\n",
        "  tokens_arr.append(sent)"
      ],
      "metadata": {
        "id": "CO3oUTO7V2fW"
      },
      "execution_count": null,
      "outputs": []
    },
    {
      "cell_type": "code",
      "source": [
        "for i in tokens_arr[:10]:\n",
        "  print(i)"
      ],
      "metadata": {
        "id": "W3bhetJ5EBwp",
        "colab": {
          "base_uri": "https://localhost:8080/"
        },
        "outputId": "1f4fd463-f4d9-4f21-af02-9c6c26ea7624"
      },
      "execution_count": null,
      "outputs": [
        {
          "output_type": "stream",
          "name": "stdout",
          "text": [
            "['واقعا', 'حیف', 'وقت', 'که', 'بنویسم', 'سرویس', 'دهیتون', 'شده', 'افتضاح']\n",
            "['قرار', 'بود', '۱', 'ساعته', 'برسه', 'ولی', 'نیم', 'ساعت', 'زودتر', 'از', 'موقع', 'رسید', 'شما', 'ببین', 'چقدرررررررررررر', 'پلاک', 'خفنههههه', 'من', 'سالها', 'ست', 'مشتریشونم', 'و', 'سالها', 'ست', 'مزه', 'بهشت', 'میده', 'غذاشون']\n",
            "['قیمت', 'این', 'مدل', 'اصلا', 'با', 'کیفیتش', 'سازگاری', 'نداره', 'فقط', 'ظاهر', 'فریبنده', 'داره', 'پرش', 'میکنن', 'کالباس', 'و', 'قارچ']\n",
            "['عالللی', 'بود', 'همه', 'چه', 'درست', 'و', 'به', 'اندازه', 'و', 'کیفیت', 'خوب', 'امیداورم', 'همیشه', 'کیفیتتون', 'خوب', 'باشه', 'ما', 'مشتری', 'همیشگی', 'بشیم']\n",
            "['شیرینی', 'وانیلی', 'فقط', 'یک', 'مدل', 'بود']\n",
            "['بدترین', 'پیتزایی', 'که', 'تا', 'به', 'حال', 'خورده', 'بودم']\n",
            "['از', 'همه', 'لحاظ', 'عالی', 'ممنون', 'م']\n",
            "['کیفیت', 'غذا', 'متوسط', 'رو', 'به', 'پایین', 'بود', 'انگار', 'داخل', 'یه', 'رستوران', 'معمولی', 'غذا', 'خوردی', 'درحالی', 'که', 'امتیاز', 'رستوران', 'در', 'اسنپ', 'فود', '۴٫۳', 'بود']\n",
            "['همه', 'اقلام', 'تازه', 'و', 'به', 'روز', 'وخیلیییییی', 'سریع', 'بدستم', 'رسید', 'واقعا', 'متشکرم']\n",
            "['همه', 'چی', 'خوب', 'ولی', 'هات', 'داگ', 'دور', 'ش', 'کلا', 'سوخته', 'بود', 'و', 'داخلش', 'خام', 'بود']\n"
          ]
        }
      ]
    },
    {
      "cell_type": "markdown",
      "source": [
        "**Analyze Reviews Length**"
      ],
      "metadata": {
        "id": "EVOLFx-BsATM"
      }
    },
    {
      "cell_type": "code",
      "source": [
        "import matplotlib.pyplot as plt\n",
        "reviews_len = [len(x) for x in tokens_arr]\n",
        "reviews_len=np.array(reviews_len)"
      ],
      "metadata": {
        "id": "tmqpe1pxrrOg"
      },
      "execution_count": null,
      "outputs": []
    },
    {
      "cell_type": "code",
      "source": [
        "# pd.Series(tokens_arr).hist()\n",
        "# plt.show()\n",
        "# pd.Series(tokens_arr).describe()"
      ],
      "metadata": {
        "id": "QXKuxOdGyRPx"
      },
      "execution_count": null,
      "outputs": []
    },
    {
      "cell_type": "code",
      "source": [
        "print(\"min:\",reviews_len.min(),\"max:\",reviews_len.max(),\"min:\",reviews_len.mean(),\"len:\",len(reviews_len))"
      ],
      "metadata": {
        "colab": {
          "base_uri": "https://localhost:8080/"
        },
        "id": "1POTybkdsYIc",
        "outputId": "73a47115-7a6d-4b02-88bc-d7dd81bc1bc4"
      },
      "execution_count": null,
      "outputs": [
        {
          "output_type": "stream",
          "name": "stdout",
          "text": [
            "min: 3 max: 362 min: 19.003015873015872 len: 56700\n"
          ]
        }
      ]
    },
    {
      "cell_type": "code",
      "source": [
        "# for i in range(6,29):\n",
        "print(np.count_nonzero(reviews_len > 75))"
      ],
      "metadata": {
        "colab": {
          "base_uri": "https://localhost:8080/"
        },
        "id": "TI_5SETMti6E",
        "outputId": "d6cf72ee-8a90-4f66-d0a6-aff7d68b2e7d"
      },
      "execution_count": null,
      "outputs": [
        {
          "output_type": "stream",
          "name": "stdout",
          "text": [
            "689\n"
          ]
        }
      ]
    },
    {
      "cell_type": "markdown",
      "source": [
        "**Remove outliers**"
      ],
      "metadata": {
        "id": "IdwzIqgukt-2"
      }
    },
    {
      "cell_type": "code",
      "source": [
        "cleaned_rokens_arr=[x for x in tokens_arr if len(x)<75]\n",
        "print(len(cleaned_rokens_arr))"
      ],
      "metadata": {
        "id": "UGdu_Vvt5RCb"
      },
      "execution_count": null,
      "outputs": []
    },
    {
      "cell_type": "markdown",
      "source": [
        "ثریا \n",
        "اینجا کد ورد امبدنیگ رو میتونی ببینی \n",
        "کلمات مختلفی هم باهاش امتحان کردم اوکی شد"
      ],
      "metadata": {
        "id": "DN_EyeBDRV3C"
      }
    },
    {
      "cell_type": "markdown",
      "source": [
        "## **Word embedding**"
      ],
      "metadata": {
        "id": "LELpzRA6Fd-j"
      }
    },
    {
      "cell_type": "code",
      "source": [
        "!pip install gensim\n",
        "# !pip install nltk"
      ],
      "metadata": {
        "colab": {
          "base_uri": "https://localhost:8080/"
        },
        "id": "r0NNhnaCxdxP",
        "outputId": "7ac0da21-2e2a-45bc-af38-d6e1d0315976"
      },
      "execution_count": null,
      "outputs": [
        {
          "output_type": "stream",
          "name": "stdout",
          "text": [
            "Requirement already satisfied: gensim in /usr/local/lib/python3.7/dist-packages (3.6.0)\n",
            "Requirement already satisfied: numpy>=1.11.3 in /usr/local/lib/python3.7/dist-packages (from gensim) (1.19.5)\n",
            "Requirement already satisfied: smart-open>=1.2.1 in /usr/local/lib/python3.7/dist-packages (from gensim) (5.2.1)\n",
            "Requirement already satisfied: six>=1.5.0 in /usr/local/lib/python3.7/dist-packages (from gensim) (1.15.0)\n",
            "Requirement already satisfied: scipy>=0.18.1 in /usr/local/lib/python3.7/dist-packages (from gensim) (1.4.1)\n"
          ]
        }
      ]
    },
    {
      "cell_type": "code",
      "source": [
        "#for_test_for_word_embedding\n",
        "# import gensim\n",
        "# from gensim.models import Word2Vec\n",
        "# from nltk.tokenize import sent_tokenize, word_tokenize\n",
        "# import pandas as pd\n",
        "\n",
        "\n",
        "# rev.head()\n",
        "# corpus_text = 'n'.join(rev[:1000]['Text'])\n",
        "# data = []\n",
        "# # iterate through each sentence in the file\n",
        "# for i in sent_tokenize(corpus_text):\n",
        "#     temp = []\n",
        "#     # tokenize the sentence into words\n",
        "#     for j in word_tokenize(i):\n",
        "#         temp.append(j.lower())\n",
        "#     data.append(temp)\n",
        "\n",
        "# word2vec= gensim.models.Word2Vec(data, min_count=5,size=100)\n",
        "# word2vec = Word2Vec(cleaned_rokens_arr, min_count=5,size=100)\n",
        "# کد بالایی ها رو فعلا بذار باشه و اینکه کامنت باشه  "
      ],
      "metadata": {
        "id": "VuYPHFvRS1an"
      },
      "execution_count": 1,
      "outputs": []
    },
    {
      "cell_type": "code",
      "source": [
        "#main_code\n",
        "import gensim\n",
        "from gensim.models import KeyedVectors\n",
        "model = KeyedVectors.load_word2vec_format('/content/drive/MyDrive/Colab Notebooks/model.bin', binary=True)"
      ],
      "metadata": {
        "id": "b5y1iYU7HYaa"
      },
      "execution_count": null,
      "outputs": []
    },
    {
      "cell_type": "code",
      "source": [
        "vector = model['خوب']\n",
        "# see the shape of the vector (300,)\n",
        "vector.shape"
      ],
      "metadata": {
        "colab": {
          "base_uri": "https://localhost:8080/"
        },
        "id": "Edv_CKUNQdhq",
        "outputId": "2872b026-7d3c-4030-e698-5416a4e2a3fa"
      },
      "execution_count": null,
      "outputs": [
        {
          "output_type": "execute_result",
          "data": {
            "text/plain": [
              "(100,)"
            ]
          },
          "metadata": {},
          "execution_count": 23
        }
      ]
    },
    {
      "cell_type": "code",
      "source": [
        "model.most_similar('بهتر')"
      ],
      "metadata": {
        "colab": {
          "base_uri": "https://localhost:8080/"
        },
        "id": "36AjZrxKQvcq",
        "outputId": "ef0d5ee2-7e94-4fab-f1c4-e14bc318214c"
      },
      "execution_count": null,
      "outputs": [
        {
          "output_type": "execute_result",
          "data": {
            "text/plain": [
              "[('.بهتر', 0.8202100992202759),\n",
              " ('مناسبتر', 0.7822331190109253),\n",
              " ('مفیدتر', 0.7766575217247009),\n",
              " ('خوب', 0.7656928300857544),\n",
              " ('وبهتر', 0.7652808427810669),\n",
              " ('راحتر', 0.7449773550033569),\n",
              " ('راحتتر', 0.7429759502410889),\n",
              " ('..بهتر', 0.73868727684021),\n",
              " ('-بهتر', 0.7375583052635193),\n",
              " ('!بهتر', 0.7351512908935547)]"
            ]
          },
          "metadata": {},
          "execution_count": 26
        }
      ]
    },
    {
      "cell_type": "code",
      "source": [
        "model.most_similar('طعم')"
      ],
      "metadata": {
        "colab": {
          "base_uri": "https://localhost:8080/"
        },
        "id": "KYCplW3bRLzb",
        "outputId": "4805275f-5c0b-47e1-ab08-339c0abc386b"
      },
      "execution_count": null,
      "outputs": [
        {
          "output_type": "execute_result",
          "data": {
            "text/plain": [
              "[('مزه', 0.8385604023933411),\n",
              " ('وطعم', 0.8267494440078735),\n",
              " ('طعمی', 0.8193885684013367),\n",
              " ('.طعم', 0.7970529198646545),\n",
              " ('ترش', 0.7735953330993652),\n",
              " ('گَس', 0.755219042301178),\n",
              " ('طعمش', 0.7514316439628601),\n",
              " ('داژه', 0.7506887316703796),\n",
              " ('ترشی', 0.7470675706863403),\n",
              " ('گرانولا', 0.7449643611907959)]"
            ]
          },
          "metadata": {},
          "execution_count": 27
        }
      ]
    },
    {
      "cell_type": "code",
      "source": [
        "len(cleaned_rokens_arr)"
      ],
      "metadata": {
        "colab": {
          "base_uri": "https://localhost:8080/"
        },
        "id": "xvstHYptgFot",
        "outputId": "2389d55e-1038-43ba-ff68-d4d6423d34c4"
      },
      "execution_count": null,
      "outputs": [
        {
          "output_type": "execute_result",
          "data": {
            "text/plain": [
              "55978"
            ]
          },
          "metadata": {},
          "execution_count": 20
        }
      ]
    },
    {
      "cell_type": "markdown",
      "source": [
        "**calculate vacors for each word**"
      ],
      "metadata": {
        "id": "IRCDCwxkfqrl"
      }
    },
    {
      "cell_type": "code",
      "source": [
        "# word_vectors=word2vec[word2vec.wv]"
      ],
      "metadata": {
        "id": "waEJFjlfyOkB"
      },
      "execution_count": null,
      "outputs": []
    },
    {
      "cell_type": "code",
      "source": [
        "# len(word_vectors)"
      ],
      "metadata": {
        "id": "BhWeCoxIyoMq"
      },
      "execution_count": null,
      "outputs": []
    },
    {
      "cell_type": "code",
      "source": [
        "# word_vectors[:1]"
      ],
      "metadata": {
        "id": "1-oy9hv1ydHp"
      },
      "execution_count": null,
      "outputs": []
    },
    {
      "cell_type": "code",
      "source": [
        "vectors_arr=[]\n",
        "for sent in cleaned_rokens_arr:\n",
        "  vec_vocab=[model[word] for word in sent if model[word]]\n",
        "  vectors_arr.append(vec_vocab)"
      ],
      "metadata": {
        "id": "mFQ7oVEMHymP"
      },
      "execution_count": null,
      "outputs": []
    },
    {
      "cell_type": "code",
      "source": [
        "vocabulary = word2vec.wv.vocab\n",
        "embedded_array=[]\n",
        "for sent in cleaned_rokens_arr:\n",
        "  vec_vocab=[word2vec.wv[word] for word in sent if word in vocabulary]\n",
        "  embedded_array.append(vec_vocab)"
      ],
      "metadata": {
        "id": "FzgwlXA6TGBU"
      },
      "execution_count": null,
      "outputs": []
    },
    {
      "cell_type": "code",
      "source": [
        "for i in range(0,1):\n",
        "  print((embedded_array[i]))#,len(cleaned_rokens_arr[i]))"
      ],
      "metadata": {
        "id": "0NfKp7xtgl_A"
      },
      "execution_count": null,
      "outputs": []
    },
    {
      "cell_type": "markdown",
      "source": [
        "**save embedded words in csv file(too large!)>500mb**"
      ],
      "metadata": {
        "id": "zKUfDhLtfyOP"
      }
    },
    {
      "cell_type": "code",
      "source": [
        "# #save tokens to array\n",
        "# import csv\n",
        "# with open('embedded_array.csv', 'w', newline='') as file:\n",
        "#     mywriter = csv.writer(file, delimiter=',')\n",
        "#     mywriter.writerows(embedded_array)"
      ],
      "metadata": {
        "id": "272mlR6Uf7ID"
      },
      "execution_count": null,
      "outputs": []
    },
    {
      "cell_type": "markdown",
      "source": [
        "# **Prepare vectors for train**"
      ],
      "metadata": {
        "id": "AFIGQ6GpIdOm"
      }
    },
    {
      "cell_type": "markdown",
      "source": [
        "**lenght of vectors**"
      ],
      "metadata": {
        "id": "nAFe4RyvJAEc"
      }
    },
    {
      "cell_type": "code",
      "source": [
        "vectors_len = [len(x) for x in embedded_array]\n",
        "vectors=np.array(vectors_len)\n",
        "max_vector_len=max(vectors_len)"
      ],
      "metadata": {
        "id": "2CU21PMvJA4W"
      },
      "execution_count": null,
      "outputs": []
    },
    {
      "cell_type": "markdown",
      "source": [
        "**Add padding to short comemnts**"
      ],
      "metadata": {
        "id": "D4AiL_A8flt8"
      }
    },
    {
      "cell_type": "code",
      "source": [
        "#add padding vetor 0\n",
        "padding_vec=[0.0]*100\n",
        "pad_embedded_array=[]\n",
        "for vector in embedded_array:\n",
        "  if len(vector)<max_vector_len:\n",
        "    padding=[padding_vec]*(max_vector_len-len(vector))\n",
        "    vector=vector+padding\n",
        "  pad_embedded_array.append(vector)"
      ],
      "metadata": {
        "id": "Rd9peTdEJDNa"
      },
      "execution_count": null,
      "outputs": []
    },
    {
      "cell_type": "code",
      "source": [
        "import math\n",
        "padded_posts = []\n",
        "print(len(vec_vocab))\n",
        "for post in [vec_vocab]:\n",
        "    # Pad short posts with alternating min/max\n",
        "    if len(post) < 20:\n",
        "        # # Method 1\n",
        "        # pointwise_min = np.minimum.reduce(np.any(post, axis=1))\n",
        "        # m=min(post)\n",
        "        # pointwise_max = np.maximum.reduce(post)\n",
        "        # padding = [pointwise_max, pointwise_min]\n",
        "        \n",
        "        # Method 2\n",
        "        pointwise_avg = np.mean(post)\n",
        "        padding = [pointwise_avg]\n",
        "        # post += padding * math.ceil((20 - len(post) / 2.0))\n",
        "        post += padding*(20-len(post))  \n",
        "    # Shorten long posts or those odd number length posts we padded to 51\n",
        "    if len(post) > 20:\n",
        "        post = post[:20]    \n",
        "    # Add the post to our new list of padded posts\n",
        "    padded_posts.append(post)"
      ],
      "metadata": {
        "id": "cjzQa8m0TTij"
      },
      "execution_count": null,
      "outputs": []
    },
    {
      "cell_type": "markdown",
      "source": [
        "## **Traingin LSTM**"
      ],
      "metadata": {
        "id": "NqEwwNd9-c0b"
      }
    },
    {
      "cell_type": "markdown",
      "source": [
        "**Import tensowerflow**"
      ],
      "metadata": {
        "id": "AMs2mRtE-jLl"
      }
    },
    {
      "cell_type": "code",
      "source": [
        "import io\n",
        "import re\n",
        "import string\n",
        "import tqdm\n",
        "\n",
        "import numpy as np\n",
        "\n",
        "import tensorflow as tf\n",
        "from tensorflow.keras import layers"
      ],
      "metadata": {
        "id": "uExbP15WRq2S"
      },
      "execution_count": null,
      "outputs": []
    },
    {
      "cell_type": "code",
      "source": [
        "# Load the TensorBoard notebook extension\n",
        "%load_ext tensorboard"
      ],
      "metadata": {
        "id": "STW4J4Z1RvBu"
      },
      "execution_count": null,
      "outputs": []
    },
    {
      "cell_type": "code",
      "source": [
        "SEED = 42\n",
        "AUTOTUNE = tf.data.AUTOTUNE"
      ],
      "metadata": {
        "id": "kFOXJkCERyEV"
      },
      "execution_count": null,
      "outputs": []
    },
    {
      "cell_type": "code",
      "source": [
        "len(embedded_array[:1][0][0])"
      ],
      "metadata": {
        "colab": {
          "base_uri": "https://localhost:8080/"
        },
        "id": "iedTO7GbrrXD",
        "outputId": "abbde6cd-3e6d-4410-8b71-ad911af3d9d3"
      },
      "execution_count": null,
      "outputs": [
        {
          "output_type": "execute_result",
          "data": {
            "text/plain": [
              "100"
            ]
          },
          "metadata": {},
          "execution_count": 40
        }
      ]
    },
    {
      "cell_type": "code",
      "source": [
        "import tensorflow as tf\n",
        "print(tf.__version__)"
      ],
      "metadata": {
        "colab": {
          "base_uri": "https://localhost:8080/"
        },
        "id": "ZA6RlQ-O-cWy",
        "outputId": "e0927fb9-79f1-4b23-8be1-a526cb3103fc"
      },
      "execution_count": null,
      "outputs": [
        {
          "output_type": "stream",
          "name": "stdout",
          "text": [
            "2.7.0\n"
          ]
        }
      ]
    },
    {
      "cell_type": "code",
      "source": [
        "import tensorflow as tf\n",
        "from tensorflow.keras.datasets import imdb\n",
        "from tensorflow.keras.preprocessing import sequence\n",
        "from tensorflow.python.keras.layers import Input\n",
        "#,a LSTM, Bidirectional, Dense, Embedding"
      ],
      "metadata": {
        "id": "shejqhVOr50s"
      },
      "execution_count": null,
      "outputs": []
    },
    {
      "cell_type": "markdown",
      "source": [
        "**Create Model**"
      ],
      "metadata": {
        "id": "xUzPX6jrJpmw"
      }
    },
    {
      "cell_type": "code",
      "source": [
        "x=embedded_array[:1]\n",
        "y=[]\n",
        "x_train = sequence.pad_sequences(x, maxlen=100)\n",
        "y.append(x_train)\n",
        "print(x_train)"
      ],
      "metadata": {
        "colab": {
          "base_uri": "https://localhost:8080/"
        },
        "id": "5aqQd7a9r1Ss",
        "outputId": "d8d7ca58-5af6-4a9e-fdea-547d2523a37b"
      },
      "execution_count": null,
      "outputs": [
        {
          "output_type": "stream",
          "name": "stdout",
          "text": [
            "[[[ 0  0  0 ...  0  0  0]\n",
            "  [ 0  0  0 ...  0  0  0]\n",
            "  [ 0  0  0 ...  0  0  0]\n",
            "  ...\n",
            "  [ 0  0  0 ...  0  0  0]\n",
            "  [ 1  0 -2 ...  1  0  0]\n",
            "  [ 0  0  0 ...  0  0  0]]]\n"
          ]
        }
      ]
    },
    {
      "cell_type": "code",
      "source": [
        "#for test\n",
        "# import numpy as np\n",
        "# import pickle\n",
        "\n",
        "# import sys\n",
        "# import os\n",
        "\n",
        "# from keras.preprocessing.sequence import pad_sequences\n",
        "# from keras.utils.np_utils import to_categorical\n",
        "\n",
        "# from keras.layers import Embedding\n",
        "# from keras.layers import Dense, Input\n",
        "# from keras.layers import TimeDistributed\n",
        "# from keras.layers import LSTM, Bidirectional\n",
        "# from keras.models import Model\n",
        "# embedding_layer = Embedding(len(word2int) + 1,\n",
        "#                             EMBEDDING_DIM,\n",
        "#                             weights=[embedding_matrix],\n",
        "#                             input_length=30,\n",
        "#                             trainable=True)\n",
        "# sequence_input = Input(shape=(30,), dtype='int32')\n",
        "# embedded_sequences = embedding_layer(sequence_input)\n",
        "# l_lstm = Bidirectional(LSTM(69, return_sequences=True))(embedded_sequences)"
      ],
      "metadata": {
        "id": "ZuIwIHStn6vs"
      },
      "execution_count": null,
      "outputs": []
    }
  ]
}
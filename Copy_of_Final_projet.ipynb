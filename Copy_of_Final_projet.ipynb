{
  "nbformat": 4,
  "nbformat_minor": 0,
  "metadata": {
    "colab": {
      "name": "Copy of Final_projet.ipynb",
      "provenance": [],
      "collapsed_sections": [
        "0KwhovBfPXyj",
        "UreTD_0VrQX7"
      ],
      "include_colab_link": true
    },
    "kernelspec": {
      "name": "python3",
      "display_name": "Python 3"
    },
    "language_info": {
      "name": "python"
    },
    "widgets": {
      "application/vnd.jupyter.widget-state+json": {
        "37fdfd3235db4628bb47bd9da2d14461": {
          "model_module": "@jupyter-widgets/controls",
          "model_name": "HBoxModel",
          "model_module_version": "1.5.0",
          "state": {
            "_view_name": "HBoxView",
            "_dom_classes": [],
            "_model_name": "HBoxModel",
            "_view_module": "@jupyter-widgets/controls",
            "_model_module_version": "1.5.0",
            "_view_count": null,
            "_view_module_version": "1.5.0",
            "box_style": "",
            "layout": "IPY_MODEL_91f0794076624099bb9fe3afb2de0769",
            "_model_module": "@jupyter-widgets/controls",
            "children": [
              "IPY_MODEL_8c9a13b4f17c4f9583e70035baf48fa6",
              "IPY_MODEL_a9bd07766cc64fd398e8bb27460c768f",
              "IPY_MODEL_43e33da08c754bbf9d1d0efeb6ad4a60"
            ]
          }
        },
        "91f0794076624099bb9fe3afb2de0769": {
          "model_module": "@jupyter-widgets/base",
          "model_name": "LayoutModel",
          "model_module_version": "1.2.0",
          "state": {
            "_view_name": "LayoutView",
            "grid_template_rows": null,
            "right": null,
            "justify_content": null,
            "_view_module": "@jupyter-widgets/base",
            "overflow": null,
            "_model_module_version": "1.2.0",
            "_view_count": null,
            "flex_flow": null,
            "width": null,
            "min_width": null,
            "border": null,
            "align_items": null,
            "bottom": null,
            "_model_module": "@jupyter-widgets/base",
            "top": null,
            "grid_column": null,
            "overflow_y": null,
            "overflow_x": null,
            "grid_auto_flow": null,
            "grid_area": null,
            "grid_template_columns": null,
            "flex": null,
            "_model_name": "LayoutModel",
            "justify_items": null,
            "grid_row": null,
            "max_height": null,
            "align_content": null,
            "visibility": null,
            "align_self": null,
            "height": null,
            "min_height": null,
            "padding": null,
            "grid_auto_rows": null,
            "grid_gap": null,
            "max_width": null,
            "order": null,
            "_view_module_version": "1.2.0",
            "grid_template_areas": null,
            "object_position": null,
            "object_fit": null,
            "grid_auto_columns": null,
            "margin": null,
            "display": null,
            "left": null
          }
        },
        "8c9a13b4f17c4f9583e70035baf48fa6": {
          "model_module": "@jupyter-widgets/controls",
          "model_name": "HTMLModel",
          "model_module_version": "1.5.0",
          "state": {
            "_view_name": "HTMLView",
            "style": "IPY_MODEL_a4ad63554e7b40cfae6b8dc02fc8fe1b",
            "_dom_classes": [],
            "description": "",
            "_model_name": "HTMLModel",
            "placeholder": "​",
            "_view_module": "@jupyter-widgets/controls",
            "_model_module_version": "1.5.0",
            "value": "Downloading https://raw.githubusercontent.com/stanfordnlp/stanza-resources/main/resources_1.3.0.json: ",
            "_view_count": null,
            "_view_module_version": "1.5.0",
            "description_tooltip": null,
            "_model_module": "@jupyter-widgets/controls",
            "layout": "IPY_MODEL_5a50f18dd42d49e5a8fc30150eb34503"
          }
        },
        "a9bd07766cc64fd398e8bb27460c768f": {
          "model_module": "@jupyter-widgets/controls",
          "model_name": "FloatProgressModel",
          "model_module_version": "1.5.0",
          "state": {
            "_view_name": "ProgressView",
            "style": "IPY_MODEL_95a0e997cb7042c39c8a75cfa5368476",
            "_dom_classes": [],
            "description": "",
            "_model_name": "FloatProgressModel",
            "bar_style": "success",
            "max": 24459,
            "_view_module": "@jupyter-widgets/controls",
            "_model_module_version": "1.5.0",
            "value": 24459,
            "_view_count": null,
            "_view_module_version": "1.5.0",
            "orientation": "horizontal",
            "min": 0,
            "description_tooltip": null,
            "_model_module": "@jupyter-widgets/controls",
            "layout": "IPY_MODEL_bdfc991a4fda4deeb7455600e1fcc281"
          }
        },
        "43e33da08c754bbf9d1d0efeb6ad4a60": {
          "model_module": "@jupyter-widgets/controls",
          "model_name": "HTMLModel",
          "model_module_version": "1.5.0",
          "state": {
            "_view_name": "HTMLView",
            "style": "IPY_MODEL_2e5a95c304004f7e9f073b788e8b2ef8",
            "_dom_classes": [],
            "description": "",
            "_model_name": "HTMLModel",
            "placeholder": "​",
            "_view_module": "@jupyter-widgets/controls",
            "_model_module_version": "1.5.0",
            "value": " 142k/? [00:00&lt;00:00, 2.93MB/s]",
            "_view_count": null,
            "_view_module_version": "1.5.0",
            "description_tooltip": null,
            "_model_module": "@jupyter-widgets/controls",
            "layout": "IPY_MODEL_8cb83cbc3d3e46c3a0fbb7ecad18a6ec"
          }
        },
        "a4ad63554e7b40cfae6b8dc02fc8fe1b": {
          "model_module": "@jupyter-widgets/controls",
          "model_name": "DescriptionStyleModel",
          "model_module_version": "1.5.0",
          "state": {
            "_view_name": "StyleView",
            "_model_name": "DescriptionStyleModel",
            "description_width": "",
            "_view_module": "@jupyter-widgets/base",
            "_model_module_version": "1.5.0",
            "_view_count": null,
            "_view_module_version": "1.2.0",
            "_model_module": "@jupyter-widgets/controls"
          }
        },
        "5a50f18dd42d49e5a8fc30150eb34503": {
          "model_module": "@jupyter-widgets/base",
          "model_name": "LayoutModel",
          "model_module_version": "1.2.0",
          "state": {
            "_view_name": "LayoutView",
            "grid_template_rows": null,
            "right": null,
            "justify_content": null,
            "_view_module": "@jupyter-widgets/base",
            "overflow": null,
            "_model_module_version": "1.2.0",
            "_view_count": null,
            "flex_flow": null,
            "width": null,
            "min_width": null,
            "border": null,
            "align_items": null,
            "bottom": null,
            "_model_module": "@jupyter-widgets/base",
            "top": null,
            "grid_column": null,
            "overflow_y": null,
            "overflow_x": null,
            "grid_auto_flow": null,
            "grid_area": null,
            "grid_template_columns": null,
            "flex": null,
            "_model_name": "LayoutModel",
            "justify_items": null,
            "grid_row": null,
            "max_height": null,
            "align_content": null,
            "visibility": null,
            "align_self": null,
            "height": null,
            "min_height": null,
            "padding": null,
            "grid_auto_rows": null,
            "grid_gap": null,
            "max_width": null,
            "order": null,
            "_view_module_version": "1.2.0",
            "grid_template_areas": null,
            "object_position": null,
            "object_fit": null,
            "grid_auto_columns": null,
            "margin": null,
            "display": null,
            "left": null
          }
        },
        "95a0e997cb7042c39c8a75cfa5368476": {
          "model_module": "@jupyter-widgets/controls",
          "model_name": "ProgressStyleModel",
          "model_module_version": "1.5.0",
          "state": {
            "_view_name": "StyleView",
            "_model_name": "ProgressStyleModel",
            "description_width": "",
            "_view_module": "@jupyter-widgets/base",
            "_model_module_version": "1.5.0",
            "_view_count": null,
            "_view_module_version": "1.2.0",
            "bar_color": null,
            "_model_module": "@jupyter-widgets/controls"
          }
        },
        "bdfc991a4fda4deeb7455600e1fcc281": {
          "model_module": "@jupyter-widgets/base",
          "model_name": "LayoutModel",
          "model_module_version": "1.2.0",
          "state": {
            "_view_name": "LayoutView",
            "grid_template_rows": null,
            "right": null,
            "justify_content": null,
            "_view_module": "@jupyter-widgets/base",
            "overflow": null,
            "_model_module_version": "1.2.0",
            "_view_count": null,
            "flex_flow": null,
            "width": null,
            "min_width": null,
            "border": null,
            "align_items": null,
            "bottom": null,
            "_model_module": "@jupyter-widgets/base",
            "top": null,
            "grid_column": null,
            "overflow_y": null,
            "overflow_x": null,
            "grid_auto_flow": null,
            "grid_area": null,
            "grid_template_columns": null,
            "flex": null,
            "_model_name": "LayoutModel",
            "justify_items": null,
            "grid_row": null,
            "max_height": null,
            "align_content": null,
            "visibility": null,
            "align_self": null,
            "height": null,
            "min_height": null,
            "padding": null,
            "grid_auto_rows": null,
            "grid_gap": null,
            "max_width": null,
            "order": null,
            "_view_module_version": "1.2.0",
            "grid_template_areas": null,
            "object_position": null,
            "object_fit": null,
            "grid_auto_columns": null,
            "margin": null,
            "display": null,
            "left": null
          }
        },
        "2e5a95c304004f7e9f073b788e8b2ef8": {
          "model_module": "@jupyter-widgets/controls",
          "model_name": "DescriptionStyleModel",
          "model_module_version": "1.5.0",
          "state": {
            "_view_name": "StyleView",
            "_model_name": "DescriptionStyleModel",
            "description_width": "",
            "_view_module": "@jupyter-widgets/base",
            "_model_module_version": "1.5.0",
            "_view_count": null,
            "_view_module_version": "1.2.0",
            "_model_module": "@jupyter-widgets/controls"
          }
        },
        "8cb83cbc3d3e46c3a0fbb7ecad18a6ec": {
          "model_module": "@jupyter-widgets/base",
          "model_name": "LayoutModel",
          "model_module_version": "1.2.0",
          "state": {
            "_view_name": "LayoutView",
            "grid_template_rows": null,
            "right": null,
            "justify_content": null,
            "_view_module": "@jupyter-widgets/base",
            "overflow": null,
            "_model_module_version": "1.2.0",
            "_view_count": null,
            "flex_flow": null,
            "width": null,
            "min_width": null,
            "border": null,
            "align_items": null,
            "bottom": null,
            "_model_module": "@jupyter-widgets/base",
            "top": null,
            "grid_column": null,
            "overflow_y": null,
            "overflow_x": null,
            "grid_auto_flow": null,
            "grid_area": null,
            "grid_template_columns": null,
            "flex": null,
            "_model_name": "LayoutModel",
            "justify_items": null,
            "grid_row": null,
            "max_height": null,
            "align_content": null,
            "visibility": null,
            "align_self": null,
            "height": null,
            "min_height": null,
            "padding": null,
            "grid_auto_rows": null,
            "grid_gap": null,
            "max_width": null,
            "order": null,
            "_view_module_version": "1.2.0",
            "grid_template_areas": null,
            "object_position": null,
            "object_fit": null,
            "grid_auto_columns": null,
            "margin": null,
            "display": null,
            "left": null
          }
        },
        "7c1b3c82a4264bac8f8eabe75e4f3a2d": {
          "model_module": "@jupyter-widgets/controls",
          "model_name": "HBoxModel",
          "model_module_version": "1.5.0",
          "state": {
            "_view_name": "HBoxView",
            "_dom_classes": [],
            "_model_name": "HBoxModel",
            "_view_module": "@jupyter-widgets/controls",
            "_model_module_version": "1.5.0",
            "_view_count": null,
            "_view_module_version": "1.5.0",
            "box_style": "",
            "layout": "IPY_MODEL_b74314946efd4cd6a591b70abb822421",
            "_model_module": "@jupyter-widgets/controls",
            "children": [
              "IPY_MODEL_4e83e289446f41ffb6e6980c6c2867c3",
              "IPY_MODEL_cb0cae7e150840b0b641075535bc2d6b",
              "IPY_MODEL_3f9609b26d964243af2dfb3133e4062e"
            ]
          }
        },
        "b74314946efd4cd6a591b70abb822421": {
          "model_module": "@jupyter-widgets/base",
          "model_name": "LayoutModel",
          "model_module_version": "1.2.0",
          "state": {
            "_view_name": "LayoutView",
            "grid_template_rows": null,
            "right": null,
            "justify_content": null,
            "_view_module": "@jupyter-widgets/base",
            "overflow": null,
            "_model_module_version": "1.2.0",
            "_view_count": null,
            "flex_flow": null,
            "width": null,
            "min_width": null,
            "border": null,
            "align_items": null,
            "bottom": null,
            "_model_module": "@jupyter-widgets/base",
            "top": null,
            "grid_column": null,
            "overflow_y": null,
            "overflow_x": null,
            "grid_auto_flow": null,
            "grid_area": null,
            "grid_template_columns": null,
            "flex": null,
            "_model_name": "LayoutModel",
            "justify_items": null,
            "grid_row": null,
            "max_height": null,
            "align_content": null,
            "visibility": null,
            "align_self": null,
            "height": null,
            "min_height": null,
            "padding": null,
            "grid_auto_rows": null,
            "grid_gap": null,
            "max_width": null,
            "order": null,
            "_view_module_version": "1.2.0",
            "grid_template_areas": null,
            "object_position": null,
            "object_fit": null,
            "grid_auto_columns": null,
            "margin": null,
            "display": null,
            "left": null
          }
        },
        "4e83e289446f41ffb6e6980c6c2867c3": {
          "model_module": "@jupyter-widgets/controls",
          "model_name": "HTMLModel",
          "model_module_version": "1.5.0",
          "state": {
            "_view_name": "HTMLView",
            "style": "IPY_MODEL_04ba437e01244a7c82ec0c1a9f1fd643",
            "_dom_classes": [],
            "description": "",
            "_model_name": "HTMLModel",
            "placeholder": "​",
            "_view_module": "@jupyter-widgets/controls",
            "_model_module_version": "1.5.0",
            "value": "Downloading https://huggingface.co/stanfordnlp/stanza-fa/resolve/v1.3.0/models/default.zip: 100%",
            "_view_count": null,
            "_view_module_version": "1.5.0",
            "description_tooltip": null,
            "_model_module": "@jupyter-widgets/controls",
            "layout": "IPY_MODEL_c3575929736e428aa67ce079b55dca78"
          }
        },
        "cb0cae7e150840b0b641075535bc2d6b": {
          "model_module": "@jupyter-widgets/controls",
          "model_name": "FloatProgressModel",
          "model_module_version": "1.5.0",
          "state": {
            "_view_name": "ProgressView",
            "style": "IPY_MODEL_5fe4ac09491d48889bdaa87b7ea7e949",
            "_dom_classes": [],
            "description": "",
            "_model_name": "FloatProgressModel",
            "bar_style": "success",
            "max": 210965214,
            "_view_module": "@jupyter-widgets/controls",
            "_model_module_version": "1.5.0",
            "value": 210965214,
            "_view_count": null,
            "_view_module_version": "1.5.0",
            "orientation": "horizontal",
            "min": 0,
            "description_tooltip": null,
            "_model_module": "@jupyter-widgets/controls",
            "layout": "IPY_MODEL_937a5251ed1f41d7a189d2eed08ed7e5"
          }
        },
        "3f9609b26d964243af2dfb3133e4062e": {
          "model_module": "@jupyter-widgets/controls",
          "model_name": "HTMLModel",
          "model_module_version": "1.5.0",
          "state": {
            "_view_name": "HTMLView",
            "style": "IPY_MODEL_5385c14cd9994af4971b35f86d0e2e12",
            "_dom_classes": [],
            "description": "",
            "_model_name": "HTMLModel",
            "placeholder": "​",
            "_view_module": "@jupyter-widgets/controls",
            "_model_module_version": "1.5.0",
            "value": " 211M/211M [00:02&lt;00:00, 78.9MB/s]",
            "_view_count": null,
            "_view_module_version": "1.5.0",
            "description_tooltip": null,
            "_model_module": "@jupyter-widgets/controls",
            "layout": "IPY_MODEL_b8ed8f00e4e0473d9d05ac633378b563"
          }
        },
        "04ba437e01244a7c82ec0c1a9f1fd643": {
          "model_module": "@jupyter-widgets/controls",
          "model_name": "DescriptionStyleModel",
          "model_module_version": "1.5.0",
          "state": {
            "_view_name": "StyleView",
            "_model_name": "DescriptionStyleModel",
            "description_width": "",
            "_view_module": "@jupyter-widgets/base",
            "_model_module_version": "1.5.0",
            "_view_count": null,
            "_view_module_version": "1.2.0",
            "_model_module": "@jupyter-widgets/controls"
          }
        },
        "c3575929736e428aa67ce079b55dca78": {
          "model_module": "@jupyter-widgets/base",
          "model_name": "LayoutModel",
          "model_module_version": "1.2.0",
          "state": {
            "_view_name": "LayoutView",
            "grid_template_rows": null,
            "right": null,
            "justify_content": null,
            "_view_module": "@jupyter-widgets/base",
            "overflow": null,
            "_model_module_version": "1.2.0",
            "_view_count": null,
            "flex_flow": null,
            "width": null,
            "min_width": null,
            "border": null,
            "align_items": null,
            "bottom": null,
            "_model_module": "@jupyter-widgets/base",
            "top": null,
            "grid_column": null,
            "overflow_y": null,
            "overflow_x": null,
            "grid_auto_flow": null,
            "grid_area": null,
            "grid_template_columns": null,
            "flex": null,
            "_model_name": "LayoutModel",
            "justify_items": null,
            "grid_row": null,
            "max_height": null,
            "align_content": null,
            "visibility": null,
            "align_self": null,
            "height": null,
            "min_height": null,
            "padding": null,
            "grid_auto_rows": null,
            "grid_gap": null,
            "max_width": null,
            "order": null,
            "_view_module_version": "1.2.0",
            "grid_template_areas": null,
            "object_position": null,
            "object_fit": null,
            "grid_auto_columns": null,
            "margin": null,
            "display": null,
            "left": null
          }
        },
        "5fe4ac09491d48889bdaa87b7ea7e949": {
          "model_module": "@jupyter-widgets/controls",
          "model_name": "ProgressStyleModel",
          "model_module_version": "1.5.0",
          "state": {
            "_view_name": "StyleView",
            "_model_name": "ProgressStyleModel",
            "description_width": "",
            "_view_module": "@jupyter-widgets/base",
            "_model_module_version": "1.5.0",
            "_view_count": null,
            "_view_module_version": "1.2.0",
            "bar_color": null,
            "_model_module": "@jupyter-widgets/controls"
          }
        },
        "937a5251ed1f41d7a189d2eed08ed7e5": {
          "model_module": "@jupyter-widgets/base",
          "model_name": "LayoutModel",
          "model_module_version": "1.2.0",
          "state": {
            "_view_name": "LayoutView",
            "grid_template_rows": null,
            "right": null,
            "justify_content": null,
            "_view_module": "@jupyter-widgets/base",
            "overflow": null,
            "_model_module_version": "1.2.0",
            "_view_count": null,
            "flex_flow": null,
            "width": null,
            "min_width": null,
            "border": null,
            "align_items": null,
            "bottom": null,
            "_model_module": "@jupyter-widgets/base",
            "top": null,
            "grid_column": null,
            "overflow_y": null,
            "overflow_x": null,
            "grid_auto_flow": null,
            "grid_area": null,
            "grid_template_columns": null,
            "flex": null,
            "_model_name": "LayoutModel",
            "justify_items": null,
            "grid_row": null,
            "max_height": null,
            "align_content": null,
            "visibility": null,
            "align_self": null,
            "height": null,
            "min_height": null,
            "padding": null,
            "grid_auto_rows": null,
            "grid_gap": null,
            "max_width": null,
            "order": null,
            "_view_module_version": "1.2.0",
            "grid_template_areas": null,
            "object_position": null,
            "object_fit": null,
            "grid_auto_columns": null,
            "margin": null,
            "display": null,
            "left": null
          }
        },
        "5385c14cd9994af4971b35f86d0e2e12": {
          "model_module": "@jupyter-widgets/controls",
          "model_name": "DescriptionStyleModel",
          "model_module_version": "1.5.0",
          "state": {
            "_view_name": "StyleView",
            "_model_name": "DescriptionStyleModel",
            "description_width": "",
            "_view_module": "@jupyter-widgets/base",
            "_model_module_version": "1.5.0",
            "_view_count": null,
            "_view_module_version": "1.2.0",
            "_model_module": "@jupyter-widgets/controls"
          }
        },
        "b8ed8f00e4e0473d9d05ac633378b563": {
          "model_module": "@jupyter-widgets/base",
          "model_name": "LayoutModel",
          "model_module_version": "1.2.0",
          "state": {
            "_view_name": "LayoutView",
            "grid_template_rows": null,
            "right": null,
            "justify_content": null,
            "_view_module": "@jupyter-widgets/base",
            "overflow": null,
            "_model_module_version": "1.2.0",
            "_view_count": null,
            "flex_flow": null,
            "width": null,
            "min_width": null,
            "border": null,
            "align_items": null,
            "bottom": null,
            "_model_module": "@jupyter-widgets/base",
            "top": null,
            "grid_column": null,
            "overflow_y": null,
            "overflow_x": null,
            "grid_auto_flow": null,
            "grid_area": null,
            "grid_template_columns": null,
            "flex": null,
            "_model_name": "LayoutModel",
            "justify_items": null,
            "grid_row": null,
            "max_height": null,
            "align_content": null,
            "visibility": null,
            "align_self": null,
            "height": null,
            "min_height": null,
            "padding": null,
            "grid_auto_rows": null,
            "grid_gap": null,
            "max_width": null,
            "order": null,
            "_view_module_version": "1.2.0",
            "grid_template_areas": null,
            "object_position": null,
            "object_fit": null,
            "grid_auto_columns": null,
            "margin": null,
            "display": null,
            "left": null
          }
        }
      }
    },
    "accelerator": "GPU"
  },
  "cells": [
    {
      "cell_type": "markdown",
      "metadata": {
        "id": "view-in-github",
        "colab_type": "text"
      },
      "source": [
        "<a href=\"https://colab.research.google.com/github/NeagrTavakol/Final_dataminning/blob/main/Copy_of_Final_projet.ipynb\" target=\"_parent\"><img src=\"https://colab.research.google.com/assets/colab-badge.svg\" alt=\"Open In Colab\"/></a>"
      ]
    },
    {
      "cell_type": "code",
      "source": [
        "#import libraries\n",
        "import pandas as pd\n",
        "import numpy as np\n",
        "# import matplotlib.pyplot as plt"
      ],
      "metadata": {
        "id": "E5ubuf-7Mqwp"
      },
      "execution_count": 2,
      "outputs": []
    },
    {
      "cell_type": "code",
      "execution_count": 3,
      "metadata": {
        "id": "S5Zsf-6dW0BB",
        "colab": {
          "base_uri": "https://localhost:8080/"
        },
        "outputId": "7c2a0b23-2814-4484-a0fa-a41dda01e346"
      },
      "outputs": [
        {
          "output_type": "stream",
          "name": "stdout",
          "text": [
            "Drive already mounted at /content/drive; to attempt to forcibly remount, call drive.mount(\"/content/drive\", force_remount=True).\n"
          ]
        }
      ],
      "source": [
        "#mount drive\n",
        "from google.colab import drive\n",
        "drive.mount('/content/drive')"
      ]
    },
    {
      "cell_type": "markdown",
      "source": [
        "**Read dev dataset**"
      ],
      "metadata": {
        "id": "x78584ISF7M3"
      }
    },
    {
      "cell_type": "code",
      "source": [
        "dev_csv=\"/content/drive/MyDrive/Colab Notebooks/dev.csv\"\n",
        "dev_df = pd.read_csv(dev_csv,sep='\\t')\n",
        "dev_df=dev_df.drop(\"Unnamed: 0\",axis=1)\n",
        "dev_columns=dev_df.columns"
      ],
      "metadata": {
        "id": "MXQhl0FxNEXe"
      },
      "execution_count": 3,
      "outputs": []
    },
    {
      "cell_type": "markdown",
      "source": [
        "**Read train dataset**"
      ],
      "metadata": {
        "id": "oV2uRteWF-f2"
      }
    },
    {
      "cell_type": "code",
      "source": [
        "train_csv=\"/content/drive/MyDrive/Colab Notebooks/train.csv\"\n",
        "train_df = pd.read_csv(train_csv,sep='\\t')\n",
        "train_df=train_df.drop(\"Unnamed: 0\",axis=1)\n",
        "train_columns = train_df.columns"
      ],
      "metadata": {
        "id": "BlwRTZ4CNN75"
      },
      "execution_count": 4,
      "outputs": []
    },
    {
      "cell_type": "markdown",
      "source": [
        "# **Tokenize Data**"
      ],
      "metadata": {
        "id": "0KwhovBfPXyj"
      }
    },
    {
      "cell_type": "markdown",
      "source": [
        "**install packages**"
      ],
      "metadata": {
        "id": "dRs4-6bMGCPl"
      }
    },
    {
      "cell_type": "code",
      "source": [
        "# Install; note that the prefix \"!\" is not needed if you are running in a terminal\n",
        "!pip install stanza"
      ],
      "metadata": {
        "colab": {
          "base_uri": "https://localhost:8080/"
        },
        "id": "5LZoqDbvPgP6",
        "outputId": "7c962431-2a88-4c7f-ac4d-89c25a6a2395"
      },
      "execution_count": 70,
      "outputs": [
        {
          "output_type": "stream",
          "name": "stdout",
          "text": [
            "Collecting stanza\n",
            "  Downloading stanza-1.3.0-py3-none-any.whl (432 kB)\n",
            "\u001b[K     |████████████████████████████████| 432 kB 5.2 MB/s \n",
            "\u001b[?25hRequirement already satisfied: protobuf in /usr/local/lib/python3.7/dist-packages (from stanza) (3.17.3)\n",
            "Requirement already satisfied: torch>=1.3.0 in /usr/local/lib/python3.7/dist-packages (from stanza) (1.10.0+cu111)\n",
            "Requirement already satisfied: numpy in /usr/local/lib/python3.7/dist-packages (from stanza) (1.19.5)\n",
            "Requirement already satisfied: six in /usr/local/lib/python3.7/dist-packages (from stanza) (1.15.0)\n",
            "Requirement already satisfied: tqdm in /usr/local/lib/python3.7/dist-packages (from stanza) (4.62.3)\n",
            "Requirement already satisfied: requests in /usr/local/lib/python3.7/dist-packages (from stanza) (2.23.0)\n",
            "Collecting emoji\n",
            "  Downloading emoji-1.6.3.tar.gz (174 kB)\n",
            "\u001b[K     |████████████████████████████████| 174 kB 31.0 MB/s \n",
            "\u001b[?25hRequirement already satisfied: typing-extensions in /usr/local/lib/python3.7/dist-packages (from torch>=1.3.0->stanza) (3.10.0.2)\n",
            "Requirement already satisfied: chardet<4,>=3.0.2 in /usr/local/lib/python3.7/dist-packages (from requests->stanza) (3.0.4)\n",
            "Requirement already satisfied: certifi>=2017.4.17 in /usr/local/lib/python3.7/dist-packages (from requests->stanza) (2021.10.8)\n",
            "Requirement already satisfied: urllib3!=1.25.0,!=1.25.1,<1.26,>=1.21.1 in /usr/local/lib/python3.7/dist-packages (from requests->stanza) (1.24.3)\n",
            "Requirement already satisfied: idna<3,>=2.5 in /usr/local/lib/python3.7/dist-packages (from requests->stanza) (2.10)\n",
            "Building wheels for collected packages: emoji\n",
            "  Building wheel for emoji (setup.py) ... \u001b[?25l\u001b[?25hdone\n",
            "  Created wheel for emoji: filename=emoji-1.6.3-py3-none-any.whl size=170298 sha256=6d5c6c0a624737ebfe540d7a55f32c3bbe8cab15cecc1390d2db46787eca7c26\n",
            "  Stored in directory: /root/.cache/pip/wheels/03/8b/d7/ad579fbef83c287215c0caab60fb0ae0f30c4d7ce5f580eade\n",
            "Successfully built emoji\n",
            "Installing collected packages: emoji, stanza\n",
            "Successfully installed emoji-1.6.3 stanza-1.3.0\n"
          ]
        }
      ]
    },
    {
      "cell_type": "code",
      "source": [
        "# Import the package\n",
        "import stanza"
      ],
      "metadata": {
        "id": "BPZpcwI5rdgN"
      },
      "execution_count": 71,
      "outputs": []
    },
    {
      "cell_type": "code",
      "source": [
        "# Download an Persiabn model into the default directory\n",
        "print(\"Downloading Persian model...\")\n",
        "stanza.download('fa')"
      ],
      "metadata": {
        "colab": {
          "base_uri": "https://localhost:8080/",
          "height": 380,
          "referenced_widgets": [
            "37fdfd3235db4628bb47bd9da2d14461",
            "91f0794076624099bb9fe3afb2de0769",
            "8c9a13b4f17c4f9583e70035baf48fa6",
            "a9bd07766cc64fd398e8bb27460c768f",
            "43e33da08c754bbf9d1d0efeb6ad4a60",
            "a4ad63554e7b40cfae6b8dc02fc8fe1b",
            "5a50f18dd42d49e5a8fc30150eb34503",
            "95a0e997cb7042c39c8a75cfa5368476",
            "bdfc991a4fda4deeb7455600e1fcc281",
            "2e5a95c304004f7e9f073b788e8b2ef8",
            "8cb83cbc3d3e46c3a0fbb7ecad18a6ec",
            "7c1b3c82a4264bac8f8eabe75e4f3a2d",
            "b74314946efd4cd6a591b70abb822421",
            "4e83e289446f41ffb6e6980c6c2867c3",
            "cb0cae7e150840b0b641075535bc2d6b",
            "3f9609b26d964243af2dfb3133e4062e",
            "04ba437e01244a7c82ec0c1a9f1fd643",
            "c3575929736e428aa67ce079b55dca78",
            "5fe4ac09491d48889bdaa87b7ea7e949",
            "937a5251ed1f41d7a189d2eed08ed7e5",
            "5385c14cd9994af4971b35f86d0e2e12",
            "b8ed8f00e4e0473d9d05ac633378b563"
          ]
        },
        "id": "C3xfPJpVQO8o",
        "outputId": "41cce07c-7848-45d8-9605-d0f4f0e102f0"
      },
      "execution_count": 72,
      "outputs": [
        {
          "output_type": "stream",
          "name": "stdout",
          "text": [
            "Downloading Persian model...\n"
          ]
        },
        {
          "output_type": "display_data",
          "data": {
            "application/vnd.jupyter.widget-view+json": {
              "model_id": "37fdfd3235db4628bb47bd9da2d14461",
              "version_minor": 0,
              "version_major": 2
            },
            "text/plain": [
              "Downloading https://raw.githubusercontent.com/stanfordnlp/stanza-resources/main/resources_1.3.0.json:   0%|   …"
            ]
          },
          "metadata": {}
        },
        {
          "output_type": "stream",
          "name": "stderr",
          "text": [
            "2022-01-28 16:48:11 INFO: Downloading default packages for language: fa (Persian)...\n"
          ]
        },
        {
          "output_type": "display_data",
          "data": {
            "application/vnd.jupyter.widget-view+json": {
              "model_id": "7c1b3c82a4264bac8f8eabe75e4f3a2d",
              "version_minor": 0,
              "version_major": 2
            },
            "text/plain": [
              "Downloading https://huggingface.co/stanfordnlp/stanza-fa/resolve/v1.3.0/models/default.zip:   0%|          | 0…"
            ]
          },
          "metadata": {}
        },
        {
          "output_type": "stream",
          "name": "stderr",
          "text": [
            "2022-01-28 16:48:19 INFO: Finished downloading models and saved to /root/stanza_resources.\n"
          ]
        }
      ]
    },
    {
      "cell_type": "markdown",
      "source": [
        "**create models**"
      ],
      "metadata": {
        "id": "1KFpju0aGG6B"
      }
    },
    {
      "cell_type": "code",
      "source": [
        "# Build a Persian pipeline, with all processors by default\n",
        "print(\"Building a Persian pipeline...\")\n",
        "fa_nlp = stanza.Pipeline('fa')"
      ],
      "metadata": {
        "colab": {
          "base_uri": "https://localhost:8080/"
        },
        "id": "rKIL-W1CQjEB",
        "outputId": "7538754c-2905-44c5-bcdd-43a5c088eec3"
      },
      "execution_count": 73,
      "outputs": [
        {
          "output_type": "stream",
          "name": "stderr",
          "text": [
            "2022-01-28 16:48:22 INFO: Loading these models for language: fa (Persian):\n",
            "=======================\n",
            "| Processor | Package |\n",
            "-----------------------\n",
            "| tokenize  | perdt   |\n",
            "| mwt       | perdt   |\n",
            "| pos       | perdt   |\n",
            "| lemma     | perdt   |\n",
            "| depparse  | perdt   |\n",
            "=======================\n",
            "\n",
            "2022-01-28 16:48:22 INFO: Use device: gpu\n",
            "2022-01-28 16:48:22 INFO: Loading: tokenize\n"
          ]
        },
        {
          "output_type": "stream",
          "name": "stdout",
          "text": [
            "Building a Persian pipeline...\n"
          ]
        },
        {
          "output_type": "stream",
          "name": "stderr",
          "text": [
            "2022-01-28 16:48:35 INFO: Loading: mwt\n",
            "2022-01-28 16:48:35 INFO: Loading: pos\n",
            "2022-01-28 16:48:35 INFO: Loading: lemma\n",
            "2022-01-28 16:48:35 INFO: Loading: depparse\n",
            "2022-01-28 16:48:36 INFO: Done loading processors!\n"
          ]
        }
      ]
    },
    {
      "cell_type": "markdown",
      "source": [
        "**find tokens of dataframe and save in array**"
      ],
      "metadata": {
        "id": "Qvm7Rjb8GJDx"
      }
    },
    {
      "cell_type": "code",
      "source": [
        "# test_token_df['tokenized_sents'] = test_token_df.apply(lambda row: fa_nlp(row['comment']).sentences.words.text, axis=1)\n",
        "tokenized_array=[]\n",
        "for i in range(0,len(train_df)[:52465]):\n",
        "  comment=train_df.iloc[i][\"comment\"]\n",
        "  tokenized_comment = fa_nlp(comment)\n",
        "  tokens_array=[]\n",
        "  for i,sent in enumerate(tokenized_comment.sentences):\n",
        "    for word in sent.words:\n",
        "      tokens_array.append(word.text)\n",
        "  tokenized_array.append(tokens_array)\n",
        "#word.text, word.lemma, word.pos, word.head, word.deprel))"
      ],
      "metadata": {
        "id": "yPM0Kb_NURsi"
      },
      "execution_count": null,
      "outputs": []
    },
    {
      "cell_type": "code",
      "source": [
        "#find tokens of rest of dataset (process interupted cause of volume of dataset)\n",
        "# rest_train_df=train_df[52466:]\n",
        "for i in range(52466,len(train_df)):\n",
        "  comment=train_df.iloc[i][\"comment\"]\n",
        "  tokenized_comment = fa_nlp(comment)\n",
        "  tokens_array=[]\n",
        "  for i,sent in enumerate(tokenized_comment.sentences):\n",
        "    for word in sent.words:\n",
        "      tokens_array.append(word.text)\n",
        "  tokenized_array.append(tokens_array)"
      ],
      "metadata": {
        "colab": {
          "base_uri": "https://localhost:8080/"
        },
        "id": "yoetAKhg7wRZ",
        "outputId": "4957b761-424b-4f4e-d99e-3dd0a5701d22"
      },
      "execution_count": null,
      "outputs": [
        {
          "output_type": "stream",
          "name": "stderr",
          "text": [
            "/usr/local/lib/python3.7/dist-packages/stanza/models/common/beam.py:86: UserWarning: __floordiv__ is deprecated, and its behavior will change in a future version of pytorch. It currently rounds toward 0 (like the 'trunc' function NOT 'floor'). This results in incorrect rounding for negative values. To keep the current behavior, use torch.div(a, b, rounding_mode='trunc'), or for actual floor division, use torch.div(a, b, rounding_mode='floor').\n",
            "  prevK = bestScoresId // numWords\n"
          ]
        }
      ]
    },
    {
      "cell_type": "markdown",
      "source": [
        "**save tokens array to csv file**"
      ],
      "metadata": {
        "id": "OycN6D_LGYzb"
      }
    },
    {
      "cell_type": "code",
      "source": [
        "#save tokens to array\n",
        "import csv\n",
        "with open('tokens_array.csv', 'w', newline='') as file:\n",
        "    mywriter = csv.writer(file, delimiter=',')\n",
        "    mywriter.writerows(tokenized_array)"
      ],
      "metadata": {
        "id": "nndyXJXsA-lj"
      },
      "execution_count": null,
      "outputs": []
    },
    {
      "cell_type": "markdown",
      "source": [
        "**convert tokens array to dataframe **"
      ],
      "metadata": {
        "id": "UXccrNvIGNte"
      }
    },
    {
      "cell_type": "code",
      "source": [
        "# convert tokenized_array to dataframe\n",
        "tokenized_df=pd.DataFrame(tokenized_array)"
      ],
      "metadata": {
        "id": "FDvkVouPdNF7"
      },
      "execution_count": null,
      "outputs": []
    },
    {
      "cell_type": "markdown",
      "source": [
        "**save dataframe to csv file**"
      ],
      "metadata": {
        "id": "Fpq4V7vUGZ-y"
      }
    },
    {
      "cell_type": "code",
      "source": [
        "#save dataframe \n",
        "tokenized_df.to_csv('tokens_df.csv')"
      ],
      "metadata": {
        "id": "VMLslzyPGZHq"
      },
      "execution_count": null,
      "outputs": []
    },
    {
      "cell_type": "code",
      "source": [
        "# with open('tokens_array.csv', 'r', newline='') as file:\n",
        "#   myreader = csv.reader(file, delimiter=',')\n",
        "#   for rows in myreader:\n",
        "#     print(rows)"
      ],
      "metadata": {
        "id": "XoyKXLy-EQ9H"
      },
      "execution_count": null,
      "outputs": []
    },
    {
      "cell_type": "markdown",
      "source": [
        "# **Read tokenized dataet**"
      ],
      "metadata": {
        "id": "yej2YkqA2Eur"
      }
    },
    {
      "cell_type": "markdown",
      "source": [
        "**read from array csv file **"
      ],
      "metadata": {
        "id": "4g6fQbUzcTvX"
      }
    },
    {
      "cell_type": "code",
      "source": [
        "############"
      ],
      "metadata": {
        "id": "gpyC1763f9Vw"
      },
      "execution_count": null,
      "outputs": []
    },
    {
      "cell_type": "code",
      "source": [
        "#read array csv file\n",
        "tokens_array=pd.read_csv(\"/content/drive/MyDrive/Colab Notebooks/tokens_array.csv\",sep='\\t',header=None)\n",
        "# tokens_array.head()"
      ],
      "metadata": {
        "id": "6QWQlYVeHBPt"
      },
      "execution_count": 5,
      "outputs": []
    },
    {
      "cell_type": "markdown",
      "source": [
        "# **Preproccessing**"
      ],
      "metadata": {
        "id": "4RMbt2gy2Cjd"
      }
    },
    {
      "cell_type": "markdown",
      "source": [
        "**Remove punctuation**"
      ],
      "metadata": {
        "id": "XVBLDgZsG9mx"
      }
    },
    {
      "cell_type": "code",
      "source": [
        "from types import new_class\n",
        "# from string import punctuation\n",
        "import re\n",
        "\n",
        "punctuation=['!','\"','#','$','%','&',\"'\",'(',')','*','+','،','-','.',','\"/\",':',';','<','=','>','?','@','[',\"\\\\\",\"]\",\"^\",'_','`','{','|','}','~']\n",
        "# tokens_array.to_numpy()\n",
        "tokens_arr=[]\n",
        "for i in tokens_array.to_numpy():\n",
        "  sent=[]\n",
        "  for j in i[0].split(','):\n",
        "    if j not in punctuation:\n",
        "      sent.append(j)\n",
        "  tokens_arr.append(sent)"
      ],
      "metadata": {
        "id": "CO3oUTO7V2fW"
      },
      "execution_count": 6,
      "outputs": []
    },
    {
      "cell_type": "markdown",
      "source": [
        "**Analyze Reviews Length**"
      ],
      "metadata": {
        "id": "EVOLFx-BsATM"
      }
    },
    {
      "cell_type": "code",
      "source": [
        "# import matplotlib.pyplot as plt\n",
        "reviews_len = [len(x) for x in tokens_arr]\n",
        "reviews_len=np.array(reviews_len)"
      ],
      "metadata": {
        "id": "tmqpe1pxrrOg"
      },
      "execution_count": 152,
      "outputs": []
    },
    {
      "cell_type": "code",
      "source": [
        "# pd.Series(tokens_arr).hist()\n",
        "# plt.show()\n",
        "# pd.Series(tokens_arr).describe()"
      ],
      "metadata": {
        "id": "QXKuxOdGyRPx"
      },
      "execution_count": null,
      "outputs": []
    },
    {
      "cell_type": "code",
      "source": [
        "print(\"min:\",reviews_len.min(),\"max:\",reviews_len.max(),\"min:\",reviews_len.mean(),\"len:\",len(reviews_len))"
      ],
      "metadata": {
        "colab": {
          "base_uri": "https://localhost:8080/"
        },
        "id": "1POTybkdsYIc",
        "outputId": "5b00f077-e004-4b84-c052-85b81511d8aa"
      },
      "execution_count": 151,
      "outputs": [
        {
          "output_type": "stream",
          "name": "stdout",
          "text": [
            "min: 0 max: 351 min: 18.374603174603173 len: 56700\n"
          ]
        }
      ]
    },
    {
      "cell_type": "code",
      "source": [
        "# for i in range(6,29):\n",
        "print(np.count_nonzero(reviews_len > 80))"
      ],
      "metadata": {
        "colab": {
          "base_uri": "https://localhost:8080/"
        },
        "id": "TI_5SETMti6E",
        "outputId": "7e817465-8d28-4922-8567-74c8c88cbad7"
      },
      "execution_count": 139,
      "outputs": [
        {
          "output_type": "stream",
          "name": "stdout",
          "text": [
            "538\n"
          ]
        }
      ]
    },
    {
      "cell_type": "markdown",
      "source": [
        "**Remove outliers**"
      ],
      "metadata": {
        "id": "IdwzIqgukt-2"
      }
    },
    {
      "cell_type": "code",
      "source": [
        "# cleaned_rokens_arr=[x for x in tokens_arr if len(x)<81]\n",
        "# print(len(cleaned_rokens_arr))"
      ],
      "metadata": {
        "id": "UGdu_Vvt5RCb"
      },
      "execution_count": 147,
      "outputs": []
    },
    {
      "cell_type": "markdown",
      "source": [
        "ثریا \n",
        "اینجا کد ورد امبدنیگ رو میتونی ببینی \n",
        "کلمات مختلفی هم باهاش امتحان کردم اوکی شد"
      ],
      "metadata": {
        "id": "DN_EyeBDRV3C"
      }
    },
    {
      "cell_type": "markdown",
      "source": [
        "# **Word embedding**"
      ],
      "metadata": {
        "id": "LELpzRA6Fd-j"
      }
    },
    {
      "cell_type": "code",
      "source": [
        "!pip install gensim\n",
        "# !pip install nltk"
      ],
      "metadata": {
        "colab": {
          "base_uri": "https://localhost:8080/"
        },
        "id": "r0NNhnaCxdxP",
        "outputId": "b74f00e5-90d7-418c-857f-5411153df354"
      },
      "execution_count": null,
      "outputs": [
        {
          "output_type": "stream",
          "name": "stdout",
          "text": [
            "Requirement already satisfied: gensim in /usr/local/lib/python3.7/dist-packages (3.6.0)\n",
            "Requirement already satisfied: smart-open>=1.2.1 in /usr/local/lib/python3.7/dist-packages (from gensim) (5.2.1)\n",
            "Requirement already satisfied: numpy>=1.11.3 in /usr/local/lib/python3.7/dist-packages (from gensim) (1.19.5)\n",
            "Requirement already satisfied: six>=1.5.0 in /usr/local/lib/python3.7/dist-packages (from gensim) (1.15.0)\n",
            "Requirement already satisfied: scipy>=0.18.1 in /usr/local/lib/python3.7/dist-packages (from gensim) (1.4.1)\n"
          ]
        }
      ]
    },
    {
      "cell_type": "code",
      "source": [
        "#main_code\n",
        "import gensim\n",
        "from gensim.models import KeyedVectors\n",
        "model = KeyedVectors.load_word2vec_format('/content/drive/MyDrive/Colab Notebooks/model.bin', binary=True)"
      ],
      "metadata": {
        "id": "b5y1iYU7HYaa"
      },
      "execution_count": 7,
      "outputs": []
    },
    {
      "cell_type": "code",
      "source": [
        "vector = model['خوب']\n",
        "# see the shape of the vector (300,)\n",
        "# vector.shape\n",
        "vector"
      ],
      "metadata": {
        "id": "Edv_CKUNQdhq"
      },
      "execution_count": null,
      "outputs": []
    },
    {
      "cell_type": "code",
      "source": [
        "# model.most_similar('بهتر')"
      ],
      "metadata": {
        "id": "36AjZrxKQvcq"
      },
      "execution_count": 8,
      "outputs": []
    },
    {
      "cell_type": "markdown",
      "source": [
        "**calculate vacors for each word**"
      ],
      "metadata": {
        "id": "IRCDCwxkfqrl"
      }
    },
    {
      "cell_type": "code",
      "source": [
        "vocabulary =model.wv.vocab"
      ],
      "metadata": {
        "id": "iUfd72WvbXuB",
        "colab": {
          "base_uri": "https://localhost:8080/"
        },
        "outputId": "20149b7c-3b6f-4de3-ce62-12756c762157"
      },
      "execution_count": 9,
      "outputs": [
        {
          "output_type": "stream",
          "name": "stderr",
          "text": [
            "/usr/local/lib/python3.7/dist-packages/ipykernel_launcher.py:1: DeprecationWarning: Call to deprecated `wv` (Attribute will be removed in 4.0.0, use self instead).\n",
            "  \"\"\"Entry point for launching an IPython kernel.\n"
          ]
        }
      ]
    },
    {
      "cell_type": "code",
      "source": [
        "print(len(vocabulary),type(vocabulary))"
      ],
      "metadata": {
        "colab": {
          "base_uri": "https://localhost:8080/"
        },
        "id": "NI4Xf8LeeLMF",
        "outputId": "7e357f27-d4ce-40d3-d44c-4e04e53b5c44"
      },
      "execution_count": 10,
      "outputs": [
        {
          "output_type": "stream",
          "name": "stdout",
          "text": [
            "966446 <class 'dict'>\n"
          ]
        }
      ]
    },
    {
      "cell_type": "code",
      "source": [
        "vectors_arr=[]\n",
        "for sent in tokens_arr:#cleaned_rokens_arr:\n",
        "  vec_vocab=[model[word] for word in sent if word in model.wv.vocab]# if model[word]\n",
        "  vectors_arr.append(vec_vocab)"
      ],
      "metadata": {
        "id": "mFQ7oVEMHymP",
        "colab": {
          "base_uri": "https://localhost:8080/"
        },
        "outputId": "b0337779-2ec5-4dd4-faee-b894fd90201c"
      },
      "execution_count": 11,
      "outputs": [
        {
          "output_type": "stream",
          "name": "stderr",
          "text": [
            "/usr/local/lib/python3.7/dist-packages/ipykernel_launcher.py:3: DeprecationWarning: Call to deprecated `wv` (Attribute will be removed in 4.0.0, use self instead).\n",
            "  This is separate from the ipykernel package so we can avoid doing imports until\n"
          ]
        }
      ]
    },
    {
      "cell_type": "code",
      "source": [
        "from sys import getsizeof\n",
        "getsizeof(vectors_arr)"
      ],
      "metadata": {
        "colab": {
          "base_uri": "https://localhost:8080/"
        },
        "id": "r9xrnLWqeqgZ",
        "outputId": "5312aec3-4fbf-48f4-a607-6ec1853abce8"
      },
      "execution_count": 12,
      "outputs": [
        {
          "output_type": "execute_result",
          "data": {
            "text/plain": [
              "457360"
            ]
          },
          "metadata": {},
          "execution_count": 12
        }
      ]
    },
    {
      "cell_type": "markdown",
      "source": [
        "**save embedded words in csv file(too large!)>500mb**"
      ],
      "metadata": {
        "id": "zKUfDhLtfyOP"
      }
    },
    {
      "cell_type": "code",
      "source": [
        "# #save vctors to array\n",
        "# import csv\n",
        "# with open('vectors_arr.csv', 'w', newline='') as file:\n",
        "#     mywriter = csv.writer(file, delimiter=',')\n",
        "#     mywriter.writerows(vectors_arr)"
      ],
      "metadata": {
        "id": "272mlR6Uf7ID"
      },
      "execution_count": null,
      "outputs": []
    },
    {
      "cell_type": "code",
      "source": [
        "#to realease memory\n",
        "tokens_arr=[]\n",
        "tokens_array=[]"
      ],
      "metadata": {
        "id": "l8oE5RuA3tGi"
      },
      "execution_count": 12,
      "outputs": []
    },
    {
      "cell_type": "markdown",
      "source": [
        "# **Prepare Train data for train**"
      ],
      "metadata": {
        "id": "AFIGQ6GpIdOm"
      }
    },
    {
      "cell_type": "markdown",
      "source": [
        "## **Vectors**"
      ],
      "metadata": {
        "id": "lt6Xp_H2yD7w"
      }
    },
    {
      "cell_type": "markdown",
      "source": [
        "**lenght of vectors**"
      ],
      "metadata": {
        "id": "nAFe4RyvJAEc"
      }
    },
    {
      "cell_type": "code",
      "source": [
        "vectors_len = [len(x) for x in vectors_arr]\n",
        "vectors=np.array(vectors_len)\n",
        "max_vector_len=max(vectors_len)"
      ],
      "metadata": {
        "id": "2CU21PMvJA4W"
      },
      "execution_count": 13,
      "outputs": []
    },
    {
      "cell_type": "code",
      "source": [
        "max_vector_len"
      ],
      "metadata": {
        "colab": {
          "base_uri": "https://localhost:8080/"
        },
        "id": "IonLx-JxtqX0",
        "outputId": "32a0f0f0-d9a1-47f5-9d61-c1fc7db92b54"
      },
      "execution_count": 14,
      "outputs": [
        {
          "output_type": "execute_result",
          "data": {
            "text/plain": [
              "351"
            ]
          },
          "metadata": {},
          "execution_count": 14
        }
      ]
    },
    {
      "cell_type": "code",
      "source": [
        "#to realease memory\n",
        "vectors_len=[]"
      ],
      "metadata": {
        "id": "DKrzKaYj4glL"
      },
      "execution_count": 15,
      "outputs": []
    },
    {
      "cell_type": "markdown",
      "source": [
        "**Add padding to short comemnts**"
      ],
      "metadata": {
        "id": "D4AiL_A8flt8"
      }
    },
    {
      "cell_type": "code",
      "source": [
        "#add padding vetor 0\n",
        "padding_vec=[0.0]*100\n",
        "padding_vec=np.array(padding_vec)\n",
        "pad_embedded_array=[]\n",
        "for vector in vectors_arr:\n",
        "  if len(vector)<max_vector_len:\n",
        "    padding=[padding_vec]*(max_vector_len-len(vector))\n",
        "    vector=vector+padding\n",
        "  pad_embedded_array.append(vector)"
      ],
      "metadata": {
        "id": "Rd9peTdEJDNa"
      },
      "execution_count": 16,
      "outputs": []
    },
    {
      "cell_type": "markdown",
      "source": [
        "## **Labels**"
      ],
      "metadata": {
        "id": "hLTj__IoyGwc"
      }
    },
    {
      "cell_type": "code",
      "source": [
        "l=train_df[\"label_id\"]"
      ],
      "metadata": {
        "id": "CMbeou2_ycXU"
      },
      "execution_count": 17,
      "outputs": []
    },
    {
      "cell_type": "code",
      "source": [
        "#to release memory\n",
        "\n",
        "train_df=[]"
      ],
      "metadata": {
        "id": "TdcqvNTV49zt"
      },
      "execution_count": 18,
      "outputs": []
    },
    {
      "cell_type": "markdown",
      "source": [
        "# **Traingin LSTM**"
      ],
      "metadata": {
        "id": "NqEwwNd9-c0b"
      }
    },
    {
      "cell_type": "markdown",
      "source": [
        "**Import tensowerflow**"
      ],
      "metadata": {
        "id": "AMs2mRtE-jLl"
      }
    },
    {
      "cell_type": "code",
      "source": [
        "import tensorflow as tf\n",
        "print(tf.__version__)"
      ],
      "metadata": {
        "colab": {
          "base_uri": "https://localhost:8080/"
        },
        "id": "ZA6RlQ-O-cWy",
        "outputId": "db238b29-6b6e-467b-878e-5368a66a62cc"
      },
      "execution_count": 19,
      "outputs": [
        {
          "output_type": "stream",
          "name": "stdout",
          "text": [
            "2.7.0\n"
          ]
        }
      ]
    },
    {
      "cell_type": "code",
      "source": [
        "SEED = 42\n",
        "AUTOTUNE = tf.data.AUTOTUNE"
      ],
      "metadata": {
        "id": "kFOXJkCERyEV"
      },
      "execution_count": 20,
      "outputs": []
    },
    {
      "cell_type": "code",
      "source": [
        "# Load the TensorBoard notebook extension\n",
        "%load_ext tensorboard"
      ],
      "metadata": {
        "id": "STW4J4Z1RvBu"
      },
      "execution_count": 21,
      "outputs": []
    },
    {
      "cell_type": "code",
      "source": [
        "# from keras.layers import Embedding\n",
        "from keras.layers import Input\n",
        "# from keras.layers import TimeDistributed, Bidirectional\n",
        "from keras.layers import LSTM\n",
        "from keras.models import Model\n",
        "from keras.layers.core import Dense, Dropout,Activation\n",
        "# import tqdm\n",
        "from tensorflow.keras import layers\n",
        "from tensorflow.keras.preprocessing import sequence\n",
        "# from tensorflow.python.keras.layers import Input\n",
        "from keras.models import Sequential\n",
        "# from my_classes import DataGenerator\n",
        "# from keras.layers.embeddings import Embedding\n",
        "# from keras.preprocessing import sequence"
      ],
      "metadata": {
        "id": "duQzlsUJr235"
      },
      "execution_count": 22,
      "outputs": []
    },
    {
      "cell_type": "code",
      "source": [
        "import pathlib\n",
        "import os\n",
        "np.set_printoptions(precision=4)\n"
      ],
      "metadata": {
        "id": "CurworWsOQd9"
      },
      "execution_count": 34,
      "outputs": []
    },
    {
      "cell_type": "markdown",
      "source": [
        "**Create Model**"
      ],
      "metadata": {
        "id": "xUzPX6jrJpmw"
      }
    },
    {
      "cell_type": "code",
      "source": [
        "nb_samples = len(padding_vec)#55000\n",
        "time_steps=max_vector_len#74\n",
        "input_dim=100 #100\n",
        "input_shape=(time_steps,input_dim)\n",
        "n_epoch=6\n",
        "batch_size=32"
      ],
      "metadata": {
        "id": "l9G7CEQTZXkH"
      },
      "execution_count": 38,
      "outputs": []
    },
    {
      "cell_type": "code",
      "source": [
        "# create the model\n",
        "# embedding_weights = np.zeros((n_symbols, vocab_dim))\n",
        "lstm_model = Sequential()\n",
        "# model.add(LSTM(3NumberOfLSTM, return_sequences=True,input_shape=(YourSequenceLenght, YourWord2VecLenght)))\n",
        "lstm_model.add(LSTM(batch_size,return_sequences=True, input_shape=input_shape))\n",
        "lstm_model.add(Dropout(0.2))\n",
        "lstm_model.add(Dense(40, activation='softmax'))\n",
        "# lstm_model.add(Dense(20, activation='softmax'))\n",
        "lstm_model.add(Dense(1, activation='softmax'))\n",
        "lstm_model.add(Activation('sigmoid'))\n",
        "# lstm_model.add(Activation('softmax'))\n",
        "print('Compiling the Model...')\n",
        "lstm_model.compile(loss='binary_crossentropy', optimizer='adam', metrics=['accuracy'])\n",
        "lstm_model.summary()"
      ],
      "metadata": {
        "id": "afQhD8HCtZzq",
        "colab": {
          "base_uri": "https://localhost:8080/"
        },
        "outputId": "10802415-fb40-4c00-e72d-63d0d96e5400"
      },
      "execution_count": 39,
      "outputs": [
        {
          "output_type": "stream",
          "name": "stdout",
          "text": [
            "Compiling the Model...\n",
            "Model: \"sequential_4\"\n",
            "_________________________________________________________________\n",
            " Layer (type)                Output Shape              Param #   \n",
            "=================================================================\n",
            " lstm_4 (LSTM)               (None, 351, 32)           17024     \n",
            "                                                                 \n",
            " dropout_2 (Dropout)         (None, 351, 32)           0         \n",
            "                                                                 \n",
            " dense_4 (Dense)             (None, 351, 40)           1320      \n",
            "                                                                 \n",
            " dense_5 (Dense)             (None, 351, 1)            41        \n",
            "                                                                 \n",
            " activation_2 (Activation)   (None, 351, 1)            0         \n",
            "                                                                 \n",
            "=================================================================\n",
            "Total params: 18,385\n",
            "Trainable params: 18,385\n",
            "Non-trainable params: 0\n",
            "_________________________________________________________________\n"
          ]
        }
      ]
    },
    {
      "cell_type": "code",
      "source": [
        "import keras.utils\n",
        "class DataGenerator(keras.utils.Sequence):\n",
        "    'Generates data for Keras'\n",
        "    def __init__(self, list_IDs, labels, batch_size=32, dim=(32,32,32), n_channels=1,\n",
        "                 n_classes=10, shuffle=True):\n",
        "        'Initialization'\n",
        "        self.dim = dim\n",
        "        self.batch_size = batch_size\n",
        "        self.labels = labels\n",
        "        self.list_IDs = list_IDs\n",
        "        self.n_channels = n_channels\n",
        "        self.n_classes = n_classes\n",
        "        self.shuffle = shuffle\n",
        "        self.on_epoch_end()\n",
        "\n",
        "    def __len__(self):\n",
        "        'Denotes the number of batches per epoch'\n",
        "        return int(np.floor(len(self.list_IDs) / self.batch_size))\n",
        "\n",
        "    def __getitem__(self, index):\n",
        "        'Generate one batch of data'\n",
        "        # Generate indexes of the batch\n",
        "        indexes = self.indexes[index*self.batch_size:(index+1)*self.batch_size]\n",
        "\n",
        "        # Find list of IDs\n",
        "        list_IDs_temp = [self.list_IDs[k] for k in indexes]\n",
        "\n",
        "        # Generate data\n",
        "        X, y = self.__data_generation(list_IDs_temp)\n",
        "\n",
        "        return X, y\n",
        "\n",
        "    def on_epoch_end(self):\n",
        "        'Updates indexes after each epoch'\n",
        "        self.indexes = np.arange(len(self.list_IDs))\n",
        "        if self.shuffle == True:\n",
        "            np.random.shuffle(self.indexes)\n",
        "\n",
        "    def __data_generation(self, list_IDs_temp):\n",
        "        'Generates data containing batch_size samples' # X : (n_samples, *dim, n_channels)\n",
        "        # Initialization\n",
        "        X = np.empty((self.batch_size, *self.dim, self.n_channels))\n",
        "        y = np.empty((self.batch_size), dtype=int)\n",
        "\n",
        "        # Generate data\n",
        "        for i, ID in enumerate(list_IDs_temp):\n",
        "            # Store sample\n",
        "            X[i,] = np.load('data/' + ID + '.npy')\n",
        "\n",
        "            # Store class\n",
        "            y[i] = self.labels[ID]\n",
        "\n",
        "        return X, keras.utils.to_categorical(y, num_classes=self.n_classes)"
      ],
      "metadata": {
        "colab": {
          "base_uri": "https://localhost:8080/",
          "height": 243
        },
        "id": "-syjBpPZT0kc",
        "outputId": "3f751665-df7a-4f96-f05f-94c5de0ca9e2"
      },
      "execution_count": 41,
      "outputs": [
        {
          "output_type": "error",
          "ename": "AttributeError",
          "evalue": "ignored",
          "traceback": [
            "\u001b[0;31m---------------------------------------------------------------------------\u001b[0m",
            "\u001b[0;31mAttributeError\u001b[0m                            Traceback (most recent call last)",
            "\u001b[0;32m<ipython-input-41-9e0c099c3b77>\u001b[0m in \u001b[0;36m<module>\u001b[0;34m()\u001b[0m\n\u001b[1;32m      1\u001b[0m \u001b[0;32mimport\u001b[0m \u001b[0mkeras\u001b[0m\u001b[0;34m.\u001b[0m\u001b[0mutils\u001b[0m\u001b[0;34m\u001b[0m\u001b[0;34m\u001b[0m\u001b[0m\n\u001b[0;32m----> 2\u001b[0;31m \u001b[0;32mclass\u001b[0m \u001b[0mDataGenerator\u001b[0m\u001b[0;34m(\u001b[0m\u001b[0mkeras\u001b[0m\u001b[0;34m.\u001b[0m\u001b[0mutils\u001b[0m\u001b[0;34m.\u001b[0m\u001b[0mSequence\u001b[0m\u001b[0;34m)\u001b[0m\u001b[0;34m:\u001b[0m\u001b[0;34m\u001b[0m\u001b[0;34m\u001b[0m\u001b[0m\n\u001b[0m\u001b[1;32m      3\u001b[0m     \u001b[0;34m'Generates data for Keras'\u001b[0m\u001b[0;34m\u001b[0m\u001b[0;34m\u001b[0m\u001b[0m\n\u001b[1;32m      4\u001b[0m     def __init__(self, list_IDs, labels, batch_size=32, dim=(32,32,32), n_channels=1,\n\u001b[1;32m      5\u001b[0m                  n_classes=10, shuffle=True):\n",
            "\u001b[0;31mAttributeError\u001b[0m: module 'keras.utils' has no attribute 'Sequence'"
          ]
        }
      ]
    },
    {
      "cell_type": "markdown",
      "source": [
        "**Train model**"
      ],
      "metadata": {
        "id": "JroXBQS7UIdT"
      }
    },
    {
      "cell_type": "code",
      "source": [
        "from keras.callbacks import EarlyStopping\n",
        "from keras.callbacks import ModelCheckpoint\n",
        "es = EarlyStopping(monitor='val_loss', mode='min', verbose=1, patience=200)\n",
        "checkpoint = ModelCheckpoint('best_model.h5', monitor='loss', mode='max', verbose=1, save_best_only=True)\n",
        "x_train=pad_embedded_array\n",
        "# tf.data.Dataset.from_tensors(pad_embedded_array)\n",
        "y_train=l"
      ],
      "metadata": {
        "id": "NAqIp6WHkNLH"
      },
      "execution_count": null,
      "outputs": []
    },
    {
      "cell_type": "code",
      "source": [
        "print( \"Train...\" )# batch_size=32\n",
        "history =lstm_model.fit(x_train, y_train, batch_size=batch_size, epochs=n_epoch,verbose=1,callbacks=[es, checkpoint])\n",
        "# history = model.fit(X_train, Y_train, epochs=epochs, batch_size=batch_size,validation_split=0.1,\n",
        "#                     callbacks=[EarlyStopping(monitor='val_loss', patience=3, min_delta=0.0001)])"
      ],
      "metadata": {
        "id": "33pD13gjeIBY"
      },
      "execution_count": null,
      "outputs": []
    },
    {
      "cell_type": "code",
      "source": [
        "# import torch\n",
        "\n",
        "# from torch.utils.data import TensorDataset, DataLoader,Dataset\n",
        "# import torchvision\n",
        "# import torch.nn as nn\n",
        "# class MyDataset(Dataset):\n",
        " \n",
        "#   def __init__(self,dataframeX_name,dataframey_name):\n",
        "#     priceX_df = dataframeX_name\n",
        "#     pricey_df = dataframey_name\n",
        " \n",
        "#     x = priceX_df\n",
        "#     y = pricey_df.loc[:,\"label_id\"].values\n",
        " \n",
        "#     self.x_train=torch.tensor(x,dtype=torch.float32)\n",
        "#     self.y_train=torch.tensor(y,dtype=torch.float32)\n",
        " \n",
        "#   def __len__(self):\n",
        "#     return len(self.y_train)\n",
        "   \n",
        "#   def __ge‏\n",
        "# ‪xed-kcap-oic‬‏"
      ],
      "metadata": {
        "id": "Jv5DjKtIfJDS"
      },
      "execution_count": null,
      "outputs": []
    },
    {
      "cell_type": "markdown",
      "source": [
        "# **TEST**"
      ],
      "metadata": {
        "id": "UreTD_0VrQX7"
      }
    },
    {
      "cell_type": "markdown",
      "source": [
        "**Prepare test data**"
      ],
      "metadata": {
        "id": "EhYe5oaxrQIH"
      }
    },
    {
      "cell_type": "code",
      "source": [
        "# test_token_df['tokenized_sents'] = test_token_df.apply(lambda row: fa_nlp(row['comment']).sentences.words.text, axis=1)\n",
        "test_tokenized_array=[]\n",
        "for i in range(0,len(dev_df)):\n",
        "  comment=dev_df.iloc[i][\"comment\"]\n",
        "  tokenized_comment = fa_nlp(comment)\n",
        "  tokens_array=[]\n",
        "  for i,sent in enumerate(tokenized_comment.sentences):\n",
        "    for word in sent.words:\n",
        "      tokens_array.append(word.text)\n",
        "  test_tokenized_array.append(tokens_array)\n",
        "#word.text, word.lemma, word.pos, word.head, word.deprel))"
      ],
      "metadata": {
        "colab": {
          "base_uri": "https://localhost:8080/"
        },
        "id": "za1Mh2FusjYN",
        "outputId": "9c3bcbab-9b47-4e76-dd90-887651b979a0"
      },
      "execution_count": 74,
      "outputs": [
        {
          "output_type": "stream",
          "name": "stderr",
          "text": [
            "/usr/local/lib/python3.7/dist-packages/stanza/models/common/beam.py:86: UserWarning: __floordiv__ is deprecated, and its behavior will change in a future version of pytorch. It currently rounds toward 0 (like the 'trunc' function NOT 'floor'). This results in incorrect rounding for negative values. To keep the current behavior, use torch.div(a, b, rounding_mode='trunc'), or for actual floor division, use torch.div(a, b, rounding_mode='floor').\n",
            "  prevK = bestScoresId // numWords\n"
          ]
        }
      ]
    },
    {
      "cell_type": "code",
      "source": [
        "len(test_tokenized_array)"
      ],
      "metadata": {
        "colab": {
          "base_uri": "https://localhost:8080/"
        },
        "id": "HAKJh43cosrq",
        "outputId": "030aba51-afab-4b26-bc97-36d4f8c14243"
      },
      "execution_count": 96,
      "outputs": [
        {
          "output_type": "execute_result",
          "data": {
            "text/plain": [
              "6300"
            ]
          },
          "metadata": {},
          "execution_count": 96
        }
      ]
    },
    {
      "cell_type": "code",
      "source": [
        "(test_tokenized_array[0])"
      ],
      "metadata": {
        "colab": {
          "base_uri": "https://localhost:8080/"
        },
        "id": "J-BEqALwouGA",
        "outputId": "29ace3d1-2036-45bc-e5e5-59f5124ea8c9"
      },
      "execution_count": 77,
      "outputs": [
        {
          "output_type": "execute_result",
          "data": {
            "text/plain": [
              "['همه',\n",
              " 'ساندویچ\\u200cها',\n",
              " 'سرد',\n",
              " 'بود',\n",
              " 'متاسفانه',\n",
              " 'در',\n",
              " 'صورتی',\n",
              " 'که',\n",
              " 'فاصله',\n",
              " 'تا',\n",
              " 'رستوران',\n",
              " 'کمتر',\n",
              " 'از',\n",
              " '۵',\n",
              " 'دقیقه',\n",
              " 'است',\n",
              " '.']"
            ]
          },
          "metadata": {},
          "execution_count": 77
        }
      ]
    },
    {
      "cell_type": "code",
      "source": [
        "# pd.DataFrame(test_tokenized_array).to_csv('testtokens_df.csv')"
      ],
      "metadata": {
        "id": "8G3C0ab0pjUD"
      },
      "execution_count": 79,
      "outputs": []
    },
    {
      "cell_type": "code",
      "source": [
        "# #save tokens to array\n",
        "# import csv\n",
        "# with open('test_tokens_array.csv', 'w', newline='') as file:\n",
        "#     mywriter = csv.writer(file, delimiter=',')\n",
        "#     mywriter.writerows(test_tokenized_arr)"
      ],
      "metadata": {
        "id": "6Zb2BlXOsrFL"
      },
      "execution_count": null,
      "outputs": []
    },
    {
      "cell_type": "code",
      "source": [
        "# #read test array csv file\n",
        "# test_tokens_csv=pd.read_csv(\"/content/drive/MyDrive/Colab Notebooks/testtokens_df.csv\",header=None)#test_tokens_array.csv\"\n",
        "# test_tokens_arr=test_tokens_csv.to_numpy()"
      ],
      "metadata": {
        "id": "fVYoLxHZ16y3",
        "colab": {
          "base_uri": "https://localhost:8080/"
        },
        "outputId": "f5822169-b6dd-4194-c950-ac702c6d218e"
      },
      "execution_count": 85,
      "outputs": [
        {
          "output_type": "stream",
          "name": "stderr",
          "text": [
            "/usr/local/lib/python3.7/dist-packages/IPython/core/interactiveshell.py:2718: DtypeWarning: Columns (186,187,188,189,190,191,192,193,194,195,196,197,198,199,200,201,202,203,204,205,206,207) have mixed types.Specify dtype option on import or set low_memory=False.\n",
            "  interactivity=interactivity, compiler=compiler, result=result)\n"
          ]
        }
      ]
    },
    {
      "cell_type": "code",
      "source": [
        "test_vectors_arr=[]\n",
        "for sent in test_tokens_arr:\n",
        "  vec_vocab=[model[word] for word in sent if word in vocabulary]\n",
        "  test_vectors_arr.append(vec_vocab)"
      ],
      "metadata": {
        "id": "F8iIMQQB5bK3"
      },
      "execution_count": 116,
      "outputs": []
    },
    {
      "cell_type": "code",
      "source": [
        "# vectors_test_len = [len(x) for x in test_vectors_arr]\n",
        "# vectors_test_len=np.array(vectors_test_len)\n",
        "# max_vector_test_len=max(vectors_test_len)\n",
        "# max_vector_test_len"
      ],
      "metadata": {
        "colab": {
          "base_uri": "https://localhost:8080/"
        },
        "id": "M_QhyY6Yrj4w",
        "outputId": "04ab64a1-9148-44da-82c0-1ba91a74446f"
      },
      "execution_count": 117,
      "outputs": [
        {
          "output_type": "execute_result",
          "data": {
            "text/plain": [
              "79"
            ]
          },
          "metadata": {},
          "execution_count": 117
        }
      ]
    },
    {
      "cell_type": "code",
      "source": [
        "max_vector_test_len=80\n",
        "#add padding vetor 0\n",
        "padding_vec=[0.0]*100\n",
        "padding_vec=np.array(padding_vec)\n",
        "pad_vec_test_array=[]\n",
        "for vector in test_vectors_arr:\n",
        "  if len(vector)<max_vector_test_len:\n",
        "    padding=[padding_vec]*(max_vector_test_len-len(vector))\n",
        "    vector=vector+padding\n",
        "  pad_vec_test_array.append(vector)"
      ],
      "metadata": {
        "id": "V68Fivs05vvV"
      },
      "execution_count": 118,
      "outputs": []
    },
    {
      "cell_type": "code",
      "source": [
        "x_test=pad_vec_test_array\n",
        "y_test=dev_df[\"label_id\"]"
      ],
      "metadata": {
        "id": "A9KrDqLU6WVk"
      },
      "execution_count": 121,
      "outputs": []
    },
    {
      "cell_type": "code",
      "source": [
        "# evaluate the model\n",
        "scores = lstm_model.evaluate(x_test, y_test, verbose=0)"
      ],
      "metadata": {
        "id": "XtQbe-34pcgg"
      },
      "execution_count": null,
      "outputs": []
    },
    {
      "cell_type": "markdown",
      "source": [
        "Test Model"
      ],
      "metadata": {
        "id": "FxM6cODEUKL5"
      }
    }
  ]
}